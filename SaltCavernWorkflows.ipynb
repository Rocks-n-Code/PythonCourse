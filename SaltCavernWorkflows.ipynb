{
  "nbformat": 4,
  "nbformat_minor": 0,
  "metadata": {
    "colab": {
      "provenance": [],
      "authorship_tag": "ABX9TyPboDQsOhGr/+Vv8QtCOw3X",
      "include_colab_link": true
    },
    "kernelspec": {
      "name": "python3",
      "display_name": "Python 3"
    },
    "language_info": {
      "name": "python"
    }
  },
  "cells": [
    {
      "cell_type": "markdown",
      "metadata": {
        "id": "view-in-github",
        "colab_type": "text"
      },
      "source": [
        "<a href=\"https://colab.research.google.com/github/Rocks-n-Code/PythonCourse/blob/master/SaltCavernWorkflows.ipynb\" target=\"_parent\"><img src=\"https://colab.research.google.com/assets/colab-badge.svg\" alt=\"Open In Colab\"/></a>"
      ]
    },
    {
      "cell_type": "markdown",
      "source": [
        "# Salt Cavern Workflows with Python\n",
        "\n",
        "- Well spot creation with *geopandas*\n",
        "- Well deviation survey with *wellpathpy*\n",
        "- Sonar file processing with *SaltPy*\n",
        "- 3D Visualization with *PyVista*"
      ],
      "metadata": {
        "id": "Y8ZtRc2M5CoW"
      }
    },
    {
      "cell_type": "code",
      "execution_count": 26,
      "metadata": {
        "id": "UbFEFar14zSt"
      },
      "outputs": [],
      "source": [
        "import pandas as pd\n",
        "import geopandas as gpd\n",
        "import numpy as np\n",
        "from shapely import Point, LineString\n",
        "import folium\n",
        "import folium.plugins as plugins\n",
        "\n",
        "pd.set_option('display.max_columns', None)"
      ]
    },
    {
      "cell_type": "markdown",
      "source": [
        "___\n",
        "\n",
        "Let's make a GIS file for the location of well. In this case we will use PPG007B as an example.\n",
        "\n",
        "\n",
        "\n",
        "\n",
        "*All data is publically avalible through [SONRIS](https://sonlite.dnr.state.la.us/ords/f?p=108:2).*\n",
        "\n",
        "[PPG 007B Deviation Survey](https://sonlite.dnr.state.la.us/dnrservices/redirectUrl.jsp?dDocname=14325104&showInline=True)\n",
        "\n"
      ],
      "metadata": {
        "id": "XbrBCnHoBk51"
      }
    },
    {
      "cell_type": "code",
      "source": [
        "x,y,z = 2623600.00, 643684.00, 12.6\n",
        "crs = 'EPSG:26982'\n",
        "crs = 'ESRI:103058'\n",
        "crs = 'EPSG:3452'\n",
        "point = Point(x,y,z)\n",
        "print(point)\n",
        "\n",
        "wells = gpd.GeoDataFrame({'Well_No':['PPG-007B'],\n",
        "                          'serial_no':[67270],\n",
        "                          'geometry':[point]},\n",
        "                         crs=crs)\n",
        "wells.plot()"
      ],
      "metadata": {
        "colab": {
          "base_uri": "https://localhost:8080/",
          "height": 235
        },
        "id": "gZzJrZzmBs16",
        "outputId": "4428577b-ecc1-4215-cdf6-e878f8fa7c1a"
      },
      "execution_count": 19,
      "outputs": [
        {
          "output_type": "stream",
          "name": "stdout",
          "text": [
            "POINT Z (2623600 643684 12.6)\n"
          ]
        },
        {
          "output_type": "execute_result",
          "data": {
            "text/plain": [
              "<Axes: >"
            ]
          },
          "metadata": {},
          "execution_count": 19
        },
        {
          "output_type": "display_data",
          "data": {
            "text/plain": [
              "<Figure size 640x480 with 1 Axes>"
            ],
            "image/png": "[encoded data removed]"
          },
          "metadata": {}
        }
      ]
    },
    {
      "cell_type": "code",
      "source": [
        "# Change Coordinate Referance System\n",
        "wells_wgs84 = wells.to_crs('EPSG:4326')\n",
        "point = wells_wgs84.at[0,'geometry']\n",
        "x0,y0 = [p[0] for p in point.xy]\n",
        "print(x0,y0)\n",
        "\n",
        "## View with Folium\n",
        "m = folium.Map(location=[y0,x0],\n",
        "               tiles='Cartodb dark_matter',\n",
        "               zoom_start=13)\n",
        "\n",
        "# Add a marker\n",
        "folium.Marker(\n",
        "              [y0,x0],\n",
        "              popup='PPG 007B',\n",
        "              icon=plugins.BeautifyIcon(\n",
        "                              icon=\"circle-small\",\n",
        "                              icon_shape=\"circle\",\n",
        "                              border_color='blue',\n",
        "                              background_color='lightblue'\n",
        "                          )\n",
        "              ).add_to(m)\n",
        "\n",
        "m"
      ],
      "metadata": {
        "colab": {
          "base_uri": "https://localhost:8080/",
          "height": 507
        },
        "id": "by8iQnxpHEQM",
        "outputId": "5f7a69b5-87fd-40e9-8fc4-f7de6772301c"
      },
      "execution_count": 28,
      "outputs": [
        {
          "output_type": "stream",
          "name": "stdout",
          "text": [
            "-93.41509792962904 30.25358561957733\n"
          ]
        },
        {
          "output_type": "execute_result",
          "data": {
            "text/plain": [
              "<folium.folium.Map at 0x7d86c08d90d0>"
            ],
            "text/html": [
              "<div style=\"width:100%;\"><div style=\"position:relative;width:100%;height:0;padding-bottom:60%;\"><span style=\"color:#565656\">Make this Notebook Trusted to load map: File -> Trust Notebook</span><iframe srcdoc=\"&lt;!DOCTYPE html&gt;\n",
              "&lt;html&gt;\n",
              "&lt;head&gt;\n",
              "    \n",
              "    &lt;meta http-equiv=&quot;content-type&quot; content=&quot;text/html; charset=UTF-8&quot; /&gt;\n",
              "    &lt;script src=&quot;https://cdn.jsdelivr.net/npm/leaflet@1.9.3/dist/leaflet.js&quot;&gt;&lt;/script&gt;\n",
              "    &lt;script src=&quot;https://code.jquery.com/jquery-3.7.1.min.js&quot;&gt;&lt;/script&gt;\n",
              "    &lt;script src=&quot;https://cdn.jsdelivr.net/npm/bootstrap@5.2.2/dist/js/bootstrap.bundle.min.js&quot;&gt;&lt;/script&gt;\n",
              "    &lt;script src=&quot;https://cdnjs.cloudflare.com/ajax/libs/Leaflet.awesome-markers/2.0.2/leaflet.awesome-markers.js&quot;&gt;&lt;/script&gt;\n",
              "    &lt;link rel=&quot;stylesheet&quot; href=&quot;https://cdn.jsdelivr.net/npm/leaflet@1.9.3/dist/leaflet.css&quot;/&gt;\n",
              "    &lt;link rel=&quot;stylesheet&quot; href=&quot;https://cdn.jsdelivr.net/npm/bootstrap@5.2.2/dist/css/bootstrap.min.css&quot;/&gt;\n",
              "    &lt;link rel=&quot;stylesheet&quot; href=&quot;https://netdna.bootstrapcdn.com/bootstrap/3.0.0/css/bootstrap-glyphicons.css&quot;/&gt;\n",
              "    &lt;link rel=&quot;stylesheet&quot; href=&quot;https://cdn.jsdelivr.net/npm/@fortawesome/fontawesome-free@6.2.0/css/all.min.css&quot;/&gt;\n",
              "    &lt;link rel=&quot;stylesheet&quot; href=&quot;https://cdnjs.cloudflare.com/ajax/libs/Leaflet.awesome-markers/2.0.2/leaflet.awesome-markers.css&quot;/&gt;\n",
              "    &lt;link rel=&quot;stylesheet&quot; href=&quot;https://cdn.jsdelivr.net/gh/python-visualization/folium/folium/templates/leaflet.awesome.rotate.min.css&quot;/&gt;\n",
              "    \n",
              "            &lt;meta name=&quot;viewport&quot; content=&quot;width=device-width,\n",
              "                initial-scale=1.0, maximum-scale=1.0, user-scalable=no&quot; /&gt;\n",
              "            &lt;style&gt;\n",
              "                #map_e78cccc95a50256e8da25fbd3efe670c {\n",
              "                    position: relative;\n",
              "                    width: 100.0%;\n",
              "                    height: 100.0%;\n",
              "                    left: 0.0%;\n",
              "                    top: 0.0%;\n",
              "                }\n",
              "                .leaflet-container { font-size: 1rem; }\n",
              "            &lt;/style&gt;\n",
              "\n",
              "            &lt;style&gt;html, body {\n",
              "                width: 100%;\n",
              "                height: 100%;\n",
              "                margin: 0;\n",
              "                padding: 0;\n",
              "            }\n",
              "            &lt;/style&gt;\n",
              "\n",
              "            &lt;style&gt;#map {\n",
              "                position:absolute;\n",
              "                top:0;\n",
              "                bottom:0;\n",
              "                right:0;\n",
              "                left:0;\n",
              "                }\n",
              "            &lt;/style&gt;\n",
              "\n",
              "            &lt;script&gt;\n",
              "                L_NO_TOUCH = false;\n",
              "                L_DISABLE_3D = false;\n",
              "            &lt;/script&gt;\n",
              "\n",
              "        \n",
              "    &lt;script src=&quot;https://cdn.jsdelivr.net/gh/marslan390/BeautifyMarker/leaflet-beautify-marker-icon.min.js&quot;&gt;&lt;/script&gt;\n",
              "    &lt;link rel=&quot;stylesheet&quot; href=&quot;https://cdn.jsdelivr.net/gh/marslan390/BeautifyMarker/leaflet-beautify-marker-icon.min.css&quot;/&gt;\n",
              "&lt;/head&gt;\n",
              "&lt;body&gt;\n",
              "    \n",
              "    \n",
              "            &lt;div class=&quot;folium-map&quot; id=&quot;map_e78cccc95a50256e8da25fbd3efe670c&quot; &gt;&lt;/div&gt;\n",
              "        \n",
              "&lt;/body&gt;\n",
              "&lt;script&gt;\n",
              "    \n",
              "    \n",
              "            var map_e78cccc95a50256e8da25fbd3efe670c = L.map(\n",
              "                &quot;map_e78cccc95a50256e8da25fbd3efe670c&quot;,\n",
              "                {\n",
              "                    center: [30.25358561957733, -93.41509792962904],\n",
              "                    crs: L.CRS.EPSG3857,\n",
              "                    ...{\n",
              "  &quot;zoom&quot;: 13,\n",
              "  &quot;zoomControl&quot;: true,\n",
              "  &quot;preferCanvas&quot;: false,\n",
              "}\n",
              "\n",
              "                }\n",
              "            );\n",
              "\n",
              "            \n",
              "\n",
              "        \n",
              "    \n",
              "            var tile_layer_7849cccb7d376587ded4faaf502eb75b = L.tileLayer(\n",
              "                &quot;https://{s}.basemaps.cartocdn.com/dark_all/{z}/{x}/{y}{r}.png&quot;,\n",
              "                {\n",
              "  &quot;minZoom&quot;: 0,\n",
              "  &quot;maxZoom&quot;: 20,\n",
              "  &quot;maxNativeZoom&quot;: 20,\n",
              "  &quot;noWrap&quot;: false,\n",
              "  &quot;attribution&quot;: &quot;\\u0026copy; \\u003ca href=\\&quot;https://www.openstreetmap.org/copyright\\&quot;\\u003eOpenStreetMap\\u003c/a\\u003e contributors \\u0026copy; \\u003ca href=\\&quot;https://carto.com/attributions\\&quot;\\u003eCARTO\\u003c/a\\u003e&quot;,\n",
              "  &quot;subdomains&quot;: &quot;abcd&quot;,\n",
              "  &quot;detectRetina&quot;: false,\n",
              "  &quot;tms&quot;: false,\n",
              "  &quot;opacity&quot;: 1,\n",
              "}\n",
              "\n",
              "            );\n",
              "        \n",
              "    \n",
              "            tile_layer_7849cccb7d376587ded4faaf502eb75b.addTo(map_e78cccc95a50256e8da25fbd3efe670c);\n",
              "        \n",
              "    \n",
              "            var marker_d42a49ee44f751e6df699407b9165471 = L.marker(\n",
              "                [30.25358561957733, -93.41509792962904],\n",
              "                {\n",
              "}\n",
              "            ).addTo(map_e78cccc95a50256e8da25fbd3efe670c);\n",
              "        \n",
              "    \n",
              "            var beautify_icon_cea38e90a3fa46df02a2fcdb0fdf4c97 = new L.BeautifyIcon.icon(\n",
              "                {\n",
              "  &quot;icon&quot;: &quot;circle-small&quot;,\n",
              "  &quot;iconShape&quot;: &quot;circle&quot;,\n",
              "  &quot;borderWidth&quot;: 3,\n",
              "  &quot;borderColor&quot;: &quot;blue&quot;,\n",
              "  &quot;textColor&quot;: &quot;#000&quot;,\n",
              "  &quot;backgroundColor&quot;: &quot;lightblue&quot;,\n",
              "  &quot;innerIconStyle&quot;: &quot;&quot;,\n",
              "  &quot;spin&quot;: false,\n",
              "  &quot;isAlphaNumericIcon&quot;: false,\n",
              "}\n",
              "            )\n",
              "            marker_d42a49ee44f751e6df699407b9165471.setIcon(beautify_icon_cea38e90a3fa46df02a2fcdb0fdf4c97);\n",
              "        \n",
              "    \n",
              "        var popup_3ec36aa3f33764af93661adbd4d3055d = L.popup({\n",
              "  &quot;maxWidth&quot;: &quot;100%&quot;,\n",
              "});\n",
              "\n",
              "        \n",
              "            \n",
              "                var html_9504713de59b447d546179407e01674e = $(`&lt;div id=&quot;html_9504713de59b447d546179407e01674e&quot; style=&quot;width: 100.0%; height: 100.0%;&quot;&gt;PPG 007B&lt;/div&gt;`)[0];\n",
              "                popup_3ec36aa3f33764af93661adbd4d3055d.setContent(html_9504713de59b447d546179407e01674e);\n",
              "            \n",
              "        \n",
              "\n",
              "        marker_d42a49ee44f751e6df699407b9165471.bindPopup(popup_3ec36aa3f33764af93661adbd4d3055d)\n",
              "        ;\n",
              "\n",
              "        \n",
              "    \n",
              "    \n",
              "                marker_d42a49ee44f751e6df699407b9165471.setIcon(beautify_icon_cea38e90a3fa46df02a2fcdb0fdf4c97);\n",
              "            \n",
              "&lt;/script&gt;\n",
              "&lt;/html&gt;\" style=\"position:absolute;width:100%;height:100%;left:0;top:0;border:none !important;\" allowfullscreen webkitallowfullscreen mozallowfullscreen></iframe></div></div>"
            ]
          },
          "metadata": {},
          "execution_count": 28
        }
      ]
    },
    {
      "cell_type": "code",
      "source": [
        "## Save File\n",
        "wells.to_file('./')"
      ],
      "metadata": {
        "id": "Lcm2FS2ZKwdB"
      },
      "execution_count": null,
      "outputs": []
    },
    {
      "cell_type": "code",
      "source": [
        "## Public Data Source\n",
        "# PPG 7\n",
        "# \tDEVIATION SURVEY\n",
        "print'https://sonlite.dnr.state.la.us/dnrservices/redirectUrl.jsp?dDocname=14325104&showInline=True'\n",
        "\n",
        "from pdf2image import convert_from_path\n",
        "\n",
        "images = convert_from_path(url)\n",
        "images[0]  # first page\n"
      ],
      "metadata": {
        "colab": {
          "base_uri": "https://localhost:8080/",
          "height": 402
        },
        "id": "pzTX44jl49Cc",
        "outputId": "1476dbd4-23f5-4ee3-89c4-04b3db79c447"
      },
      "execution_count": 2,
      "outputs": [
        {
          "output_type": "error",
          "ename": "ModuleNotFoundError",
          "evalue": "No module named 'pdf2image'",
          "traceback": [
            "\u001b[0;31m---------------------------------------------------------------------------\u001b[0m",
            "\u001b[0;31mModuleNotFoundError\u001b[0m                       Traceback (most recent call last)",
            "\u001b[0;32m/tmp/ipython-input-3417626329.py\u001b[0m in \u001b[0;36m<cell line: 0>\u001b[0;34m()\u001b[0m\n\u001b[1;32m      4\u001b[0m \u001b[0murl\u001b[0m \u001b[0;34m=\u001b[0m \u001b[0;34m'https://sonlite.dnr.state.la.us/dnrservices/redirectUrl.jsp?dDocname=14325104&showInline=True'\u001b[0m\u001b[0;34m\u001b[0m\u001b[0;34m\u001b[0m\u001b[0m\n\u001b[1;32m      5\u001b[0m \u001b[0;34m\u001b[0m\u001b[0m\n\u001b[0;32m----> 6\u001b[0;31m \u001b[0;32mfrom\u001b[0m \u001b[0mpdf2image\u001b[0m \u001b[0;32mimport\u001b[0m \u001b[0mconvert_from_path\u001b[0m\u001b[0;34m\u001b[0m\u001b[0;34m\u001b[0m\u001b[0m\n\u001b[0m\u001b[1;32m      7\u001b[0m \u001b[0;34m\u001b[0m\u001b[0m\n\u001b[1;32m      8\u001b[0m \u001b[0mimages\u001b[0m \u001b[0;34m=\u001b[0m \u001b[0mconvert_from_path\u001b[0m\u001b[0;34m(\u001b[0m\u001b[0murl\u001b[0m\u001b[0;34m)\u001b[0m\u001b[0;34m\u001b[0m\u001b[0;34m\u001b[0m\u001b[0m\n",
            "\u001b[0;31mModuleNotFoundError\u001b[0m: No module named 'pdf2image'",
            "",
            "\u001b[0;31m---------------------------------------------------------------------------\u001b[0;32m\nNOTE: If your import is failing due to a missing package, you can\nmanually install dependencies using either !pip or !apt.\n\nTo view examples of installing some common dependencies, click the\n\"Open Examples\" button below.\n\u001b[0;31m---------------------------------------------------------------------------\u001b[0m\n"
          ],
          "errorDetails": {
            "actions": [
              {
                "action": "open_url",
                "actionText": "Open Examples",
                "url": "/notebooks/snippets/importing_libraries.ipynb"
              }
            ]
          }
        }
      ]
    },
    {
      "cell_type": "code",
      "source": [
        "import requests\n",
        "from IPython.display import IFrame\n",
        "\n",
        "# Original redirect URL\n",
        "redirect_url = \"https://sonlite.dnr.state.la.us/dnrservices/redirectUrl.jsp?dDocname=14325104&showInline=True\"\n",
        "\n",
        "# Get the actual PDF URL by following the redirect\n",
        "response = requests.get(redirect_url, allow_redirects=True)\n",
        "pdf_url = response.url\n",
        "\n",
        "# Display the final resolved PDF URL (optional)\n",
        "print(\"Resolved PDF URL:\", pdf_url)\n",
        "\n",
        "# Embed the PDF using IFrame\n",
        "IFrame(pdf_url, width=800, height=600)\n"
      ],
      "metadata": {
        "colab": {
          "base_uri": "https://localhost:8080/",
          "height": 658
        },
        "id": "RCw5Mkh6AZxd",
        "outputId": "9bc8bba1-b1ae-4a00-c864-06875580692c"
      },
      "execution_count": 4,
      "outputs": [
        {
          "output_type": "stream",
          "name": "stdout",
          "text": [
            "Resolved PDF URL: https://sonlite.dnr.state.la.us/dnrservices/redirectUrl.jsp?dDocname=14325104&showInline=True\n"
          ]
        },
        {
          "output_type": "execute_result",
          "data": {
            "text/plain": [
              "<IPython.lib.display.IFrame at 0x7d86d1dd2f30>"
            ],
            "text/html": [
              "\n",
              "        <iframe\n",
              "            width=\"800\"\n",
              "            height=\"600\"\n",
              "            src=\"https://sonlite.dnr.state.la.us/dnrservices/redirectUrl.jsp?dDocname=14325104&showInline=True\"\n",
              "            frameborder=\"0\"\n",
              "            allowfullscreen\n",
              "            \n",
              "        ></iframe>\n",
              "        "
            ]
          },
          "metadata": {},
          "execution_count": 4
        }
      ]
    },
    {
      "cell_type": "code",
      "source": [],
      "metadata": {
        "id": "XqO21FPA_wZh"
      },
      "execution_count": null,
      "outputs": []
    }
  ]
}