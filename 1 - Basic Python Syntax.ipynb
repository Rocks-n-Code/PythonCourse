{
 "cells": [
  {
   "cell_type": "markdown",
   "metadata": {},
   "source": [
    "<br>\n",
    "<font size=18 color=\"blue\">Python Kick Start</font><br>\n",
    "<br>\n",
    "<b> 2020.05.05</b><br>\n",
    "<b>Matthew W. Bauer, P.G.</b><br>\n",
    "\n",
    "---\n",
    "\n",
    "### Rules for the day\n",
    "1. Take time.\n",
    "\n",
    "\n",
    "2. Be nice.\n",
    "\n",
    "\n",
    "3. But most of all... ...Have fun!\n",
    "\n",
    "---\n",
    "### Schedule\n",
    "\n",
    "- 08:00 : Installation & Opening Jupyter Notebooks\n",
    "- 09:00 : 1 – Basic Syntax\n",
    "- 10:00 : 2 - Loops, Logic, & Functions\n",
    "- 11:00 : 3 – Pandas & Matplotlib*\n",
    "- 12:00 : Lunch\n",
    "- 12:30 : 4 – Zane’s: Pandas & Cartopy\n",
    "- 13:30 : 5 - Thomas’s: LASIO & Wellly\n",
    "- 14:30 : 6 - Scraping Data\n",
    "- 15:30 : 7 - Unsupervised ML: Log Facies\n",
    "- 16:00 : 8 - Supervised ML: Fractional Lithology from Logs\n",
    "\n",
    "*Dependent on time\n",
    "\n",
    "---\n",
    "Thanks to Rebekah Parks, Vicky Yeap, Thomas Martin, & Zane Jobe."
   ]
  },
  {
   "cell_type": "markdown",
   "metadata": {},
   "source": [
    "# Python\n",
    "\n",
    "I've presented working examples for you in the sections of this course for you to see practical applications of python programing and so you can take them with you. As you learn the language you can use these to tweak these for your own use. Let's get started... click the cell below and hit `Shift` + `Enter`."
   ]
  },
  {
   "cell_type": "code",
   "execution_count": null,
   "metadata": {},
   "outputs": [],
   "source": [
    "import this"
   ]
  },
  {
   "cell_type": "markdown",
   "metadata": {},
   "source": [
    "I've presented working examples for you in the sections of this course for you to see practical applications of python programing and so you can take them with you.  As you learn the language you can use these to tweak these for your own use.\n",
    "\n",
    "\n",
    "What we are going to run through today is only a introduction of python.  Just enough to get you started and decrease the steepness of the learning curve.  Personally I found it much easier to learn, and I'm still [learning](https://www.youtube.com/watch?v=Xzw2iBmRsjs) btw, by using a skill I'm learning rather than taking a course.  For a more indepth introduction there are several excellent free courses avalible online[.](https://www.youtube.com/watch?v=fAH9_2HHGuA)  I personally reccomend Dr. Chuck's [Python for Everybody](https://www.py4e.com/) or [if you need a certificate]( https://www.coursera.org/specializations/python). \n",
    "\n",
    "# Basic Syntax\n",
    "Python lets you store information for use in your code as \"variables\". There are some words that are special, that you can't use as a variable name, but generally just remember that they have to start with a letter and they are case sensitive.\n",
    "\n",
    "There are several types of variables, each with special properties, but the most common you'll use are.\n",
    "-  Strings\n",
    "-  Numbers\n",
    "-  Lists\n",
    "-  Tuples\n",
    "-  Sets\n",
    "-  Dictionaries\n",
    "\n",
    "You can tell python to ignore the rest of a line with a `#` or, if not assigned to a variable name, anything in triple quotes `\"\"\" \"\"\"`.  For windows users you when you paste a path in a string, you'll need to change your slash direction, or use `r` preceding your path.\n",
    "\n",
    "---\n",
    "\n",
    "\n",
    "## Strings\n",
    "\n",
    "Strings are simply collections of characters.  Strings can also have special characters preceded by `\\` in them that aren't always visible, such as `\\n` and `\\r`. Strings are defined by using `\"\"` or `''` around a series of characters. There are special cases where you'll have both quote types in a string when that happens use three `\"\"\" \"\"\"` to surround your string. Let's start assigning strings to a variable name.\n"
   ]
  },
  {
   "cell_type": "code",
   "execution_count": null,
   "metadata": {},
   "outputs": [],
   "source": [
    "name = \"\" #Type your name in the \"\"."
   ]
  },
  {
   "cell_type": "markdown",
   "metadata": {},
   "source": [
    "We can display variables in jupyter notebooks by entering them in a code cell, or by calling the variable in a `print()` function."
   ]
  },
  {
   "cell_type": "code",
   "execution_count": null,
   "metadata": {},
   "outputs": [],
   "source": [
    "name"
   ]
  },
  {
   "cell_type": "code",
   "execution_count": null,
   "metadata": {},
   "outputs": [],
   "source": [
    "print(name)"
   ]
  },
  {
   "cell_type": "markdown",
   "metadata": {},
   "source": [
    "You can also combine items when you display them. In a tuple in jupyter notebooks or using the print command."
   ]
  },
  {
   "cell_type": "code",
   "execution_count": null,
   "metadata": {},
   "outputs": [],
   "source": [
    "'My name is ' + name + '.',\" I'm going to learn to use python to help me be a better geologist.\""
   ]
  },
  {
   "cell_type": "code",
   "execution_count": null,
   "metadata": {},
   "outputs": [],
   "source": [
    "print('My name is ' + name + '.',\" I'm going to learn to use python to help me be a better geologist.\")"
   ]
  },
  {
   "cell_type": "markdown",
   "metadata": {},
   "source": [
    "You can also call individual characters in strings or \"slice\" them. Now when counting in python code you always start with zero, i.e. 0,1,2,3...  Let's call the 2nd letter of your name by using `[]` after the string. Try and select the first vowel of your name."
   ]
  },
  {
   "cell_type": "code",
   "execution_count": null,
   "metadata": {},
   "outputs": [],
   "source": [
    "name[0]"
   ]
  },
  {
   "cell_type": "markdown",
   "metadata": {},
   "source": [
    "We can also slice strings by using `[:]`. Try and select the first 3 chararacters of your name."
   ]
  },
  {
   "cell_type": "code",
   "execution_count": null,
   "metadata": {},
   "outputs": [],
   "source": [
    "name[0:3]"
   ]
  },
  {
   "cell_type": "markdown",
   "metadata": {},
   "source": [
    "Or change it to all caps."
   ]
  },
  {
   "cell_type": "code",
   "execution_count": null,
   "metadata": {},
   "outputs": [],
   "source": [
    "name.upper()"
   ]
  },
  {
   "cell_type": "markdown",
   "metadata": {},
   "source": [
    "We can also split strings by spaces or by defined characters which returns a list of the parts. Try it with JFK's Rice speech."
   ]
  },
  {
   "cell_type": "code",
   "execution_count": null,
   "metadata": {},
   "outputs": [],
   "source": [
    "JFK_19620912 =\"\"\"'President Pitzer, Mr. Vice President, Governor, Congressman Thomas, Senator Wiley, and Congressman Miller, Mr. Webb, Mr. Bell, scientists, distinguished guests, and ladies and gentlemen:\\nI appreciate your president having made me an honorary visiting professor, and I will assure you that my first lecture will be very brief.\\nI am delighted to be here, and I\\'m particularly delighted to be here on this occasion.\\nWe meet at a college noted for knowledge, in a city noted for progress, in a State noted for strength, and we stand in need of all three, for we meet in an hour of change and challenge, in a decade of hope and fear, in an age of both knowledge and ignorance. The greater our knowledge increases, the greater our ignorance unfolds.\\nDespite the striking fact that most of the scientists that the world has ever known are alive and working today, despite the fact that this Nation¹s own scientific manpower is doubling every 12 years in a rate of growth more than three times that of our population as a whole, despite that, the vast stretches of the unknown and the unanswered and the unfinished still far outstrip our collective comprehension.\\nNo man can fully grasp how far and how fast we have come, but condense, if you will, the 50,000 years of man¹s recorded history in a time span of but a half-century. Stated in these terms, we know very little about the first 40 years, except at the end of them advanced man had learned to use the skins of animals to cover them. Then about 10 years ago, under this standard, man emerged from his caves to construct other kinds of shelter. Only five years ago man learned to write and use a cart with wheels. Christianity began less than two years ago. The printing press came this year, and then less than two months ago, during this whole 50-year span of human history, the steam engine provided a new source of power.\\nNewton explored the meaning of gravity. Last month electric lights and telephones and automobiles and airplanes became available. Only last week did we develop penicillin and television and nuclear power, and now if America\\'s new spacecraft succeeds in reaching Venus, we will have literally reached the stars before midnight tonight.\\nThis is a breathtaking pace, and such a pace cannot help but create new ills as it dispels old, new ignorance, new problems, new dangers. Surely the opening vistas of space promise high costs and hardships, as well as high reward.\\nSo it is not surprising that some would have us stay where we are a little longer to rest, to wait. But this city of Houston, this State of Texas, this country of the United States was not built by those who waited and rested and wished to look behind them. This country was conquered by those who moved forward--and so will space.\\nWilliam Bradford, speaking in 1630 of the founding of the Plymouth Bay Colony, said that all great and honorable actions are accompanied with great difficulties, and both must be enterprised and overcome with answerable courage.\\nIf this capsule history of our progress teaches us anything, it is that man, in his quest for knowledge and progress, is determined and cannot be deterred. The exploration of space will go ahead, whether we join in it or not, and it is one of the great adventures of all time, and no nation which expects to be the leader of other nations can expect to stay behind in the race for space.\\nThose who came before us made certain that this country rode the first waves of the industrial revolutions, the first waves of modern invention, and the first wave of nuclear power, and this generation does not intend to founder in the backwash of the coming age of space. We mean to be a part of it--we mean to lead it. For the eyes of the world now look into space, to the moon and to the planets beyond, and we have vowed that we shall not see it governed by a hostile flag of conquest, but by a banner of freedom and peace. We have vowed that we shall not see space filled with weapons of mass destruction, but with instruments of knowledge and understanding.\\nYet the vows of this Nation can only be fulfilled if we in this Nation are first, and, therefore, we intend to be first. In short, our leadership in science and in industry, our hopes for peace and security, our obligations to ourselves as well as others, all require us to make this effort, to solve these mysteries, to solve them for the good of all men, and to become the world\\'s leading space-faring nation.\\nWe set sail on this new sea because there is new knowledge to be gained, and new rights to be won, and they must be won and used for the progress of all people. For space science, like nuclear science and all technology, has no conscience of its own. Whether it will become a force for good or ill depends on man, and only if the United States occupies a position of pre-eminence can we help decide whether this new ocean will be a sea of peace or a new terrifying theater of war. I do not say the we should or will go unprotected against the hostile misuse of space any more than we go unprotected against the hostile use of land or sea, but I do say that space can be explored and mastered without feeding the fires of war, without repeating the mistakes that man has made in extending his writ around this globe of ours.\\nThere is no strife, no prejudice, no national conflict in outer space as yet. Its hazards are hostile to us all. Its conquest deserves the best of all mankind, and its opportunity for peaceful cooperation many never come again. But why, some say, the moon? Why choose this as our goal? And they may well ask why climb the highest mountain? Why, 35 years ago, fly the Atlantic? Why does Rice play Texas?\\nWe choose to go to the moon. We choose to go to the moon in this decade and do the other things, not because they are easy, but because they are hard, because that goal will serve to organize and measure the best of our energies and skills, because that challenge is one that we are willing to accept, one we are unwilling to postpone, and one which we intend to win, and the others, too.\\nIt is for these reasons that I regard the decision last year to shift our efforts in space from low to high gear as among the most important decisions that will be made during my incumbency in the office of the Presidency.\\nIn the last 24 hours we have seen facilities now being created for the greatest and most complex exploration in man\\'s history. We have felt the ground shake and the air shattered by the testing of a Saturn C-1 booster rocket, many times as powerful as the Atlas which launched John Glenn, generating power equivalent to 10,000 automobiles with their accelerators on the floor. We have seen the site where the F-1 rocket engines, each one as powerful as all eight engines of the Saturn combined, will be clustered together to make the advanced Saturn missile, assembled in a new building to be built at Cape Canaveral as tall as a 48 story structure, as wide as a city block, and as long as two lengths of this field.\\nWithin these last 19 months at least 45 satellites have circled the earth. Some 40 of them were \"made in the United States of America\" and they were far more sophisticated and supplied far more knowledge to the people of the world than those of the Soviet Union.\\nThe Mariner spacecraft now on its way to Venus is the most intricate instrument in the history of space science. The accuracy of that shot is comparable to firing a missile from Cape Canaveral and dropping it in this stadium between the the 40-yard lines.\\nTransit satellites are helping our ships at sea to steer a safer course. Tiros satellites have given us unprecedented warnings of hurricanes and storms, and will do the same for forest fires and icebergs.\\nWe have had our failures, but so have others, even if they do not admit them. And they may be less public.\\nTo be sure, we are behind, and will be behind for some time in manned flight. But we do not intend to stay behind, and in this decade, we shall make up and move ahead.\\nThe growth of our science and education will be enriched by new knowledge of our universe and environment, by new techniques of learning and mapping and observation, by new tools and computers for industry, medicine, the home as well as the school. Technical institutions, such as Rice, will reap the harvest of these gains.\\nAnd finally, the space effort itself, while still in its infancy, has already created a great number of new companies, and tens of thousands of new jobs. Space and related industries are generating new demands in investment and skilled personnel, and this city and this State, and this region, will share greatly in this growth. What was once the furthest outpost on the old frontier of the West will be the furthest outpost on the new frontier of science and space. Houston, your City of Houston, with its Manned Spacecraft Center, will become the heart of a large scientific and engineering community. During the next 5 years the National Aeronautics and Space Administration expects to double the number of scientists and engineers in this area, to increase its outlays for salaries and expenses to $60 million a year; to invest some $200 million in plant and laboratory facilities; and to direct or contract for new space efforts over $1 billion from this Center in this City.\\nTo be sure, all this costs us all a good deal of money. This year¹s space budget is three times what it was in January 1961, and it is greater than the space budget of the previous eight years combined. That budget now stands at $5,400 million a year--a staggering sum, though somewhat less than we pay for cigarettes and cigars every year. Space expenditures will soon rise some more, from 40 cents per person per week to more than 50 cents a week for every man, woman and child in the United Stated, for we have given this program a high national priority--even though I realize that this is in some measure an act of faith and vision, for we do not now know what benefits await us.\\nBut if I were to say, my fellow citizens, that we shall send to the moon, 240,000 miles away from the control station in Houston, a giant rocket more than 300 feet tall, the length of this football field, made of new metal alloys, some of which have not yet been invented, capable of standing heat and stresses several times more than have ever been experienced, fitted together with a precision better than the finest watch, carrying all the equipment needed for propulsion, guidance, control, communications, food and survival, on an untried mission, to an unknown celestial body, and then return it safely to earth, re-entering the atmosphere at speeds of over 25,000 miles per hour, causing heat about half that of the temperature of the sun--almost as hot as it is here today--and do all this, and do it right, and do it first before this decade is out--then we must be bold.\\nI\\'m the one who is doing all the work, so we just want you to stay cool for a minute. [laughter]\\nHowever, I think we\\'re going to do it, and I think that we must pay what needs to be paid. I don\\'t think we ought to waste any money, but I think we ought to do the job. And this will be done in the decade of the sixties. It may be done while some of you are still here at school at this college and university. It will be done during the term of office of some of the people who sit here on this platform. But it will be done. And it will be done before the end of this decade.\\nI am delighted that this university is playing a part in putting a man on the moon as part of a great national effort of the United States of America.\\nMany years ago the great British explorer George Mallory, who was to die on Mount Everest, was asked why did he want to climb it. He said, \"Because it is there.\"\\nWell, space is there, and we\\'re going to climb it, and the moon and the planets are there, and new hopes for knowledge and peace are there. And, therefore, as we set sail we ask God\\'s blessing on the most hazardous and dangerous and greatest adventure on which man has ever embarked.\\nThank you.'\"\"\""
   ]
  },
  {
   "cell_type": "code",
   "execution_count": null,
   "metadata": {},
   "outputs": [],
   "source": [
    "JFKlines = JFK_19620912.split('\\n') #\\n is the splitting character"
   ]
  },
  {
   "cell_type": "code",
   "execution_count": null,
   "metadata": {},
   "outputs": [],
   "source": [
    "JFKlines # the list of strings"
   ]
  },
  {
   "cell_type": "markdown",
   "metadata": {},
   "source": [
    "We can also replace characters within a string. Let's add two spaces after every period."
   ]
  },
  {
   "cell_type": "code",
   "execution_count": null,
   "metadata": {},
   "outputs": [],
   "source": [
    "JFK_19620912 = JFK_19620912.replace('.',\".  \") #.replace(original, replacement)"
   ]
  },
  {
   "cell_type": "code",
   "execution_count": null,
   "metadata": {},
   "outputs": [],
   "source": [
    "JFK_19620912"
   ]
  },
  {
   "cell_type": "markdown",
   "metadata": {},
   "source": [
    "There are other string methods you can use for different tasks.  Feel free to [explore these later on]( https://docs.python.org/3.8/library/stdtypes.html#string-methods).\n",
    "\n",
    "---\n",
    "\n",
    "## Numbers\n",
    "\n",
    "Numbers can come in several formats: intigers, float, or complex.  "
   ]
  },
  {
   "cell_type": "code",
   "execution_count": null,
   "metadata": {},
   "outputs": [],
   "source": [
    "year = 1962             #Integer\n",
    "moon_gravity_ms2 = 1.62 #float\n",
    "Imaginary = 3e+1j       #complex"
   ]
  },
  {
   "cell_type": "markdown",
   "metadata": {},
   "source": [
    "Python recognizes your standard math functions.\n",
    "\n",
    "| Operation\t|What it Returns|\n",
    "|:---------:|--------------------------------------------|\n",
    "| `x + y`\t|Sum of `x` and `y`|\n",
    "| `x - y`\t|Difference of `x` and `y`|\n",
    "| `-x`\t    |Changed sign of `x`|\n",
    "| `+x`\t    |Identity of `x`|\n",
    "| `x * y`\t|Product of `x` and `y`|\n",
    "| `x / y`\t|Quotient of `x` and `y`|\n",
    "| `x // y`\t|Quotient from floor division of `x` and `y`|\n",
    "| `x % y`\t|Remainder of `x` / `y`|\n",
    "| `x ** y`\t|`x` to the `y` power|{float:left}\n",
    "\n",
    "\n",
    "More complex functions are also avalible in  [math library](https://docs.python.org/3.6/library/math.html).\n"
   ]
  },
  {
   "cell_type": "code",
   "execution_count": null,
   "metadata": {},
   "outputs": [],
   "source": [
    "weight_lb = int(input(\"What do you weigh in pounds?  \")) #Your weight in pounds with input method then changed to an integer."
   ]
  },
  {
   "cell_type": "code",
   "execution_count": null,
   "metadata": {},
   "outputs": [],
   "source": [
    "weight_lb"
   ]
  },
  {
   "cell_type": "markdown",
   "metadata": {},
   "source": [
    "You can nest math operations in the input of most functions."
   ]
  },
  {
   "cell_type": "code",
   "execution_count": null,
   "metadata": {},
   "outputs": [],
   "source": [
    "weight_moon = round(weight_lb * (moon_gravity_ms2 / 9.81) , 1)\n",
    "#             round(number                                , decimal places)"
   ]
  },
  {
   "cell_type": "code",
   "execution_count": null,
   "metadata": {},
   "outputs": [],
   "source": [
    "print( 'You weigh',weight_moon, 'lbs on the moon.')"
   ]
  },
  {
   "cell_type": "markdown",
   "metadata": {},
   "source": [
    "We can also check and switch formats of numbers, switch to a string, or switch back."
   ]
  },
  {
   "cell_type": "code",
   "execution_count": null,
   "metadata": {},
   "outputs": [],
   "source": [
    "type(weight_moon) #the variable type"
   ]
  },
  {
   "cell_type": "code",
   "execution_count": null,
   "metadata": {},
   "outputs": [],
   "source": [
    "print( int(weight_moon), 'lbs')"
   ]
  },
  {
   "cell_type": "code",
   "execution_count": null,
   "metadata": {},
   "outputs": [],
   "source": [
    "weight_moon = str(int(weight_moon))+'lbs'"
   ]
  },
  {
   "cell_type": "code",
   "execution_count": null,
   "metadata": {},
   "outputs": [],
   "source": [
    "weight_moon #note the ' '"
   ]
  },
  {
   "cell_type": "code",
   "execution_count": null,
   "metadata": {},
   "outputs": [],
   "source": [
    "eval(weight_moon.replace('lbs','')) / 0.165"
   ]
  },
  {
   "cell_type": "markdown",
   "metadata": {},
   "source": [
    "Just like any scientific calculations note your rounding errors.\n",
    "\n",
    "More information on [numbers.](https://docs.python.org/3.8/tutorial/introduction.html#numbers)"
   ]
  },
  {
   "cell_type": "markdown",
   "metadata": {},
   "source": [
    "---\n",
    "## Lists\n",
    "\n",
    "Lists are ordered groupings of variables.  We use `[ , , ]` or `list()` to make lists."
   ]
  },
  {
   "cell_type": "code",
   "execution_count": null,
   "metadata": {},
   "outputs": [],
   "source": [
    "primes = [2,3,5,7,11,13,17,19,23,29,31,37,41,43,47,53,59,61,67,71,'mork']"
   ]
  },
  {
   "cell_type": "markdown",
   "metadata": {},
   "source": [
    "Like strings we can call individual elements out of the list or slice the list."
   ]
  },
  {
   "cell_type": "code",
   "execution_count": null,
   "metadata": {},
   "outputs": [],
   "source": [
    "primes[0]"
   ]
  },
  {
   "cell_type": "code",
   "execution_count": null,
   "metadata": {},
   "outputs": [],
   "source": [
    "primes[0:2]"
   ]
  },
  {
   "cell_type": "code",
   "execution_count": null,
   "metadata": {},
   "outputs": [],
   "source": [
    "primes[:3]"
   ]
  },
  {
   "cell_type": "code",
   "execution_count": null,
   "metadata": {},
   "outputs": [],
   "source": [
    "primes = primes[:-1] #takes all but the last items in a list\n",
    "primes"
   ]
  },
  {
   "cell_type": "code",
   "execution_count": null,
   "metadata": {},
   "outputs": [],
   "source": [
    "primes[::2] #slices every other number"
   ]
  },
  {
   "cell_type": "code",
   "execution_count": null,
   "metadata": {},
   "outputs": [],
   "source": [
    "primes[::-1] #reverses list"
   ]
  },
  {
   "cell_type": "markdown",
   "metadata": {},
   "source": [
    "We can also preform tasks to and within lists."
   ]
  },
  {
   "cell_type": "code",
   "execution_count": null,
   "metadata": {},
   "outputs": [],
   "source": [
    "sum(primes) #total a list"
   ]
  },
  {
   "cell_type": "code",
   "execution_count": null,
   "metadata": {},
   "outputs": [],
   "source": [
    "len(primes) #length of a list"
   ]
  },
  {
   "cell_type": "code",
   "execution_count": null,
   "metadata": {},
   "outputs": [],
   "source": [
    "primes.append(73) #append our list\n",
    "print(primes)"
   ]
  },
  {
   "cell_type": "code",
   "execution_count": null,
   "metadata": {},
   "outputs": [],
   "source": [
    "primes.remove(73) #remove a value\n",
    "print(primes)"
   ]
  },
  {
   "cell_type": "markdown",
   "metadata": {},
   "source": [
    "Remove an item from a list and return it."
   ]
  },
  {
   "cell_type": "code",
   "execution_count": null,
   "metadata": {},
   "outputs": [],
   "source": [
    "print(primes.pop(2), primes) #remove a position and return it, or pop, out items"
   ]
  },
  {
   "cell_type": "markdown",
   "metadata": {},
   "source": [
    "Or insert an item in a defined position in a list."
   ]
  },
  {
   "cell_type": "code",
   "execution_count": null,
   "metadata": {},
   "outputs": [],
   "source": [
    "primes.insert(2,'5') # list.insert(insert position, item to insert)"
   ]
  },
  {
   "cell_type": "markdown",
   "metadata": {},
   "source": [
    "We can also loop through a list with a `for` loop."
   ]
  },
  {
   "cell_type": "code",
   "execution_count": null,
   "metadata": {},
   "outputs": [],
   "source": [
    "i = 0\n",
    "for p in primes:\n",
    "    print(p,\":\",type(p),end='\\t')\n",
    "    #print(what to print, end=what to end the line with, defaults to \\n or new line)\n",
    "    \n",
    "    #To Make Columns\n",
    "    i += 1 #the same as i = i + 1\n",
    "    if i >= 5:\n",
    "        print()\n",
    "        i = 0"
   ]
  },
  {
   "cell_type": "markdown",
   "metadata": {},
   "source": [
    "Or preform a `for` loop on one line by looping through the list and returning it to the same variable."
   ]
  },
  {
   "cell_type": "code",
   "execution_count": null,
   "metadata": {},
   "outputs": [],
   "source": [
    "primes = [str(p) for p in primes] #change all the integers to strings"
   ]
  },
  {
   "cell_type": "code",
   "execution_count": null,
   "metadata": {},
   "outputs": [],
   "source": [
    "primeStr = ''.join(primes) #join them\n",
    "primeStr"
   ]
  },
  {
   "cell_type": "code",
   "execution_count": null,
   "metadata": {},
   "outputs": [],
   "source": [
    "primeChars = list(primeStr) #Break them to a list again\n",
    "print(primeChars)\n",
    "print(sorted(primeChars))   #Sort the contents\n",
    "print(primeChars.count('7'))#and count how many times we see 7"
   ]
  },
  {
   "cell_type": "markdown",
   "metadata": {},
   "source": [
    "Feel free to explore other [list methods](https://docs.python.org/3.8/tutorial/datastructures.html#more-on-lists) later on.\n",
    "\n",
    "\n",
    "---\n",
    "\n",
    "\n",
    "\n",
    "## Tuples \n",
    "Tuples sequenced immutable datastructure. Basically an ordered a read-only list."
   ]
  },
  {
   "cell_type": "code",
   "execution_count": null,
   "metadata": {},
   "outputs": [],
   "source": [
    "#1: Making an empty tuple\n",
    "empty = ()\n",
    "print('1: The',type(empty),'\"empty\" has a length of',len(empty))\n",
    "\n",
    "#2: \"Packing\" a Tuple\n",
    "beer = 'Barley','Water','Yeast'\n",
    "\n",
    "#3: Variable type and length\n",
    "print('3: The',type(beer),'\"beer\" has a length of',len(beer))\n",
    "\n",
    "#4: Indexing & Slicing\n",
    "print('4: ',beer[1],'is in the 1 position within \"beer\"')\n",
    "print('\\t',beer[:2],'are the first to elements in \"beer\"')\n",
    "\n",
    "#5: Seeking Index in Tuple\n",
    "print('5: Water is in position',beer.index('Water'))\n",
    "\n",
    "#6: \"Unpacking\" a tuple to other variables\n",
    "ingredient0, ingredient1, ingredient2 = beer\n",
    "print('6: Beer is made from '+ingredient0 + ', '+ ingredient1 + \", and \" + ingredient2+'.')"
   ]
  },
  {
   "cell_type": "markdown",
   "metadata": {},
   "source": [
    "For other [tuple methods](https://docs.python.org/3.8/tutorial/datastructures.html).\n",
    "\n",
    "---\n",
    "\n",
    "## Sets\n",
    "Sets are unordered collections that hold unique (i.e. it will only one instance of an element) elements.  We can define them by using . This behavior and methods of comparing sets makes them quite useful. Sets come in two varieties `set()` or `{ }` which is mutable, or editable, and `frozenset()` which are immutable and hashable, or it cannot be edited after it is created. This is useful as a `frozenset` can be used as a dictionary key or as an element of another set.  We will primarily use the `set` type in this course."
   ]
  },
  {
   "cell_type": "code",
   "execution_count": null,
   "metadata": {},
   "outputs": [],
   "source": [
    "print('primeChars:',primeChars)\n",
    "\n",
    "#In one line we are changing each element in \"primeChars\" to an integer, then changing the list into a set \n",
    "#which eliminates duplicates, and assigning it to a new variable name \"CharSet\"\n",
    "CharSet = set([int(p) for p in primeChars])\n",
    "\n",
    "print('CharSet',CharSet)"
   ]
  },
  {
   "cell_type": "code",
   "execution_count": null,
   "metadata": {},
   "outputs": [],
   "source": [
    "digits = {1,2,3,4,5,6,7,8,9}\n",
    "digits"
   ]
  },
  {
   "cell_type": "markdown",
   "metadata": {},
   "source": [
    "### Set operations:\n",
    "\n",
    "| Operation                 | Equivalent | Result                                              |\n",
    "|---------------------------|------------|-----------------------------------------------------|\n",
    "| `len(s)`                   |            | Number of elements in set s (cardinality)           |\n",
    "| `x in s`                    |            | Test x for membership in s                          |\n",
    "| `x not in s`                |            | Test x for non-membership in s                      |\n",
    "| `s.issubset(t)`             | `s <= t`   | Test whether every element in s is in t             |\n",
    "| `s.issuperset(t)`           | `s >= t`   | Test whether every element in t is in s             |\n",
    "| `s.union(t)`                | `s `<code>&#124;</code>` t`    | New set with elements from both s and t             |\n",
    "| `s.intersection(t)`         | `s & t`    | New set with elements common to s and t             |\n",
    "| `s.difference(t)`           | `s - t`    | New set with elements in s but not in t             |\n",
    "| `s.symmetric_difference(t)` | `s ^ t`    | New set with elements in either s or t but not both |\n",
    "| `s.copy()`                  |            | New set with a shallow copy of s                    |\n",
    "\n",
    "\n",
    "Two examples of set operations:"
   ]
  },
  {
   "cell_type": "code",
   "execution_count": null,
   "metadata": {},
   "outputs": [],
   "source": [
    "print(CharSet & digits, 'are in both \"CharSet\" and \"digits\"')\n",
    "print(digits - CharSet, 'are in \"digits\" but not in \"CharSet\"')"
   ]
  },
  {
   "cell_type": "markdown",
   "metadata": {},
   "source": [
    "[More](https://docs.python.org/3.8/library/stdtypes.html#set) information about sets and frozensets.\n",
    "\n",
    "---\n",
    "\n",
    "## Dictionaries\n",
    "\n",
    "Dictionaries are collections that store a value by a unique key.  You can make a dictionary by `dict()` or `{k1:v1,k2:v2,k3:v3,...}`.  Since Python 3.6 dictionaries have been insertion ordered."
   ]
  },
  {
   "cell_type": "code",
   "execution_count": null,
   "metadata": {},
   "outputs": [],
   "source": [
    "stateAbrv = {'AK': 'Alaska', 'AL': 'Alabama', 'AR': 'Arkansas', 'AZ': 'Arizona', 'CA': 'California',\n",
    "             'CO': 'Colorado', 'CT': 'Connecticut', 'DC': 'Dist. of Columbia', 'DE': 'Delaware',\n",
    "             'FL': 'Florida', 'GA': 'Georgia', 'HI': 'Hawaii', 'IA': 'Iowa', 'ID': 'Idaho',\n",
    "             'IL': 'Illinois', 'IN': 'Indiana', 'KS': 'Kansas', 'KY': 'Kentucky', 'LA': 'Louisiana',\n",
    "             'MA': 'Massachusetts', 'MD': 'Maryland', 'ME': 'Maine', 'MI': 'Michigan', 'MN': 'Minnesota',\n",
    "             'MO': 'Missouri', 'MS': 'Mississippi', 'MT': 'Montana', 'NC': 'North Carolina', \n",
    "             'ND': 'North Dakota', 'NE': 'Nebraska', 'NH': 'New Hampshire', 'NJ': 'New Jersey',\n",
    "             'NM': 'New Mexico', 'NV': 'Nevada', 'NY': 'New York', 'OH': 'Ohio', 'OK': 'Oklahoma',\n",
    "             'OR': 'Oregon', 'PA': 'Pennsylvania', 'RI': 'Rhode Island', 'SC': 'South Carolina',\n",
    "             'SD': 'South Dakota', 'TN': 'Tennessee', 'TX': 'Texas', 'UT': 'Utah', 'VA': 'Virginia',\n",
    "             'VT': 'Vermont', 'WA': 'Washington', 'WI': 'Wisconsin', 'WV': 'West Virginia', 'WY': 'Wyoming'}"
   ]
  },
  {
   "cell_type": "markdown",
   "metadata": {},
   "source": [
    "We can also add variables to our dicitionary."
   ]
  },
  {
   "cell_type": "code",
   "execution_count": null,
   "metadata": {},
   "outputs": [],
   "source": [
    "stateAbrv['MP'] = 'Northern Mariana Islands'\n",
    "stateAbrv['PW'] = 'Palau'\n",
    "stateAbrv['PR'] = 'Puerto Rico'\n",
    "stateAbrv['VI'] = 'Virgin Islands'"
   ]
  },
  {
   "cell_type": "code",
   "execution_count": null,
   "metadata": {},
   "outputs": [],
   "source": [
    "stateAbrv"
   ]
  },
  {
   "cell_type": "markdown",
   "metadata": {},
   "source": [
    "Or get the value by the key."
   ]
  },
  {
   "cell_type": "code",
   "execution_count": null,
   "metadata": {},
   "outputs": [],
   "source": [
    "stateAbrv['PW']"
   ]
  },
  {
   "cell_type": "code",
   "execution_count": null,
   "metadata": {},
   "outputs": [],
   "source": [
    "stateAbrv.get('PW')"
   ]
  },
  {
   "cell_type": "markdown",
   "metadata": {},
   "source": [
    "The `.get()` method also lets you return a value if the key isn't in the dictionary."
   ]
  },
  {
   "cell_type": "code",
   "execution_count": null,
   "metadata": {},
   "outputs": [],
   "source": [
    "stateAbrv.get('ZZ','Not Found')"
   ]
  },
  {
   "cell_type": "markdown",
   "metadata": {},
   "source": [
    "Or itterate through them."
   ]
  },
  {
   "cell_type": "code",
   "execution_count": null,
   "metadata": {},
   "outputs": [],
   "source": [
    "for k,v in stateAbrv.items():\n",
    "    #Insert an \"and\" and change end behavior based on position in dicionary. Format for last.\n",
    "    if list(stateAbrv).index(k) == (len(stateAbrv) - 1):\n",
    "        insert_and = 'and '\n",
    "        end = '.\\n'\n",
    "    else:\n",
    "        insert_and = ''\n",
    "        end = ', '\n",
    "    \n",
    "    #Print each key and value in dictionary.\n",
    "    print(insert_and + k,'is the abbreviation for',v,end=end)"
   ]
  },
  {
   "cell_type": "markdown",
   "metadata": {},
   "source": [
    "Begining in Python 3.8 you can also iterate a dictionary in reverse with `reversed()`. Feel free to explore other dictionary [methods](https://docs.python.org/3.8/library/stdtypes.html#dict) later on.\n",
    "\n",
    "---\n",
    "\n",
    "#  Give it a try.\n",
    "\n",
    "Try and count how many times the word \"moon\" is in JFK's Rice speech. This can be done a few different ways. "
   ]
  },
  {
   "cell_type": "code",
   "execution_count": null,
   "metadata": {},
   "outputs": [],
   "source": []
  },
  {
   "cell_type": "markdown",
   "metadata": {},
   "source": [
    "---\n",
    "\n",
    "# Tips and Tricks\n",
    "\n",
    "Jupyter Notebook Keyboard Shortcuts\n",
    "- Windows/Linux: `Ctrl` + `Shift` + `P`\n",
    "- Mac: `Cmd` + `Shift` + `P`\n",
    "- Edit Mode: `Enter`\n",
    "- Command Mode : `Esc`\n",
    "- Run: `Shift` + `Enter`\n",
    "- Multicursor by clicks: Hold `Ctrl` + click positions\n",
    "- Multicursor by mouse drag: Hold `Alt` + click and drag mouse.\n",
    "\n",
    "Keep in mind...\n",
    "-  Google the _keywords_ of your error messages because chances are you're not the first person to have the problem.\n",
    "\n",
    "-  Stackoverflow is your friend.\n",
    "\n",
    "-  Don't forget to use the online documentation for python and the libraries you are using.\n",
    "\n",
    "-  Social coding is one **_hell_** of a lot of fun and a great way to learn. Attend a Hackathon if you get a chance.\n",
    "\n",
    "Something not working correctly? I tend to break things down to the simplest parts, make sure those are working correctly, then put things back together.  Commonly it's a variable type or a small syntax error."
   ]
  },
  {
   "cell_type": "code",
   "execution_count": null,
   "metadata": {},
   "outputs": [],
   "source": []
  }
 ],
 "metadata": {
  "kernelspec": {
   "display_name": "Python 3",
   "language": "python",
   "name": "python3"
  },
  "language_info": {
   "codemirror_mode": {
    "name": "ipython",
    "version": 3
   },
   "file_extension": ".py",
   "mimetype": "text/x-python",
   "name": "python",
   "nbconvert_exporter": "python",
   "pygments_lexer": "ipython3",
   "version": "3.7.4"
  }
 },
 "nbformat": 4,
 "nbformat_minor": 2
}
