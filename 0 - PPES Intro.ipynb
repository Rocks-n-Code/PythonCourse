{
  "nbformat": 4,
  "nbformat_minor": 0,
  "metadata": {
    "kernelspec": {
      "display_name": "Python 3",
      "language": "python",
      "name": "python3"
    },
    "language_info": {
      "codemirror_mode": {
        "name": "ipython",
        "version": 3
      },
      "file_extension": ".py",
      "mimetype": "text/x-python",
      "name": "python",
      "nbconvert_exporter": "python",
      "pygments_lexer": "ipython3",
      "version": "3.7.4"
    },
    "colab": {
      "name": "0 - PPES Intro.ipynb",
      "provenance": [],
      "include_colab_link": true
    }
  },
  "cells": [
    {
      "cell_type": "markdown",
      "metadata": {
        "id": "view-in-github",
        "colab_type": "text"
      },
      "source": [
        "<a href=\"https://colab.research.google.com/github/Rocks-n-Code/PythonCourse/blob/master/0%20-%20PPES%20Intro.ipynb\" target=\"_parent\"><img src=\"https://colab.research.google.com/assets/colab-badge.svg\" alt=\"Open In Colab\"/></a>"
      ]
    },
    {
      "cell_type": "markdown",
      "metadata": {
        "id": "3SdA6O0xX2oG"
      },
      "source": [
        "# Practical Python for Earth Scientists\n",
        "\n",
        "<ul> Matthew W. Bauer, P.G.\n",
        "<a href=\"https://www.linkedin.com/in/matthewbauerpg/\">\n",
        "<img src=\"https://upload.wikimedia.org/wikipedia/commons/thumb/c/c9/Linkedin.svg/200px-Linkedin.svg.png\" width=\"25\" height=\"25\">  \n",
        "<a/>\n",
        "\n",
        "<a href=\"https://www.instagram.com/rocks_n_code/\">\n",
        "<img src=\"https://upload.wikimedia.org/wikipedia/commons/thumb/e/e7/Instagram_logo_2016.svg/132px-Instagram_logo_2016.svg.png\" width=\"25\" height=\"25\">  \n",
        "<a/>\n",
        "\n",
        "<a href=\"https://online.mines.edu/earth-resources-online/\">\n",
        "<img src=\"https://www.mymajors.com/assets/logos/80x80/126775.jpg\" height=\"25\">  \n",
        "<a/>\n",
        "<ul/>\n"
      ]
    },
    {
      "cell_type": "markdown",
      "metadata": {
        "id": "NhZwLjqwZkuv"
      },
      "source": [
        "*with code contributions by*\n",
        "\n",
        "- [Thomas Martin](https://www.linkedin.com/in/tpm319/)\n",
        "- [Zane Jobe](https://www.linkedin.com/in/zane-jobe/)"
      ]
    },
    {
      "cell_type": "markdown",
      "metadata": {
        "id": "fyqMrDqjQ2k5"
      },
      "source": [
        "\n",
        "# GSA RMS & Cordilleran Joint Meeting\n",
        "\n",
        "March 14, 2022\n",
        "\n",
        "---\n",
        "\n",
        "### Rules for the Class\n",
        "1. Take time.\n",
        "\n",
        "\n",
        "2. Be nice.\n",
        "\n",
        "\n",
        "3. But most of all... ...Have fun!\n",
        "\n",
        "---\n",
        "\n",
        "![Be Brave](https://github.com/Rocks-n-Code/PythonCourse/blob/master/img/suck_at_something_new.jpg?raw=true)\n",
        "\n",
        "Today will be a bit of a firehose.  We will spend more time with basic syntax and pandas then walk through some applied examples and geology specific packages.\n",
        "\n",
        "---\n",
        "### Installing Python\n",
        "\n",
        "Considering the time avalible today we will be using Google Colab for the notebooks. Installing Python is recommended from the [Anaconda distribution.](https://www.anaconda.com/products/individual)\n",
        "\n",
        "Windows users will need to add these to the system environmental variable `Path`:\n",
        "\n",
        "- C:\\\\Where you installed python\\\\Anaconda3\n",
        "- C:\\\\Where you installed python\\\\Anaconda3\\\\Scripts\n",
        "- C:\\\\Where you installed python\\\\Anaconda3\\\\Library\\\\bin\n",
        "\n",
        "Need help on a reinstall in the future? Watch [this](https://youtu.be/KUuoFRye37w) video.\n",
        "\n",
        "---\n",
        "\n",
        "## Notebooks\n",
        "\n",
        "[0 - PPES Intro]()\n",
        "\n",
        "[1 - Basic Python Syntax](https://colab.research.google.com/github/Rocks-n-Code/PythonCourse/blob/master/1%20-%20Basic%20Python%20Syntax.ipynb)\n",
        "\n",
        "[2 - Loops, Logic, & Functions](https://colab.research.google.com/github/Rocks-n-Code/PythonCourse/blob/master/2%20-%20Loops%2C%20Logic%2C%20%26%20Functions.ipynb)\n",
        "\n",
        "[3 - Pandas & Matplotlib](https://colab.research.google.com/github/Rocks-n-Code/PythonCourse/blob/master/3%20-%20Pandas%20%26%20Matplotlib.ipynb) *Optional*\n",
        "\n",
        "[4 - Mapping](https://colab.research.google.com/github/Rocks-n-Code/PythonCourse/blob/master/4%20-%20Geospatial%20Mapping.ipynb) by Zane Jobe.\n",
        "\n",
        "[5 - Lasio & Striplog](https://colab.research.google.com/github/Rocks-n-Code/PythonCourse/blob/master/5%20-%20Lasio%20%26%20Striplog.ipynb) by Thomas Martin.\n",
        "\n",
        "[6 - Scraping Data](https://colab.research.google.com/github/Rocks-n-Code/PythonCourse/blob/master/6%20-%20Scraping%20Data.ipynb)\n",
        "\n",
        "[7 - Log Facies with Unsupervised Machine Learning](https://colab.research.google.com/github/Rocks-n-Code/PythonCourse/blob/master/7%20-%20UnSupML_LogFacies%20.ipynb)\n",
        "\n",
        "[8 - Supervised Machine Learning: Random Forest Regressor Building and mineral model from a pulsed neutron log.](https://colab.research.google.com/github/Rocks-n-Code/PythonCourse/blob/master/8%20-%20SupML_RF_Lithology.ipynb)\n",
        "\n",
        "[<Back](https://github.com/Rocks-n-Code/PythonCourse) [Next>](https://colab.research.google.com/github/Rocks-n-Code/PythonCourse/blob/master/1%20-%20Basic%20Python%20Syntax.ipynb)"
      ]
    },
    {
      "cell_type": "code",
      "source": [
        ""
      ],
      "metadata": {
        "id": "P6bJjEVeNSfQ"
      },
      "execution_count": null,
      "outputs": []
    }
  ]
}