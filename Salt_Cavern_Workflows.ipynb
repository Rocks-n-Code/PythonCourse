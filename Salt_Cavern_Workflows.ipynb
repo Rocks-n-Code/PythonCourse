{
  "nbformat": 4,
  "nbformat_minor": 0,
  "metadata": {
    "colab": {
      "provenance": [],
      "authorship_tag": "ABX9TyMwn4ygP5hXVRfzLW+Qp1xS",
      "include_colab_link": true
    },
    "kernelspec": {
      "name": "python3",
      "display_name": "Python 3"
    },
    "language_info": {
      "name": "python"
    }
  },
  "cells": [
    {
      "cell_type": "markdown",
      "metadata": {
        "id": "view-in-github",
        "colab_type": "text"
      },
      "source": [
        "<a href=\"https://colab.research.google.com/github/Rocks-n-Code/PythonCourse/blob/master/Salt_Cavern_Workflows.ipynb\" target=\"_parent\"><img src=\"https://colab.research.google.com/assets/colab-badge.svg\" alt=\"Open In Colab\"/></a>"
      ]
    },
    {
      "cell_type": "markdown",
      "source": [
        "---\n",
        "\n",
        "<sub><sub>*Given by Agapito Associates, LLC on September 8, 2025 for Lousiana Department of Natrual Resources.*</sub></sub>\n",
        "\n",
        "<table>\n",
        "  <tr>\n",
        "    <td><img src=\"https://www.agapito.com/wp-content/uploads/2025/05/TextBoxLogoWhitespace.png\" height=\"75\"></td>\n",
        "    <td><h1 style=\"margin:0;\">Python & Salt Caverns</h1></td>\n",
        "    <td><img src=\"https://www.dnr.louisiana.gov/images/DENR-Seal.png\" height=\"90\"/>\n",
        "  </tr>\n",
        "</table>\n",
        "\n",
        "\n",
        "___\n"
      ],
      "metadata": {
        "id": "YPcX3-Yz1Gke"
      }
    },
    {
      "cell_type": "markdown",
      "source": [
        "\n",
        "\n",
        "\n",
        "# Introduction\n",
        "\n",
        "\n",
        "\n",
        "The target audience of this course is someone with basic python knowledge. We'll go through some common workflows when working with salt caverns that are made easier and scaleable by using python.\n",
        "\n",
        "1) GIS\n",
        "- <sub>Preview lat/long locations with *folium*</sub>\n",
        "- <sub>Well spot creation with *geopandas*</sub>\n",
        "2) Well Deviation Surveys\n",
        "- <sub>Well deviation survey with *wellpathpy*</sub>\n",
        "3) Sonar Surveys\n",
        "- <sub>Pulling files with *requests*</sub>\n",
        "- <sub>Parsing text from a `pdf` with *pdfminer*</sub>\n",
        "- <sub>Parsing text into a table with *pandas*</sub>\n",
        "- <sub>Sonar file processing with *SaltPy*</sub>\n",
        "4) 3D Models\n",
        "- <sub>3D Visualization with *PyVista*</sub>\n",
        "\n",
        "<br>\n",
        "\n",
        "Instructor: [Matthew W. Bauer](https://www.agapito.com/team/matthew-bauer/)\n",
        "\n",
        "<table>\n",
        "  <tr>\n",
        "    <td><img src=\"https://www.rmag.org/clientuploads/directory/board/2024_Board/Bauer_-_President_elect.png\" width=\"90\"></td>\n",
        "    <td>\n",
        "      <strong>Matthew W. Bauer, PG</strong><br>\n",
        "      20 years in quanitative geoscience specializing in applications of python for geology. Projects ranging from the application<br> of spatial data science in solution mined caverns and injection wells, the evaluation of energy project economics, to the<br> spatiotemporal monitoring of land records and commodity prices. <br><br>• Affiliate Faculty at Colorado School of Mines <br>• President of Rocky Mountain Association of Geologists<br>• Short Course instructor for RMAG, AAPG, and GSA<br>• PG in KS & LS\n",
        "  </tr>\n",
        "</table>\n",
        "\n",
        "\n",
        "---"
      ],
      "metadata": {
        "id": "Y8ZtRc2M5CoW"
      }
    },
    {
      "cell_type": "code",
      "source": [
        "# Install packages not already on the COLAB instance\n",
        "\n",
        "!pip install wellpathpy\n",
        "!pip install pdfminer\n",
        "!apt-get install -qq xvfb\n",
        "!pip install pyvista panel -q\n",
        "!pip install pyvista[jupyter]"
      ],
      "metadata": {
        "id": "_MeKJmu_PB3r"
      },
      "execution_count": null,
      "outputs": []
    },
    {
      "cell_type": "code",
      "execution_count": null,
      "metadata": {
        "id": "UbFEFar14zSt"
      },
      "outputs": [],
      "source": [
        "## Import the packages we will use.\n",
        "\n",
        "# General\n",
        "import pandas as pd\n",
        "import numpy as np\n",
        "\n",
        "# GIS\n",
        "import geopandas as gpd\n",
        "from shapely import Point, LineString\n",
        "\n",
        "# Web Mapping\n",
        "import folium\n",
        "import folium.plugins as plugins\n",
        "\n",
        "# Well Deviation Surveys\n",
        "import wellpathpy as wp\n",
        "\n",
        "# Web & PDFs\n",
        "import io\n",
        "import requests\n",
        "from pdfminer.pdfinterp import PDFResourceManager, PDFPageInterpreter\n",
        "from pdfminer.converter import TextConverter\n",
        "from pdfminer.layout import LAParams\n",
        "from pdfminer.pdfpage import PDFPage\n",
        "\n",
        "# Visualization\n",
        "import pyvista as pv\n",
        "\n",
        "\n",
        "# Set options\n",
        "pd.set_option('display.max_columns', None)\n",
        "\n",
        "# Needed for running in colab\n",
        "pv.global_theme.jupyter_backend = 'static'\n",
        "pv.global_theme.notebook = True\n",
        "pv.start_xvfb()\n",
        "pv.set_jupyter_backend('html')"
      ]
    },
    {
      "cell_type": "markdown",
      "source": [
        "___\n",
        "#\n",
        "\n",
        "<table>\n",
        "  <tr>\n",
        "    <td><img src=\"https://www.energy.gov/sites/default/files/styles/full_article_width/public/2025-03/Bayou%20Choctaw.png\" width=\"100\"></td>\n",
        "    <td style=\"padding-left:10px;\"><h2 style=\"margin:0;\">Section 1: Make a Well Spot Shapefile</h2></td>\n",
        "  </tr>\n",
        "</table>\n",
        "\n",
        "Let's make a GIS file for the location of well. In this case we will use PPG007B as an example.\n",
        "\n",
        "\n",
        "\n",
        "\n",
        "*All data is publically avalible through [SONRIS](https://sonlite.dnr.state.la.us/ords/f?p=108:2).*\n",
        "\n",
        "[PPG 007B Deviation Survey](https://sonlite.dnr.state.la.us/dnrservices/redirectUrl.jsp?dDocname=14325104&showInline=True)\n",
        "\n"
      ],
      "metadata": {
        "id": "XbrBCnHoBk51"
      }
    },
    {
      "cell_type": "code",
      "source": [
        "# X,Y, and Z from the deviation survey\n",
        "x,y,z = 2623600.00, 643684.00, 12.6\n",
        "\n",
        "# Making the GeoPandas object\n",
        "crs = 'EPSG:3452'\n",
        "point = Point(x,y,z)\n",
        "print(point)\n",
        "\n",
        "wells = gpd.GeoDataFrame({'Well_No':['PPG-007B'],\n",
        "                          'serial_no':[67270],\n",
        "                          'geometry':[point]},\n",
        "                         crs=crs)\n",
        "\n",
        "# Preview the GeoDataFrame\n",
        "wells.plot()"
      ],
      "metadata": {
        "id": "gZzJrZzmBs16"
      },
      "execution_count": null,
      "outputs": []
    },
    {
      "cell_type": "code",
      "source": [
        "# Change Coordinate Reference System\n",
        "wells_wgs84 = wells.to_crs('EPSG:4326')\n",
        "point = wells_wgs84.at[0,'geometry']\n",
        "x0,y0 = [p[0] for p in point.xy]\n",
        "print(x0,y0)\n",
        "\n",
        "## View with Folium\n",
        "m = folium.Map(location=[y0,x0],\n",
        "               tiles='Cartodb dark_matter',\n",
        "               zoom_start=10)\n",
        "\n",
        "# Add a marker\n",
        "folium.Marker(\n",
        "              [y0,x0],\n",
        "              popup='PPG 007B',\n",
        "              icon=plugins.BeautifyIcon(\n",
        "                              icon=\"circle-small\",\n",
        "                              icon_shape=\"circle\",\n",
        "                              border_color='blue',\n",
        "                              background_color='lightblue'\n",
        "                          )\n",
        "              ).add_to(m)\n",
        "\n",
        "m"
      ],
      "metadata": {
        "id": "by8iQnxpHEQM"
      },
      "execution_count": null,
      "outputs": []
    },
    {
      "cell_type": "code",
      "source": [
        "## Save File\n",
        "wells.to_file('ExampleWells.shp')\n",
        "wells_wgs84.to_file('ExampleWells_WSG84.gpkg')"
      ],
      "metadata": {
        "id": "Lcm2FS2ZKwdB"
      },
      "execution_count": null,
      "outputs": []
    },
    {
      "cell_type": "markdown",
      "source": [
        "___\n",
        "#\n",
        "<table>\n",
        "  <tr>\n",
        "    <td><img src=\"https://www.energy.gov/sites/default/files/styles/full_article_width/public/2025-03/Big%20Hill.png\" width=\"100\"></td>\n",
        "    <td style=\"padding-left:10px;\"><h2 style=\"margin:0;\">Section 2: Process a Well Deviation Survey</h2></td>\n",
        "  </tr>\n",
        "</table>\n",
        "\n",
        "\n",
        "For well deviation surveys that are not in ascii text I really like the snip tool in Windows 11 that has OCR. I've pasted the data below for you."
      ],
      "metadata": {
        "id": "uxNR-DDMNF62"
      }
    },
    {
      "cell_type": "code",
      "source": [
        "# Deviation Survey Raw Data\n",
        "lines = '''0.0\n",
        "100.0\n",
        "200.1\n",
        "300.0\n",
        "400.0\n",
        "500.0\n",
        "600.0\n",
        "700.0\n",
        "800.0\n",
        "900.\n",
        "999.9\n",
        "1100.0\n",
        "1200.0\n",
        "1300.0\n",
        "1400.0\n",
        "1500.0\n",
        "1600.0\n",
        "1700.0\n",
        "1800.0\n",
        "1899.9\n",
        "2000.0\n",
        "2100.0\n",
        "2200.0\n",
        "2300.0\n",
        "2400.0\n",
        "2501.0\n",
        "0.0\n",
        "267.3\n",
        "265.3\n",
        "268.3\n",
        "253.3\n",
        "264.3\n",
        "255.3\n",
        "354.3\n",
        "343.3\n",
        "330.3\n",
        "282.3\n",
        "277.3\n",
        "275.3\n",
        "284.3\n",
        "294.3\n",
        "345.3\n",
        "345.3\n",
        "354.3\n",
        "25.3\n",
        "34.3\n",
        "27.3\n",
        "42.3\n",
        "50.3\n",
        "42.3\n",
        "48.3\n",
        "104.3\n",
        "0.0\n",
        "0.3\n",
        "0.2\n",
        "0.2\n",
        "0.3\n",
        "0.4\n",
        "0.2\n",
        "0.4\n",
        "0.8\n",
        "0.7\n",
        "1.9\n",
        "1.6\n",
        "1.5\n",
        "1.1\n",
        "1.0\n",
        "0.9\n",
        "0.8\n",
        "0.6\n",
        "0.4\n",
        "0.5\n",
        "0.4\n",
        "0.5\n",
        "0.4\n",
        "0.3\n",
        "0.2\n",
        "0.8'''.split('\\n')\n",
        "\n",
        "# Number of lines\n",
        "n = int(len(lines) / 3)\n",
        "\n",
        "# Seperate Columns\n",
        "md = lines[:n]\n",
        "azi = lines[n:n*2]\n",
        "inc = lines[n*2:]\n",
        "\n",
        "# Make DataFrame\n",
        "dev = pd.DataFrame({'md':md, 'azi': azi, 'inc':inc})\n",
        "dev = dev.astype(float)\n",
        "\n",
        "dev.head()"
      ],
      "metadata": {
        "id": "XqO21FPA_wZh"
      },
      "execution_count": null,
      "outputs": []
    },
    {
      "cell_type": "code",
      "source": [
        "## Make a wellpathpy object with the raw data\n",
        "dev = wp.deviation(md = dev.md,\n",
        "                   inc = dev.inc,\n",
        "                   azi = dev.azi)\n",
        "\n",
        "# LAS files are often on 0.5 ft steps so lets resample to 1/2' intervals.\n",
        "# Let's use that step distance so we could merge a well log LAS.\n",
        "depths = np.arange(0, dev.md.max() + 1, 0.5)\n",
        "\n",
        "pos = dev.minimum_curvature().resample(depths=depths)\n",
        "dev2 = pos.deviation()"
      ],
      "metadata": {
        "id": "qqRaFHM0PtPo"
      },
      "execution_count": null,
      "outputs": []
    },
    {
      "cell_type": "code",
      "source": [
        "# Let's make a dataframe of that data\n",
        "devsurv = pd.DataFrame({'md':dev2.md, 'azi':dev2.azi, 'inc':dev2.inc,\n",
        "                        'tvd':pos.depth, 'n':pos.northing, 'e':pos.easting})\n",
        "\n",
        "# Add x,y,z data of where we are refrenced in space.\n",
        "# Note: Be careful if the survey is from KB then you'll need the APD\n",
        "devsurv['x'] = x + devsurv['e']\n",
        "devsurv['y'] = y + devsurv['n']\n",
        "devsurv['z'] = z - devsurv['tvd']\n",
        "\n",
        "# We want to know in 3D space how any MD has moved from straight down to\n",
        "#  process our sonars. Let's add those columns\n",
        "devsurv['dx'] = devsurv['e']\n",
        "devsurv['dy'] = devsurv['n']\n",
        "devsurv['dz'] = devsurv['md'] - devsurv['tvd']\n",
        "\n",
        "# Geometry\n",
        "devsurv['geometry'] = gpd.points_from_xy(devsurv.x, devsurv.y, devsurv.z)\n",
        "\n",
        "# Change from pandas.DataFrame to geopandas.GeoDataFrame\n",
        "devsurv = gpd.GeoDataFrame(devsurv, geometry='geometry', crs=wells.crs)\n",
        "\n",
        "# Plot & Preview Points\n",
        "ax = devsurv.plot(c=devsurv['z'], alpha=0.3, markersize=0.5)\n",
        "wells.plot(color='white', edgecolor='k', ax=ax)\n",
        "\n",
        "devsurv.tail()"
      ],
      "metadata": {
        "id": "1I6QhZF8Sy2-"
      },
      "execution_count": null,
      "outputs": []
    },
    {
      "cell_type": "code",
      "source": [
        "## Make Lines GIS File\n",
        "line = LineString(devsurv.geometry)\n",
        "\n",
        "# Preview line\n",
        "line"
      ],
      "metadata": {
        "id": "Eff2oJ78S3sA"
      },
      "execution_count": null,
      "outputs": []
    },
    {
      "cell_type": "code",
      "source": [
        "# Make Deviation Survey Line GIS\n",
        "lines = wells.copy()\n",
        "lines['geometry'] = line\n",
        "\n",
        "# Plot and Preview Line\n",
        "ax = lines.plot()\n",
        "wells.plot(color='white', edgecolor='k', ax=ax)"
      ],
      "metadata": {
        "id": "GzSS-P1kTDm6"
      },
      "execution_count": null,
      "outputs": []
    },
    {
      "cell_type": "code",
      "source": [
        "## Save out files\n",
        "devsurv.to_file('ExampleDevPnts.gpkg')\n",
        "lines.to_file('ExampleDevLine.gpkg')"
      ],
      "metadata": {
        "id": "EylXA2yOWO7E"
      },
      "execution_count": null,
      "outputs": []
    },
    {
      "cell_type": "markdown",
      "source": [
        "___\n",
        "\n",
        "#\n",
        "\n",
        "<table>\n",
        "  <tr>\n",
        "    <td><img src=\"https://www.energy.gov/sites/default/files/styles/full_article_width/public/2025-03/Bryan%20Mound.png\" width=\"100\"></td>\n",
        "    <td style=\"padding-left:10px;\"><h2 style=\"margin:0;\">Section 3: Processing Cavern Sonar Surveys</h2></td>\n",
        "  </tr>\n",
        "</table>\n",
        "\n",
        "Sonar come in several flavors unique to the vedors who ran the survey. Sonarwire, now part of Empire Wireline is one of the most common vendors in the United States. Their `cwr` file can be converted with their software *Sonar Post Processing* to export an ascii file known as a `lwt` (long wall table). The `lwt` format is optimized for printing and has a table per depth and inclination with the ranges arranged in a base azimuth row and addition azimuth column. This `lwt` is found, with small variations, is found with other vendors. We move these\n",
        "\n",
        "Agapito has been internally develping python package `SonarPy` which is planned for public release in 2026. We will outline the workflow of processing with `SaltPy`.\n",
        "\n",
        "---\n"
      ],
      "metadata": {
        "id": "TBwlWbHgZitq"
      }
    },
    {
      "cell_type": "markdown",
      "source": [
        "\n",
        "## Parsing a PDF with Python\n",
        "\n",
        "We will start with an example that occurs all to often where we are not provided an original file from the vendor and we but convert a pdf into a usable format. [Public data source example: PPG 007B April 22, 2025](https://sonlite.dnr.state.la.us/dnrservices/redirectUrl.jsp?dDocname=15234027&showInline=True)"
      ],
      "metadata": {
        "id": "yNlfDdJq3eBa"
      }
    },
    {
      "cell_type": "code",
      "source": [
        "def pull_pdf_lwt_SONIC_SURVEYS(url, start=0, end=9999):\n",
        "    '''\n",
        "    Parses SONIC SURVEY digital pdfs (does not work on scanned pdfs) for the text\n",
        "    of the lwt pages. Optional page numbers speed this up.\n",
        "\n",
        "    INPUTS\n",
        "    url: url of document, redirects may not work\n",
        "    start (optional): int, starting page index of lwt (first page is 0)\n",
        "    end (optional): int, end page index of lwt (\"Page 100\" would be index 99)\n",
        "    '''\n",
        "    # Step 1: Download the PDF from the GitHub raw link\n",
        "    response = requests.get(url)\n",
        "    response.raise_for_status()  # Raise error if download fails\n",
        "\n",
        "    # Step 2: Convert to a file-like object\n",
        "    fp = io.BytesIO(response.content)\n",
        "\n",
        "    # PDFMiner setup\n",
        "    rsrcmgr = PDFResourceManager()\n",
        "    retstr = io.StringIO()\n",
        "    codec = 'utf-8'\n",
        "    laparams = LAParams()\n",
        "    device = TextConverter(rsrcmgr, retstr, laparams=laparams)\n",
        "    interpreter = PDFPageInterpreter(rsrcmgr, device)\n",
        "\n",
        "    # Extraction logic\n",
        "    txtlst = []\n",
        "    page_no = 0\n",
        "    for pageNumber, page in enumerate(PDFPage.get_pages(fp)):\n",
        "        if page_no < start:\n",
        "            page_no += 1\n",
        "            continue\n",
        "        elif page_no > end:\n",
        "            break\n",
        "        elif pageNumber == page_no:\n",
        "            interpreter.process_page(page)\n",
        "\n",
        "            data = retstr.getvalue()\n",
        "            t = data.encode('utf-8')\n",
        "            if (b'DEPTH' in t) & (b'Bearing' in t) & (b'TILT' in t):\n",
        "                txtlst.append(t)\n",
        "\n",
        "            # Clear the StringIO buffer\n",
        "            retstr.truncate(0)\n",
        "            retstr.seek(0)\n",
        "\n",
        "        page_no += 1\n",
        "\n",
        "    return txtlst\n",
        "\n",
        "rawurl = 'https://github.com/Rocks-n-Code/PythonCourse/blob/master/data/PPG7B_20250311_15234027~1.pdf?raw=true'\n",
        "txtlst = pull_pdf_lwt_SONIC_SURVEYS(rawurl, start=61, end=128)\n",
        "\n",
        "print('Pages',len(txtlst))\n",
        "\n",
        "# Preview 1st page's text\n",
        "txtlst[0]"
      ],
      "metadata": {
        "id": "FwlDdv-RlSGS"
      },
      "execution_count": null,
      "outputs": []
    },
    {
      "cell_type": "markdown",
      "source": [
        "---\n",
        "\n",
        "## Parse Text with Python\n",
        "\n",
        "PDF's often do not preserve data relationships of tables all that well. In this case we find that the \"columns\" run through the three tables on a page. This behavior is consistent so we can parse this with Python and make a transformed table that has one shot per row."
      ],
      "metadata": {
        "id": "YilZWiKNGoLt"
      }
    },
    {
      "cell_type": "code",
      "source": [
        "def parse_txtlst_to_dfT(txtlst):\n",
        "    '''\n",
        "    Double new line character delimination for lines, columns extend through all\n",
        "    tables\n",
        "\n",
        "    '''\n",
        "\n",
        "    # Make empty dataframe\n",
        "    dfT = pd.DataFrame()\n",
        "\n",
        "    # Iterrate through pages\n",
        "    for tl in txtlst:\n",
        "\n",
        "        # Convert bytes to string\n",
        "        tl = tl.decode('utf-8')\n",
        "\n",
        "        # Clean off header\n",
        "        tl = tl[tl.index('DEPTH'):]\n",
        "\n",
        "        # number of tables on the page\n",
        "        ntbls = tl.count('DEPTH')\n",
        "\n",
        "        ## Data in this example are in columns of all the tables.\n",
        "        # Split Accordingly.\n",
        "        data = [p.split('\\n') for p in tl.split('\\n\\n')]\n",
        "\n",
        "        # pad columns\n",
        "        colmax = max([len(p) for p in data])\n",
        "        data = [[np.nan]+p if len(p) < colmax else p for p in data ]\n",
        "\n",
        "        # drop last (short) one\n",
        "        data = [x for x in data if len(x) == colmax]\n",
        "\n",
        "        # Make array for easier parsing\n",
        "        a = np.array(data)\n",
        "\n",
        "        # Iterrate through the three tables\n",
        "        for i in range(0, ntbls):\n",
        "            #print(i)\n",
        "            a0 = a[i::3]\n",
        "            headline = a0[:,0]\n",
        "            headline = [x for x in headline if x != 'nan']\n",
        "            header = {str(k):str(v) for k,v in zip(headline[::2], headline[1::2])}\n",
        "\n",
        "            rs = a0[1:,2:].astype(float).T.flatten()\n",
        "            n = rs.shape[0]\n",
        "            step = 360 / n\n",
        "            azi = np.arange(0,360,step)\n",
        "\n",
        "            # Make dataframe of each table\n",
        "            temp = pd.DataFrame({'depth':[header['DEPTH']]*n,\n",
        "                                'tilt':[header['TILT']]*n,\n",
        "                                'vos':[header['VOS']]*n,\n",
        "                                'cAzi':azi,\n",
        "                                'r':rs})\n",
        "\n",
        "            # Add table transformed to the end of dfT\n",
        "            dfT = pd.concat([dfT,temp], ignore_index=True)\n",
        "\n",
        "    dfT = dfT.astype(float)\n",
        "\n",
        "    return dfT\n",
        "\n",
        "# Use function to make dfT\n",
        "dfT=parse_txtlst_to_dfT(txtlst)\n",
        "\n",
        "# Preview transformed lwt dataframe (one shot per row)\n",
        "dfT"
      ],
      "metadata": {
        "id": "7cwaXwMwyaHp"
      },
      "execution_count": null,
      "outputs": []
    },
    {
      "cell_type": "markdown",
      "source": [],
      "metadata": {
        "id": "dCw8bzDmGmXz"
      }
    },
    {
      "cell_type": "code",
      "source": [
        "# Save out for use with SaltPy\n",
        "dfT.to_csv('PPG7B_20250311_dfT.csv', index=False)"
      ],
      "metadata": {
        "id": "T7VjP3R8Gbl-"
      },
      "execution_count": null,
      "outputs": []
    },
    {
      "cell_type": "markdown",
      "source": [
        "---\n",
        "\n",
        "## SaltPy\n",
        "\n",
        "While we're close to release but not quite there. We'll move to presenting from a jupyter notebook for this section.\n",
        "\n",
        "<img src=\"https://jupyter.org/assets/homepage/main-logo.svg\" alt=\"jupyter\" width=\"300\"/>\n"
      ],
      "metadata": {
        "id": "7hcbaMeWHZM-"
      }
    },
    {
      "cell_type": "markdown",
      "source": [
        "---\n",
        "\n",
        "#\n",
        "\n",
        "<table>\n",
        "  <tr>\n",
        "    <td><img src=\"https://www.energy.gov/sites/default/files/styles/full_article_width/public/2025-03/West%20Hackberyy.png\" width=\"100\"></td>\n",
        "    <td style=\"padding-left:10px;\"><h2 style=\"margin:0;\">Section 4: 3D Modeling with PyVista</h2></td>\n",
        "  </tr>\n",
        "</table>\n",
        "\n",
        "\n",
        "Moving our visual representations beyond \"paper space\" in two dimentions is a powerful tool to help understand anisotropic geologic systems and our interactions with them.  There are several packages out there that will let you make models in three dimensions but my current favorite is `pyvista`. [PyVista](https://pyvista.org/) package is built on top of VTK and allows for a wide amount of flexibility with working on 3D data, visualization, and sharing models with others.  We will make a basic model and chat about the components but I encourage you to look through the documentation and see how you can build a beautiful tool to communicate with others what is going on in your own project."
      ],
      "metadata": {
        "id": "XMTjbZhL4AZZ"
      }
    },
    {
      "cell_type": "code",
      "source": [
        "# Download the exported stl file\n",
        "url = \"https://raw.githubusercontent.com/Rocks-n-Code/PythonCourse/453ab373e163f167bca7e11b184d9fcc7c5cd70d/data/PPG007B_nosmoothing_meters.stl\"\n",
        "filename = \"PPG007B_nosmoothing_meters.stl\"\n",
        "\n",
        "response = requests.get(url)\n",
        "with open(filename, \"wb\") as f:\n",
        "    f.write(response.content)\n",
        "\n",
        "# Open stl with pyvista\n",
        "mesh = pv.read(filename)"
      ],
      "metadata": {
        "id": "pU_Kx-PhSOoY"
      },
      "execution_count": null,
      "outputs": []
    },
    {
      "cell_type": "code",
      "source": [
        "# Plot only one element\n",
        "mesh.plot()"
      ],
      "metadata": {
        "id": "088SElrufYIh"
      },
      "execution_count": null,
      "outputs": []
    },
    {
      "cell_type": "code",
      "source": [
        "# Convert other inputs into the same CRS\n",
        "crs = 'EPSG:32615'\n",
        "\n",
        "# Geopandas can handle x,y coordinate refrance system changes but does not\n",
        "# change the z axis\n",
        "\n",
        "# well deviation line\n",
        "linesUTM = lines.to_crs(crs)\n",
        "devcoords = np.array(linesUTM.at[0,'geometry'].coords[:])\n",
        "devcoords[:,2] *= 0.3048\n",
        "\n",
        "# well surface location\n",
        "wellsUTM = wells.to_crs(crs)\n",
        "x0,y0,z0 = wellsUTM.at[0,'geometry'].coords[:][0]\n",
        "z0 *= 0.3048"
      ],
      "metadata": {
        "id": "yfX4xd0c4--s"
      },
      "execution_count": null,
      "outputs": []
    },
    {
      "cell_type": "code",
      "source": [
        "# Functions for making well symbol\n",
        "\n",
        "def make_circ(xyz=(0,0,0), r=5):\n",
        "    '''\n",
        "    Makes coordinates of 16 sided \"circle\"\n",
        "\n",
        "    Inputs:\n",
        "    xyz, tuple, (X, Y, Z) of center of circle\n",
        "    r, (optional) float, radius of circle\n",
        "\n",
        "    Output:\n",
        "    coords, list of x,y,z coordinates\n",
        "    '''\n",
        "    x0,y0,z0 = xyz\n",
        "    num_segments = 16\n",
        "\n",
        "    # Generate angles for each segment\n",
        "    angles = np.linspace(0, 2*np.pi, num_segments, endpoint=False)\n",
        "\n",
        "    # Compute (x, y) coordinates for each angle\n",
        "    x_coordinates = r * np.cos(angles)\n",
        "    y_coordinates = r * np.sin(angles)\n",
        "\n",
        "    # Combine x and y coordinates\n",
        "    coordinates = np.column_stack((x_coordinates, y_coordinates))\n",
        "    coords =  np.round(coordinates,5) + np.array([x0,y0])\n",
        "    coords = [(p[0],p[1],z0) for p in coords]\n",
        "    coords = coords + coords[0:1]\n",
        "    return coords\n",
        "\n",
        "def make_cross(xyz=(0,0,0),r=10):\n",
        "    '''\n",
        "    Makes coordinates of cross\n",
        "\n",
        "    Inputs:\n",
        "    xyz, tuple, (X, Y, Z) of center of cross\n",
        "    r, (optional) float, radius of cross\n",
        "\n",
        "    Output:\n",
        "    list of x,y,z coordinates\n",
        "    '''\n",
        "    x0,y0,z0 = xyz\n",
        "    return [[(x0 + r,y0,z0),(x0 - r,y0,z0)],[(x0, y0 + r,z0),(x0,y0 - r,z0)]]\n",
        "\n",
        "def make_well_mark(xyz=(0,0,0),r=10):\n",
        "    '''\n",
        "    Makes coordinates of well symbol\n",
        "\n",
        "    Inputs:\n",
        "    xyz, tuple, (X, Y, Z) of center of cross\n",
        "    r, (optional) float, radius of cross\n",
        "\n",
        "    Output:\n",
        "    cross\n",
        "    '''\n",
        "    cross = make_cross(xyz=xyz,r=r)\n",
        "    cross.append(make_circ(xyz=xyz,r=r/2))\n",
        "    return cross"
      ],
      "metadata": {
        "id": "SMXhjF54NquQ"
      },
      "execution_count": null,
      "outputs": []
    },
    {
      "cell_type": "code",
      "source": [
        "# Make Plotter Plot of Multiple Elements\n",
        "pl = pv.Plotter()\n",
        "\n",
        "# Add well point\n",
        "linescoords = make_well_mark(xyz=(x0,y0,z0))\n",
        "\n",
        "for line in linescoords:\n",
        "    line_source = pv.MultipleLines( points=line)\n",
        "    pl.add_mesh(line_source, color=\"k\", line_width=1)\n",
        "\n",
        "# Add Well Deviation path\n",
        "devsource = pv.MultipleLines( points=devcoords)\n",
        "pl.add_mesh(devsource, color=\"grey\", line_width=3, opacity=0.3)\n",
        "\n",
        "# Add Cavern\n",
        "pl.add_mesh(mesh, color='r', opacity=0.3)\n",
        "\n",
        "pl.show()"
      ],
      "metadata": {
        "id": "ynwK4QZtQnEo"
      },
      "execution_count": null,
      "outputs": []
    },
    {
      "cell_type": "code",
      "source": [
        "# Save an html file of our 3D model\n",
        "pl.camera_position ='xz' #adjust camera location\n",
        "pl.export_html(r\"PPG-007B_example.html\")"
      ],
      "metadata": {
        "id": "F5JuXfEScsna"
      },
      "execution_count": null,
      "outputs": []
    },
    {
      "cell_type": "markdown",
      "source": [
        "You can access the file in the folder in the left bar and download it.\n",
        "This file can be shared with others to view 3d models without special\n",
        "software."
      ],
      "metadata": {
        "id": "7zmHnf8jiPk8"
      }
    },
    {
      "cell_type": "code",
      "source": [],
      "metadata": {
        "id": "wDShVLubhpke"
      },
      "execution_count": null,
      "outputs": []
    }
  ]
}