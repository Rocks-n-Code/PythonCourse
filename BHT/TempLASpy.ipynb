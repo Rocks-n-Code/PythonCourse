{
 "cells": [
  {
   "cell_type": "code",
   "execution_count": 35,
   "id": "2f647051",
   "metadata": {},
   "outputs": [],
   "source": [
    "'''\n",
    "Make Pseudo tempature LAS logs from corrected bottom hole tempatures.\n",
    "\n",
    "Copyright (c) 2023 Matthew W. Bauer, PG\n",
    "\n",
    "Permission is hereby granted, free of charge, to any person obtaining a copy\n",
    "of this software and associated documentation files (the \"Software\"), to deal\n",
    "in the Software without restriction, including without limitation the rights\n",
    "to use, copy, modify, merge, publish, distribute, sublicense, and/or sell\n",
    "copies of the Software, and to permit persons to whom the Software is\n",
    "furnished to do so, subject to the following conditions:\n",
    "\n",
    "The above copyright notice and this permission notice shall be included in all\n",
    "copies or substantial portions of the Software.\n",
    "\n",
    "THE SOFTWARE IS PROVIDED \"AS IS\", WITHOUT WARRANTY OF ANY KIND, EXPRESS OR\n",
    "IMPLIED, INCLUDING BUT NOT LIMITED TO THE WARRANTIES OF MERCHANTABILITY,\n",
    "FITNESS FOR A PARTICULAR PURPOSE AND NONINFRINGEMENT. IN NO EVENT SHALL THE\n",
    "AUTHORS OR COPYRIGHT HOLDERS BE LIABLE FOR ANY CLAIM, DAMAGES OR OTHER\n",
    "LIABILITY, WHETHER IN AN ACTION OF CONTRACT, TORT OR OTHERWISE, ARISING FROM,\n",
    "OUT OF OR IN CONNECTION WITH THE SOFTWARE OR THE USE OR OTHER DEALINGS IN THE\n",
    "SOFTWARE.\n",
    "'''\n",
    "\n",
    "import pandas as pd\n",
    "import lasio\n",
    "import numpy as np"
   ]
  },
  {
   "cell_type": "code",
   "execution_count": 36,
   "id": "277acbe0",
   "metadata": {},
   "outputs": [
    {
     "data": {
      "text/html": [
       "<div>\n",
       "<style scoped>\n",
       "    .dataframe tbody tr th:only-of-type {\n",
       "        vertical-align: middle;\n",
       "    }\n",
       "\n",
       "    .dataframe tbody tr th {\n",
       "        vertical-align: top;\n",
       "    }\n",
       "\n",
       "    .dataframe thead th {\n",
       "        text-align: right;\n",
       "    }\n",
       "</style>\n",
       "<table border=\"1\" class=\"dataframe\">\n",
       "  <thead>\n",
       "    <tr style=\"text-align: right;\">\n",
       "      <th></th>\n",
       "      <th>API</th>\n",
       "      <th>BHTcorr</th>\n",
       "      <th>BHTdepth</th>\n",
       "      <th>STRT</th>\n",
       "      <th>SurfAvg</th>\n",
       "    </tr>\n",
       "  </thead>\n",
       "  <tbody>\n",
       "    <tr>\n",
       "      <th>0</th>\n",
       "      <td>0123456789</td>\n",
       "      <td>180</td>\n",
       "      <td>2000</td>\n",
       "      <td>0</td>\n",
       "      <td>55</td>\n",
       "    </tr>\n",
       "  </tbody>\n",
       "</table>\n",
       "</div>"
      ],
      "text/plain": [
       "          API  BHTcorr  BHTdepth  STRT  SurfAvg\n",
       "0  0123456789      180      2000     0       55"
      ]
     },
     "execution_count": 36,
     "metadata": {},
     "output_type": "execute_result"
    }
   ],
   "source": [
    "## Dumby Data\n",
    "wells = pd.DataFrame({'API':['0123456789'],\n",
    "                     'BHTcorr':[180],\n",
    "                     'BHTdepth':[2000],\n",
    "                      'STRT':[0],\n",
    "                     'SurfAvg':[55]})\n",
    "#Real Data\n",
    "#wells = pd.read_excel('your_file.xlsx')\n",
    "\n",
    "wells.head()"
   ]
  },
  {
   "cell_type": "code",
   "execution_count": 39,
   "id": "6f22feba",
   "metadata": {},
   "outputs": [],
   "source": [
    "stepdepth = 1\n",
    "depthunits = 'ft'\n",
    "tempunits = 'degF'\n",
    "\n",
    "for index, row in wells.iterrows():\n",
    "    #break\n",
    "    n = int(row['BHTdepth'] / stepdepth)\n",
    "    tempCurve = np.linspace(row['SurfAvg'],row['BHTcorr'],num=n)\n",
    "    DEPT = np.linspace(row['STRT'],row['BHTdepth'],num=n)\n",
    "\n",
    "    df = pd.DataFrame({'DEPT':DEPT,'TEMP':tempCurve})\n",
    "    df.DEPT = df.DEPT.round(1)\n",
    "    df.TEMP = df.TEMP.round(3)\n",
    "\n",
    "    las = lasio.LASFile()\n",
    "    las.well.API['value'] = row['API']\n",
    "    las.well.STRT = lasio.HeaderItem('STRT', value=row['STRT'], unit=depthunits)\n",
    "    las.well.STOP = lasio.HeaderItem('STOP', value=row['BHTdepth'], unit=depthunits)\n",
    "    las.well.STEP = lasio.HeaderItem('STEP', value=stepdepth, unit=depthunits)\n",
    "    las.well['COMP'] = lasio.HeaderItem('COMP', value='TempLASpy, by MWB')\n",
    "\n",
    "    # Other columns\n",
    "    other_cols = ['NULL','WELL','FLD','LOC','PROV','CNTY','STAT','CTRY','SRVC','DATE','UWI']\n",
    "\n",
    "    for col in other_cols:\n",
    "        if col in list(wells):\n",
    "            if str(row[col]) != 'nan':\n",
    "                las.well[col] = lasio.HeaderItem(col, value=row[col])\n",
    "\n",
    "\n",
    "    #las.params['DEPT'] = lasio.HeaderItem('DEPT', value=depthunits)\n",
    "    #las.params['TEMP'] = lasio.HeaderItem('TEMP', value=tempunits)\n",
    "\n",
    "    las.append_curve('DEPT', df.DEPT.values, unit=depthunits)\n",
    "    las.append_curve('DEPT', df.TEMP.values, unit=tempunits)\n",
    "\n",
    "    filename = row['API'] + '_TempLAS.las'\n",
    "    las.write(filename, version=1.2)"
   ]
  },
  {
   "cell_type": "code",
   "execution_count": null,
   "id": "2a140839",
   "metadata": {},
   "outputs": [],
   "source": []
  }
 ],
 "metadata": {
  "kernelspec": {
   "display_name": "Python 3 (ipykernel)",
   "language": "python",
   "name": "python3"
  },
  "language_info": {
   "codemirror_mode": {
    "name": "ipython",
    "version": 3
   },
   "file_extension": ".py",
   "mimetype": "text/x-python",
   "name": "python",
   "nbconvert_exporter": "python",
   "pygments_lexer": "ipython3",
   "version": "3.9.13"
  }
 },
 "nbformat": 4,
 "nbformat_minor": 5
}
