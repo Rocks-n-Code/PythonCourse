{
  "nbformat": 4,
  "nbformat_minor": 0,
  "metadata": {
    "colab": {
      "name": "t20-subsurface-intro.ipynb",
      "provenance": [],
      "collapsed_sections": [],
      "include_colab_link": true
    },
    "kernelspec": {
      "name": "python3",
      "display_name": "Python 3"
    }
  },
  "cells": [
    {
      "cell_type": "markdown",
      "metadata": {
        "id": "view-in-github",
        "colab_type": "text"
      },
      "source": [
        "<a href=\"https://colab.research.google.com/github/Rocks-n-Code/PythonCourse/blob/master/5%20-%20Lasio%20%26%20Striplog.ipynb\" target=\"_parent\"><img src=\"https://colab.research.google.com/assets/colab-badge.svg\" alt=\"Open In Colab\"/></a>"
      ]
    },
    {
      "cell_type": "markdown",
      "metadata": {
        "id": "oFCuwz_4uGs8"
      },
      "source": [
        "# 5 - Lasio & Striplog \r\n",
        "## by Thomas Martin"
      ]
    },
    {
      "cell_type": "markdown",
      "metadata": {
        "id": "BaVKCLh5uXce"
      },
      "source": [
        "Adapted from Thomas's talk at Transform 2020 - [Video](https://youtu.be/oytSwhqvKbc) - [Repo](https://github.com/ThomasMGeo/Transform2020)\n",
        "\n",
        "![Thomas Martin](https://github.com/Rocks-n-Code/PythonCourse/blob/master/img/TM130160.jpg?raw=true)\n",
        "\n",
        "[Thomas Martin](https://twitter.com/ThomasM_geo) is a graduate student at [Colorado School of Mines](https://www.mines.edu/), in the [CoRE](https://core.mines.edu/) research group. He is working on core-log automated interepertation using machine learning. Feel free to reach out on [twitter](https://twitter.com/ThomasM_geo) or catch him on the software underground slack! \n"
      ]
    },
    {
      "cell_type": "markdown",
      "metadata": {
        "id": "Uj8t-AXB0nNn"
      },
      "source": [
        "There are whole classes devoted to basic python syntax, loops, functions, etc. This class is to just get you up and running with some key basics that can help with basic projects. Join us on the slack for some pointers!"
      ]
    },
    {
      "cell_type": "markdown",
      "metadata": {
        "id": "hcKP1Y8ZxUEB"
      },
      "source": [
        "## Importing and Using Packages"
      ]
    },
    {
      "cell_type": "code",
      "metadata": {
        "id": "cPWwh2HXxVmy"
      },
      "source": [
        "import matplotlib.pyplot as plt\r\n",
        "import pandas as pd\r\n",
        "import numpy as np"
      ],
      "execution_count": 1,
      "outputs": []
    },
    {
      "cell_type": "markdown",
      "metadata": {
        "id": "K-aVqCH6yMQe"
      },
      "source": [
        "Importing a few others that I use in (almost) every project. We can import them normally becuase Google pre-loaded them. Google does not pre-load everything that you need, sometimes you might need to install it.  ~*warning* ~ not every package can easily be imported in Colab. I have not figured out what makes some go and some not. But stats and plotting is usually pretty safe. Niche, one off, old, academic code, less so. "
      ]
    },
    {
      "cell_type": "code",
      "metadata": {
        "id": "-GVjJfbUxo7R",
        "colab": {
          "base_uri": "https://localhost:8080/"
        },
        "outputId": "dc3917c4-a37a-4c8b-b8c9-01958e9c0b74"
      },
      "source": [
        "!pip install lasio # the ! before the pip is important, also this is a shell command, not a python one"
      ],
      "execution_count": 2,
      "outputs": [
        {
          "output_type": "stream",
          "text": [
            "Collecting lasio\n",
            "  Downloading https://files.pythonhosted.org/packages/5e/8e/ce58a22ec8454a12f92333a50f2add5f6131218c4815952d6ca7cbd578f0/lasio-0.28-py3-none-any.whl\n",
            "Requirement already satisfied: numpy in /usr/local/lib/python3.7/dist-packages (from lasio) (1.19.5)\n",
            "Installing collected packages: lasio\n",
            "Successfully installed lasio-0.28\n"
          ],
          "name": "stdout"
        }
      ]
    },
    {
      "cell_type": "markdown",
      "metadata": {
        "id": "hWaC0LxVyWQW"
      },
      "source": [
        "Just installed the lasio package using pip. Lasio is a .las file imput and output reader. It's a great way to read in a .las file (well logs, not LiDAR) to use in python. After installing it, you still need to import it. The github for lasio is [here](https://github.com/kinverarity1/lasio)"
      ]
    },
    {
      "cell_type": "code",
      "metadata": {
        "id": "0qpm6NlMyQsD"
      },
      "source": [
        "import lasio"
      ],
      "execution_count": 3,
      "outputs": []
    },
    {
      "cell_type": "markdown",
      "metadata": {
        "id": "clpopEZGziBZ"
      },
      "source": [
        "There are hundreds of packages, not all of them work with Colab. We will install and import packages throughout the notebook."
      ]
    },
    {
      "cell_type": "markdown",
      "metadata": {
        "id": "km-2ZX7pF_h2"
      },
      "source": [
        "# Well log input and output using lasio"
      ]
    },
    {
      "cell_type": "markdown",
      "metadata": {
        "id": "3xS1PNakIi-g"
      },
      "source": [
        "lasio (.las input and output) is one of my all time favorite packages. It's updated often, and it works 99.5% of the time with .las files (well logs, not LiDAR data). The repo is [here](https://github.com/kinverarity1/lasio) on github. "
      ]
    },
    {
      "cell_type": "code",
      "metadata": {
        "id": "f7E2EqpeIic2"
      },
      "source": [
        "las = lasio.read('https://raw.githubusercontent.com/ThomasMGeo/Transform2020/master/t20-intro/4900722147_722147B.las')"
      ],
      "execution_count": 4,
      "outputs": []
    },
    {
      "cell_type": "markdown",
      "metadata": {
        "id": "Txaa55DxKDrr"
      },
      "source": [
        "We just read in a las file! Let's do a quick quaility control, and make some plots."
      ]
    },
    {
      "cell_type": "code",
      "metadata": {
        "id": "hHOhO8R3Vq-E",
        "colab": {
          "base_uri": "https://localhost:8080/"
        },
        "outputId": "a5d47dd0-9699-495c-e457-21c6a880c946"
      },
      "source": [
        "dir(las)"
      ],
      "execution_count": 5,
      "outputs": [
        {
          "output_type": "execute_result",
          "data": {
            "text/plain": [
              "['__class__',\n",
              " '__delattr__',\n",
              " '__dict__',\n",
              " '__dir__',\n",
              " '__doc__',\n",
              " '__eq__',\n",
              " '__format__',\n",
              " '__ge__',\n",
              " '__getattribute__',\n",
              " '__getitem__',\n",
              " '__gt__',\n",
              " '__hash__',\n",
              " '__init__',\n",
              " '__init_subclass__',\n",
              " '__le__',\n",
              " '__lt__',\n",
              " '__module__',\n",
              " '__ne__',\n",
              " '__new__',\n",
              " '__reduce__',\n",
              " '__reduce_ex__',\n",
              " '__repr__',\n",
              " '__setattr__',\n",
              " '__setitem__',\n",
              " '__sizeof__',\n",
              " '__str__',\n",
              " '__subclasshook__',\n",
              " '__weakref__',\n",
              " '_index_unit_contains',\n",
              " '_text',\n",
              " 'add_curve',\n",
              " 'add_curve_raw',\n",
              " 'append_curve',\n",
              " 'append_curve_item',\n",
              " 'curves',\n",
              " 'curvesdict',\n",
              " 'data',\n",
              " 'delete_curve',\n",
              " 'depth_ft',\n",
              " 'depth_m',\n",
              " 'df',\n",
              " 'encoding',\n",
              " 'get_curve',\n",
              " 'header',\n",
              " 'index',\n",
              " 'index_unit',\n",
              " 'insert_curve',\n",
              " 'insert_curve_item',\n",
              " 'items',\n",
              " 'iteritems',\n",
              " 'iterkeys',\n",
              " 'itervalues',\n",
              " 'json',\n",
              " 'keys',\n",
              " 'match_raw_section',\n",
              " 'other',\n",
              " 'params',\n",
              " 'read',\n",
              " 'sections',\n",
              " 'set_data',\n",
              " 'set_data_from_df',\n",
              " 'stack_curves',\n",
              " 'to_csv',\n",
              " 'to_excel',\n",
              " 'to_json',\n",
              " 'to_json_old',\n",
              " 'values',\n",
              " 'version',\n",
              " 'well',\n",
              " 'write']"
            ]
          },
          "metadata": {
            "tags": []
          },
          "execution_count": 5
        }
      ]
    },
    {
      "cell_type": "markdown",
      "metadata": {
        "id": "SBR-V203Vvbk"
      },
      "source": [
        "So there is a lot of stuff going on with the las object we just created. Which is awesome! But can be daunting to get into what you are looking for."
      ]
    },
    {
      "cell_type": "code",
      "metadata": {
        "id": "ZkTyhx2WJ-ed",
        "colab": {
          "base_uri": "https://localhost:8080/"
        },
        "outputId": "bbb0d15f-6911-45b3-b460-8b90ca369a25"
      },
      "source": [
        "las.curves"
      ],
      "execution_count": 7,
      "outputs": [
        {
          "output_type": "execute_result",
          "data": {
            "text/plain": [
              "[CurveItem(mnemonic=\"DEPT\", unit=\"F\", value=\"\", descr=\"DEPTH (BOREHOLE) {F13.5}\", original_mnemonic=\"DEPT\", data.shape=(20587,)),\n",
              " CurveItem(mnemonic=\"AHO10\", unit=\"OHMM\", value=\"\", descr=\"Array Induction One Foot Resistivity A10 {F13.4}\", original_mnemonic=\"AHO10\", data.shape=(20587,)),\n",
              " CurveItem(mnemonic=\"AHO20\", unit=\"OHMM\", value=\"\", descr=\"Array Induction One Foot Resistivity A20 {F13.4}\", original_mnemonic=\"AHO20\", data.shape=(20587,)),\n",
              " CurveItem(mnemonic=\"AHO30\", unit=\"OHMM\", value=\"\", descr=\"Array Induction One Foot Resistivity A30 {F13.4}\", original_mnemonic=\"AHO30\", data.shape=(20587,)),\n",
              " CurveItem(mnemonic=\"AHO60\", unit=\"OHMM\", value=\"\", descr=\"Array Induction One Foot Resistivity A60 {F13.4}\", original_mnemonic=\"AHO60\", data.shape=(20587,)),\n",
              " CurveItem(mnemonic=\"AHO90\", unit=\"OHMM\", value=\"\", descr=\"Array Induction One Foot Resistivity A90 {F13.4}\", original_mnemonic=\"AHO90\", data.shape=(20587,)),\n",
              " CurveItem(mnemonic=\"BS\", unit=\"IN\", value=\"\", descr=\"Bit Size {F13.4}\", original_mnemonic=\"BS\", data.shape=(20587,)),\n",
              " CurveItem(mnemonic=\"CDF\", unit=\"LBF\", value=\"\", descr=\"Calibrated Downhole Force {F13.4}\", original_mnemonic=\"CDF\", data.shape=(20587,)),\n",
              " CurveItem(mnemonic=\"CTEM\", unit=\"DEGF\", value=\"\", descr=\"Cartridge Temperature {F13.4}\", original_mnemonic=\"CTEM\", data.shape=(20587,)),\n",
              " CurveItem(mnemonic=\"DCAL\", unit=\"IN\", value=\"\", descr=\"Differential Caliper {F13.4}\", original_mnemonic=\"DCAL\", data.shape=(20587,)),\n",
              " CurveItem(mnemonic=\"DPH8\", unit=\"CFCF\", value=\"\", descr=\"HRGD High Resolution Density Porosity {F14.5}\", original_mnemonic=\"DPH8\", data.shape=(20587,)),\n",
              " CurveItem(mnemonic=\"DPHZ\", unit=\"CFCF\", value=\"\", descr=\"HRDD Standard Resolution Density Porosity {F13.4}\", original_mnemonic=\"DPHZ\", data.shape=(20587,)),\n",
              " CurveItem(mnemonic=\"EHGR\", unit=\"GAPI\", value=\"\", descr=\"HiRes Gamma-Ray {F13.4}\", original_mnemonic=\"EHGR\", data.shape=(20587,)),\n",
              " CurveItem(mnemonic=\"FCD\", unit=\"IN\", value=\"\", descr=\"Future Casing Diameter {F13.4}\", original_mnemonic=\"FCD\", data.shape=(20587,)),\n",
              " CurveItem(mnemonic=\"GR\", unit=\"GAPI\", value=\"\", descr=\"Gamma Ray {F13.4}\", original_mnemonic=\"GR\", data.shape=(20587,)),\n",
              " CurveItem(mnemonic=\"HCAL\", unit=\"IN\", value=\"\", descr=\"HRCC Cal. Caliper {F13.4}\", original_mnemonic=\"HCAL\", data.shape=(20587,)),\n",
              " CurveItem(mnemonic=\"HDRA\", unit=\"G/C3\", value=\"\", descr=\"HRDD Density Correction {F13.4}\", original_mnemonic=\"HDRA\", data.shape=(20587,)),\n",
              " CurveItem(mnemonic=\"HGR\", unit=\"GAPI\", value=\"\", descr=\"HiRes Gamma-Ray {F13.4}\", original_mnemonic=\"HGR\", data.shape=(20587,)),\n",
              " CurveItem(mnemonic=\"HMIN\", unit=\"OHMM\", value=\"\", descr=\"MCFL Micro Inverse Resistivity {F13.4}\", original_mnemonic=\"HMIN\", data.shape=(20587,)),\n",
              " CurveItem(mnemonic=\"HMNO\", unit=\"OHMM\", value=\"\", descr=\"MCFL Micro Normal Resistivity {F13.4}\", original_mnemonic=\"HMNO\", data.shape=(20587,)),\n",
              " CurveItem(mnemonic=\"HNPO\", unit=\"CFCF\", value=\"\", descr=\"High Resolution Enhanced Thermal Neutron Porosity {F14.5}\", original_mnemonic=\"HNPO\", data.shape=(20587,)),\n",
              " CurveItem(mnemonic=\"HTNP\", unit=\"CFCF\", value=\"\", descr=\"High Resolution Thermal Neutron Ratio Method {F14.5}\", original_mnemonic=\"HTNP\", data.shape=(20587,)),\n",
              " CurveItem(mnemonic=\"PEF8\", unit=\"\", value=\"\", descr=\"HRDD High Resolution Formation Photoelectric Factor {F14.5}\", original_mnemonic=\"PEF8\", data.shape=(20587,)),\n",
              " CurveItem(mnemonic=\"RHO8\", unit=\"G/C3\", value=\"\", descr=\"HRDD High Resolution Formation Density {F14.5}\", original_mnemonic=\"RHO8\", data.shape=(20587,)),\n",
              " CurveItem(mnemonic=\"RXO8\", unit=\"OHMM\", value=\"\", descr=\"MCFL Invaded Formation Resistivity filtered at 8 inches {F14.5}\", original_mnemonic=\"RXO8\", data.shape=(20587,)),\n",
              " CurveItem(mnemonic=\"RXOI\", unit=\"OHMM\", value=\"\", descr=\"Invaded Formation Resistivity Very High Resolution {F14.5}\", original_mnemonic=\"RXOI\", data.shape=(20587,)),\n",
              " CurveItem(mnemonic=\"SP\", unit=\"MV\", value=\"\", descr=\"Spontaneous Potential {F13.4}\", original_mnemonic=\"SP\", data.shape=(20587,)),\n",
              " CurveItem(mnemonic=\"TENS\", unit=\"LBF\", value=\"\", descr=\"Cable Tension {F14.5}\", original_mnemonic=\"TENS\", data.shape=(20587,))]"
            ]
          },
          "metadata": {
            "tags": []
          },
          "execution_count": 7
        }
      ]
    },
    {
      "cell_type": "markdown",
      "metadata": {
        "id": "k1QvFJ5pb3Yf"
      },
      "source": [
        "Wow, this well has a lot of curves! OK, we are going to make a data frame for the data in the .las file. This will behave really similar to the previous data frame"
      ]
    },
    {
      "cell_type": "code",
      "metadata": {
        "id": "07Vv8C-3KFWj",
        "colab": {
          "base_uri": "https://localhost:8080/",
          "height": 235
        },
        "outputId": "1c960cda-9b9d-40d1-a3c0-c8c318542411"
      },
      "source": [
        "data = las.df() # This time we named the dataframe data and not df\n",
        "data.head()"
      ],
      "execution_count": 8,
      "outputs": [
        {
          "output_type": "execute_result",
          "data": {
            "text/html": [
              "<div>\n",
              "<style scoped>\n",
              "    .dataframe tbody tr th:only-of-type {\n",
              "        vertical-align: middle;\n",
              "    }\n",
              "\n",
              "    .dataframe tbody tr th {\n",
              "        vertical-align: top;\n",
              "    }\n",
              "\n",
              "    .dataframe thead th {\n",
              "        text-align: right;\n",
              "    }\n",
              "</style>\n",
              "<table border=\"1\" class=\"dataframe\">\n",
              "  <thead>\n",
              "    <tr style=\"text-align: right;\">\n",
              "      <th></th>\n",
              "      <th>AHO10</th>\n",
              "      <th>AHO20</th>\n",
              "      <th>AHO30</th>\n",
              "      <th>AHO60</th>\n",
              "      <th>AHO90</th>\n",
              "      <th>BS</th>\n",
              "      <th>CDF</th>\n",
              "      <th>CTEM</th>\n",
              "      <th>DCAL</th>\n",
              "      <th>DPH8</th>\n",
              "      <th>DPHZ</th>\n",
              "      <th>EHGR</th>\n",
              "      <th>FCD</th>\n",
              "      <th>GR</th>\n",
              "      <th>HCAL</th>\n",
              "      <th>HDRA</th>\n",
              "      <th>HGR</th>\n",
              "      <th>HMIN</th>\n",
              "      <th>HMNO</th>\n",
              "      <th>HNPO</th>\n",
              "      <th>HTNP</th>\n",
              "      <th>PEF8</th>\n",
              "      <th>RHO8</th>\n",
              "      <th>RXO8</th>\n",
              "      <th>RXOI</th>\n",
              "      <th>SP</th>\n",
              "      <th>TENS</th>\n",
              "    </tr>\n",
              "    <tr>\n",
              "      <th>DEPT</th>\n",
              "      <th></th>\n",
              "      <th></th>\n",
              "      <th></th>\n",
              "      <th></th>\n",
              "      <th></th>\n",
              "      <th></th>\n",
              "      <th></th>\n",
              "      <th></th>\n",
              "      <th></th>\n",
              "      <th></th>\n",
              "      <th></th>\n",
              "      <th></th>\n",
              "      <th></th>\n",
              "      <th></th>\n",
              "      <th></th>\n",
              "      <th></th>\n",
              "      <th></th>\n",
              "      <th></th>\n",
              "      <th></th>\n",
              "      <th></th>\n",
              "      <th></th>\n",
              "      <th></th>\n",
              "      <th></th>\n",
              "      <th></th>\n",
              "      <th></th>\n",
              "      <th></th>\n",
              "      <th></th>\n",
              "    </tr>\n",
              "  </thead>\n",
              "  <tbody>\n",
              "    <tr>\n",
              "      <th>264.57275</th>\n",
              "      <td>2.9255</td>\n",
              "      <td>3.2413</td>\n",
              "      <td>3.4473</td>\n",
              "      <td>3.7072</td>\n",
              "      <td>3.5825</td>\n",
              "      <td>8.75</td>\n",
              "      <td>714.3266</td>\n",
              "      <td>94.4001</td>\n",
              "      <td>0.0157</td>\n",
              "      <td>-0.51861</td>\n",
              "      <td>-0.5117</td>\n",
              "      <td>62.9528</td>\n",
              "      <td>7.0</td>\n",
              "      <td>57.5765</td>\n",
              "      <td>8.7657</td>\n",
              "      <td>0.8911</td>\n",
              "      <td>61.5717</td>\n",
              "      <td>0.1018</td>\n",
              "      <td>0.1102</td>\n",
              "      <td>0.4626</td>\n",
              "      <td>0.50474</td>\n",
              "      <td>9.98008</td>\n",
              "      <td>3.5057</td>\n",
              "      <td>0.09612</td>\n",
              "      <td>0.04418</td>\n",
              "      <td>-75.6761</td>\n",
              "      <td>903.50800</td>\n",
              "    </tr>\n",
              "    <tr>\n",
              "      <th>264.65608</th>\n",
              "      <td>2.9255</td>\n",
              "      <td>3.2413</td>\n",
              "      <td>3.4473</td>\n",
              "      <td>3.7072</td>\n",
              "      <td>3.5825</td>\n",
              "      <td>8.75</td>\n",
              "      <td>706.3282</td>\n",
              "      <td>94.4001</td>\n",
              "      <td>0.0157</td>\n",
              "      <td>-0.51861</td>\n",
              "      <td>-0.5117</td>\n",
              "      <td>62.9528</td>\n",
              "      <td>7.0</td>\n",
              "      <td>57.5765</td>\n",
              "      <td>8.7657</td>\n",
              "      <td>0.8911</td>\n",
              "      <td>61.5717</td>\n",
              "      <td>0.1018</td>\n",
              "      <td>0.1102</td>\n",
              "      <td>0.4626</td>\n",
              "      <td>0.50474</td>\n",
              "      <td>9.98008</td>\n",
              "      <td>3.5057</td>\n",
              "      <td>0.09612</td>\n",
              "      <td>0.04418</td>\n",
              "      <td>-75.5199</td>\n",
              "      <td>899.50816</td>\n",
              "    </tr>\n",
              "    <tr>\n",
              "      <th>264.73941</th>\n",
              "      <td>2.9255</td>\n",
              "      <td>3.2413</td>\n",
              "      <td>3.4473</td>\n",
              "      <td>3.7072</td>\n",
              "      <td>3.5825</td>\n",
              "      <td>8.75</td>\n",
              "      <td>698.3297</td>\n",
              "      <td>94.4001</td>\n",
              "      <td>0.0157</td>\n",
              "      <td>-0.51861</td>\n",
              "      <td>-0.5117</td>\n",
              "      <td>61.1155</td>\n",
              "      <td>7.0</td>\n",
              "      <td>57.5765</td>\n",
              "      <td>8.7657</td>\n",
              "      <td>0.8911</td>\n",
              "      <td>59.7747</td>\n",
              "      <td>0.1018</td>\n",
              "      <td>0.1102</td>\n",
              "      <td>0.4626</td>\n",
              "      <td>0.50474</td>\n",
              "      <td>9.98008</td>\n",
              "      <td>3.5057</td>\n",
              "      <td>0.09612</td>\n",
              "      <td>0.04418</td>\n",
              "      <td>-75.3636</td>\n",
              "      <td>895.50832</td>\n",
              "    </tr>\n",
              "    <tr>\n",
              "      <th>264.82274</th>\n",
              "      <td>2.9255</td>\n",
              "      <td>3.2413</td>\n",
              "      <td>3.4473</td>\n",
              "      <td>3.7072</td>\n",
              "      <td>3.5825</td>\n",
              "      <td>8.75</td>\n",
              "      <td>690.3313</td>\n",
              "      <td>94.4001</td>\n",
              "      <td>0.0157</td>\n",
              "      <td>-0.51861</td>\n",
              "      <td>-0.5117</td>\n",
              "      <td>59.0108</td>\n",
              "      <td>7.0</td>\n",
              "      <td>57.5765</td>\n",
              "      <td>8.7657</td>\n",
              "      <td>0.8911</td>\n",
              "      <td>57.7162</td>\n",
              "      <td>0.1018</td>\n",
              "      <td>0.1102</td>\n",
              "      <td>0.4626</td>\n",
              "      <td>0.50474</td>\n",
              "      <td>9.98008</td>\n",
              "      <td>3.5057</td>\n",
              "      <td>0.09612</td>\n",
              "      <td>0.04418</td>\n",
              "      <td>-75.2074</td>\n",
              "      <td>891.50848</td>\n",
              "    </tr>\n",
              "    <tr>\n",
              "      <th>264.90607</th>\n",
              "      <td>2.9255</td>\n",
              "      <td>3.2413</td>\n",
              "      <td>3.4473</td>\n",
              "      <td>3.7072</td>\n",
              "      <td>3.5825</td>\n",
              "      <td>8.75</td>\n",
              "      <td>682.3329</td>\n",
              "      <td>94.4001</td>\n",
              "      <td>0.0157</td>\n",
              "      <td>-0.51861</td>\n",
              "      <td>-0.5117</td>\n",
              "      <td>57.2754</td>\n",
              "      <td>7.0</td>\n",
              "      <td>57.5765</td>\n",
              "      <td>8.7657</td>\n",
              "      <td>0.8911</td>\n",
              "      <td>56.0189</td>\n",
              "      <td>0.1018</td>\n",
              "      <td>0.1102</td>\n",
              "      <td>0.4626</td>\n",
              "      <td>0.50474</td>\n",
              "      <td>9.98008</td>\n",
              "      <td>3.5057</td>\n",
              "      <td>0.09612</td>\n",
              "      <td>0.04418</td>\n",
              "      <td>-75.0511</td>\n",
              "      <td>887.50864</td>\n",
              "    </tr>\n",
              "  </tbody>\n",
              "</table>\n",
              "</div>"
            ],
            "text/plain": [
              "            AHO10   AHO20   AHO30   AHO60  ...     RXO8     RXOI       SP       TENS\n",
              "DEPT                                       ...                                      \n",
              "264.57275  2.9255  3.2413  3.4473  3.7072  ...  0.09612  0.04418 -75.6761  903.50800\n",
              "264.65608  2.9255  3.2413  3.4473  3.7072  ...  0.09612  0.04418 -75.5199  899.50816\n",
              "264.73941  2.9255  3.2413  3.4473  3.7072  ...  0.09612  0.04418 -75.3636  895.50832\n",
              "264.82274  2.9255  3.2413  3.4473  3.7072  ...  0.09612  0.04418 -75.2074  891.50848\n",
              "264.90607  2.9255  3.2413  3.4473  3.7072  ...  0.09612  0.04418 -75.0511  887.50864\n",
              "\n",
              "[5 rows x 27 columns]"
            ]
          },
          "metadata": {
            "tags": []
          },
          "execution_count": 8
        }
      ]
    },
    {
      "cell_type": "markdown",
      "metadata": {
        "id": "oFV_WvFJKegu"
      },
      "source": [
        "Scroll around! If you want to get a handle on stats of your well curves, using the describe function on a dataframe is awesome. "
      ]
    },
    {
      "cell_type": "code",
      "metadata": {
        "id": "o54RFQxzPeoK"
      },
      "source": [
        "data.to_csv('well_data.csv') # just saved it out!"
      ],
      "execution_count": 9,
      "outputs": []
    },
    {
      "cell_type": "markdown",
      "metadata": {
        "id": "Edr96Ez9O3d7"
      },
      "source": [
        "Once this is in a data frame, you can export the curve data as a csv! This can be used in excel, spotfire, matlab or any other program you are more familiar with. This alone saves tons of time! While I prefer python, I know it's not for everyone."
      ]
    },
    {
      "cell_type": "code",
      "metadata": {
        "id": "MYIJvIteKatN",
        "colab": {
          "base_uri": "https://localhost:8080/",
          "height": 317
        },
        "outputId": "8dd8d6f5-a64a-4f1a-f428-420869e76d13"
      },
      "source": [
        "data.describe()"
      ],
      "execution_count": 10,
      "outputs": [
        {
          "output_type": "execute_result",
          "data": {
            "text/html": [
              "<div>\n",
              "<style scoped>\n",
              "    .dataframe tbody tr th:only-of-type {\n",
              "        vertical-align: middle;\n",
              "    }\n",
              "\n",
              "    .dataframe tbody tr th {\n",
              "        vertical-align: top;\n",
              "    }\n",
              "\n",
              "    .dataframe thead th {\n",
              "        text-align: right;\n",
              "    }\n",
              "</style>\n",
              "<table border=\"1\" class=\"dataframe\">\n",
              "  <thead>\n",
              "    <tr style=\"text-align: right;\">\n",
              "      <th></th>\n",
              "      <th>AHO10</th>\n",
              "      <th>AHO20</th>\n",
              "      <th>AHO30</th>\n",
              "      <th>AHO60</th>\n",
              "      <th>AHO90</th>\n",
              "      <th>BS</th>\n",
              "      <th>CDF</th>\n",
              "      <th>CTEM</th>\n",
              "      <th>DCAL</th>\n",
              "      <th>DPH8</th>\n",
              "      <th>DPHZ</th>\n",
              "      <th>EHGR</th>\n",
              "      <th>FCD</th>\n",
              "      <th>GR</th>\n",
              "      <th>HCAL</th>\n",
              "      <th>HDRA</th>\n",
              "      <th>HGR</th>\n",
              "      <th>HMIN</th>\n",
              "      <th>HMNO</th>\n",
              "      <th>HNPO</th>\n",
              "      <th>HTNP</th>\n",
              "      <th>PEF8</th>\n",
              "      <th>RHO8</th>\n",
              "      <th>RXO8</th>\n",
              "      <th>RXOI</th>\n",
              "      <th>SP</th>\n",
              "      <th>TENS</th>\n",
              "    </tr>\n",
              "  </thead>\n",
              "  <tbody>\n",
              "    <tr>\n",
              "      <th>count</th>\n",
              "      <td>20587.000000</td>\n",
              "      <td>20587.000000</td>\n",
              "      <td>20587.000000</td>\n",
              "      <td>20587.000000</td>\n",
              "      <td>20587.000000</td>\n",
              "      <td>20587.00</td>\n",
              "      <td>20587.000000</td>\n",
              "      <td>20587.000000</td>\n",
              "      <td>20587.000000</td>\n",
              "      <td>20587.000000</td>\n",
              "      <td>20587.000000</td>\n",
              "      <td>20587.000000</td>\n",
              "      <td>20587.0</td>\n",
              "      <td>20587.000000</td>\n",
              "      <td>20587.000000</td>\n",
              "      <td>20526.000000</td>\n",
              "      <td>20587.000000</td>\n",
              "      <td>20587.000000</td>\n",
              "      <td>20587.000000</td>\n",
              "      <td>20587.000000</td>\n",
              "      <td>20587.000000</td>\n",
              "      <td>20526.000000</td>\n",
              "      <td>20526.000000</td>\n",
              "      <td>20587.000000</td>\n",
              "      <td>20587.000000</td>\n",
              "      <td>20587.000000</td>\n",
              "      <td>20587.000000</td>\n",
              "    </tr>\n",
              "    <tr>\n",
              "      <th>mean</th>\n",
              "      <td>32.252442</td>\n",
              "      <td>34.950929</td>\n",
              "      <td>31.329049</td>\n",
              "      <td>27.927270</td>\n",
              "      <td>27.410640</td>\n",
              "      <td>8.75</td>\n",
              "      <td>676.743216</td>\n",
              "      <td>98.415896</td>\n",
              "      <td>0.604529</td>\n",
              "      <td>1.979741</td>\n",
              "      <td>1.983869</td>\n",
              "      <td>103.408938</td>\n",
              "      <td>7.0</td>\n",
              "      <td>98.657851</td>\n",
              "      <td>9.354361</td>\n",
              "      <td>0.020861</td>\n",
              "      <td>98.662439</td>\n",
              "      <td>32.480518</td>\n",
              "      <td>30.536038</td>\n",
              "      <td>0.354168</td>\n",
              "      <td>0.350520</td>\n",
              "      <td>2.633982</td>\n",
              "      <td>2.378150</td>\n",
              "      <td>75.528476</td>\n",
              "      <td>95.113983</td>\n",
              "      <td>-204.752749</td>\n",
              "      <td>1127.159692</td>\n",
              "    </tr>\n",
              "    <tr>\n",
              "      <th>std</th>\n",
              "      <td>128.857713</td>\n",
              "      <td>140.897812</td>\n",
              "      <td>103.180496</td>\n",
              "      <td>65.327454</td>\n",
              "      <td>62.005216</td>\n",
              "      <td>0.00</td>\n",
              "      <td>58.856309</td>\n",
              "      <td>2.063567</td>\n",
              "      <td>0.763592</td>\n",
              "      <td>33.070237</td>\n",
              "      <td>33.070029</td>\n",
              "      <td>29.508451</td>\n",
              "      <td>0.0</td>\n",
              "      <td>27.748973</td>\n",
              "      <td>0.762442</td>\n",
              "      <td>0.115197</td>\n",
              "      <td>28.603177</td>\n",
              "      <td>122.967020</td>\n",
              "      <td>110.639868</td>\n",
              "      <td>0.122171</td>\n",
              "      <td>0.109249</td>\n",
              "      <td>1.030962</td>\n",
              "      <td>0.243767</td>\n",
              "      <td>335.963370</td>\n",
              "      <td>427.417809</td>\n",
              "      <td>25.678274</td>\n",
              "      <td>169.538997</td>\n",
              "    </tr>\n",
              "    <tr>\n",
              "      <th>min</th>\n",
              "      <td>1.390700</td>\n",
              "      <td>1.575200</td>\n",
              "      <td>1.617800</td>\n",
              "      <td>1.696000</td>\n",
              "      <td>1.692500</td>\n",
              "      <td>8.75</td>\n",
              "      <td>-47.630800</td>\n",
              "      <td>94.400100</td>\n",
              "      <td>-5.538100</td>\n",
              "      <td>-1.199270</td>\n",
              "      <td>-0.801500</td>\n",
              "      <td>14.501400</td>\n",
              "      <td>7.0</td>\n",
              "      <td>14.818800</td>\n",
              "      <td>3.211900</td>\n",
              "      <td>-0.024500</td>\n",
              "      <td>13.126700</td>\n",
              "      <td>0.088000</td>\n",
              "      <td>0.098000</td>\n",
              "      <td>0.079420</td>\n",
              "      <td>0.101640</td>\n",
              "      <td>0.900000</td>\n",
              "      <td>1.207080</td>\n",
              "      <td>0.079030</td>\n",
              "      <td>0.044180</td>\n",
              "      <td>-258.340900</td>\n",
              "      <td>265.016600</td>\n",
              "    </tr>\n",
              "    <tr>\n",
              "      <th>25%</th>\n",
              "      <td>3.698500</td>\n",
              "      <td>4.027950</td>\n",
              "      <td>4.242050</td>\n",
              "      <td>4.588850</td>\n",
              "      <td>4.585250</td>\n",
              "      <td>8.75</td>\n",
              "      <td>657.181250</td>\n",
              "      <td>96.376600</td>\n",
              "      <td>0.322000</td>\n",
              "      <td>0.121195</td>\n",
              "      <td>0.130000</td>\n",
              "      <td>82.076900</td>\n",
              "      <td>7.0</td>\n",
              "      <td>78.332950</td>\n",
              "      <td>9.065300</td>\n",
              "      <td>-0.009400</td>\n",
              "      <td>78.283300</td>\n",
              "      <td>8.775450</td>\n",
              "      <td>7.776900</td>\n",
              "      <td>0.274150</td>\n",
              "      <td>0.276935</td>\n",
              "      <td>2.176795</td>\n",
              "      <td>2.323168</td>\n",
              "      <td>10.977510</td>\n",
              "      <td>11.351180</td>\n",
              "      <td>-218.790850</td>\n",
              "      <td>993.186120</td>\n",
              "    </tr>\n",
              "    <tr>\n",
              "      <th>50%</th>\n",
              "      <td>17.888500</td>\n",
              "      <td>18.315800</td>\n",
              "      <td>18.586600</td>\n",
              "      <td>18.668400</td>\n",
              "      <td>18.827100</td>\n",
              "      <td>8.75</td>\n",
              "      <td>677.837400</td>\n",
              "      <td>98.353000</td>\n",
              "      <td>0.570400</td>\n",
              "      <td>0.156360</td>\n",
              "      <td>0.160700</td>\n",
              "      <td>108.148800</td>\n",
              "      <td>7.0</td>\n",
              "      <td>102.271700</td>\n",
              "      <td>9.318800</td>\n",
              "      <td>-0.004600</td>\n",
              "      <td>102.443300</td>\n",
              "      <td>18.257100</td>\n",
              "      <td>18.035600</td>\n",
              "      <td>0.330620</td>\n",
              "      <td>0.328380</td>\n",
              "      <td>2.580130</td>\n",
              "      <td>2.392280</td>\n",
              "      <td>29.029920</td>\n",
              "      <td>29.143410</td>\n",
              "      <td>-201.691900</td>\n",
              "      <td>1135.970200</td>\n",
              "    </tr>\n",
              "    <tr>\n",
              "      <th>75%</th>\n",
              "      <td>29.044600</td>\n",
              "      <td>29.038150</td>\n",
              "      <td>29.255450</td>\n",
              "      <td>29.894550</td>\n",
              "      <td>29.507250</td>\n",
              "      <td>8.75</td>\n",
              "      <td>702.729100</td>\n",
              "      <td>100.329500</td>\n",
              "      <td>0.829150</td>\n",
              "      <td>0.198580</td>\n",
              "      <td>0.202400</td>\n",
              "      <td>124.792850</td>\n",
              "      <td>7.0</td>\n",
              "      <td>119.445750</td>\n",
              "      <td>9.579500</td>\n",
              "      <td>0.009400</td>\n",
              "      <td>119.703650</td>\n",
              "      <td>26.987650</td>\n",
              "      <td>26.212000</td>\n",
              "      <td>0.408290</td>\n",
              "      <td>0.406300</td>\n",
              "      <td>2.905518</td>\n",
              "      <td>2.450400</td>\n",
              "      <td>46.963240</td>\n",
              "      <td>48.894250</td>\n",
              "      <td>-186.484350</td>\n",
              "      <td>1265.619160</td>\n",
              "    </tr>\n",
              "    <tr>\n",
              "      <th>max</th>\n",
              "      <td>1950.000000</td>\n",
              "      <td>1950.000000</td>\n",
              "      <td>1699.496400</td>\n",
              "      <td>1294.100300</td>\n",
              "      <td>1097.065100</td>\n",
              "      <td>8.75</td>\n",
              "      <td>794.634900</td>\n",
              "      <td>100.329500</td>\n",
              "      <td>5.340600</td>\n",
              "      <td>607.212100</td>\n",
              "      <td>607.212100</td>\n",
              "      <td>217.478100</td>\n",
              "      <td>7.0</td>\n",
              "      <td>194.760500</td>\n",
              "      <td>14.090600</td>\n",
              "      <td>2.109400</td>\n",
              "      <td>211.141600</td>\n",
              "      <td>2065.122000</td>\n",
              "      <td>1849.720400</td>\n",
              "      <td>1.174630</td>\n",
              "      <td>1.200880</td>\n",
              "      <td>10.000000</td>\n",
              "      <td>4.628800</td>\n",
              "      <td>4896.128690</td>\n",
              "      <td>4960.920260</td>\n",
              "      <td>-74.894900</td>\n",
              "      <td>1634.082460</td>\n",
              "    </tr>\n",
              "  </tbody>\n",
              "</table>\n",
              "</div>"
            ],
            "text/plain": [
              "              AHO10         AHO20  ...            SP          TENS\n",
              "count  20587.000000  20587.000000  ...  20587.000000  20587.000000\n",
              "mean      32.252442     34.950929  ...   -204.752749   1127.159692\n",
              "std      128.857713    140.897812  ...     25.678274    169.538997\n",
              "min        1.390700      1.575200  ...   -258.340900    265.016600\n",
              "25%        3.698500      4.027950  ...   -218.790850    993.186120\n",
              "50%       17.888500     18.315800  ...   -201.691900   1135.970200\n",
              "75%       29.044600     29.038150  ...   -186.484350   1265.619160\n",
              "max     1950.000000   1950.000000  ...    -74.894900   1634.082460\n",
              "\n",
              "[8 rows x 27 columns]"
            ]
          },
          "metadata": {
            "tags": []
          },
          "execution_count": 10
        }
      ]
    },
    {
      "cell_type": "markdown",
      "metadata": {
        "id": "GEZRBNCCYKfK"
      },
      "source": [
        "If you want different percentiles in df.describe, you can pass those values"
      ]
    },
    {
      "cell_type": "code",
      "metadata": {
        "id": "8ATukdSaYD7Z",
        "colab": {
          "base_uri": "https://localhost:8080/",
          "height": 317
        },
        "outputId": "9da468b4-4034-4a59-873b-0f740dd20564"
      },
      "source": [
        "data.describe(percentiles=[0.1, 0.5, 0.9])"
      ],
      "execution_count": 11,
      "outputs": [
        {
          "output_type": "execute_result",
          "data": {
            "text/html": [
              "<div>\n",
              "<style scoped>\n",
              "    .dataframe tbody tr th:only-of-type {\n",
              "        vertical-align: middle;\n",
              "    }\n",
              "\n",
              "    .dataframe tbody tr th {\n",
              "        vertical-align: top;\n",
              "    }\n",
              "\n",
              "    .dataframe thead th {\n",
              "        text-align: right;\n",
              "    }\n",
              "</style>\n",
              "<table border=\"1\" class=\"dataframe\">\n",
              "  <thead>\n",
              "    <tr style=\"text-align: right;\">\n",
              "      <th></th>\n",
              "      <th>AHO10</th>\n",
              "      <th>AHO20</th>\n",
              "      <th>AHO30</th>\n",
              "      <th>AHO60</th>\n",
              "      <th>AHO90</th>\n",
              "      <th>BS</th>\n",
              "      <th>CDF</th>\n",
              "      <th>CTEM</th>\n",
              "      <th>DCAL</th>\n",
              "      <th>DPH8</th>\n",
              "      <th>DPHZ</th>\n",
              "      <th>EHGR</th>\n",
              "      <th>FCD</th>\n",
              "      <th>GR</th>\n",
              "      <th>HCAL</th>\n",
              "      <th>HDRA</th>\n",
              "      <th>HGR</th>\n",
              "      <th>HMIN</th>\n",
              "      <th>HMNO</th>\n",
              "      <th>HNPO</th>\n",
              "      <th>HTNP</th>\n",
              "      <th>PEF8</th>\n",
              "      <th>RHO8</th>\n",
              "      <th>RXO8</th>\n",
              "      <th>RXOI</th>\n",
              "      <th>SP</th>\n",
              "      <th>TENS</th>\n",
              "    </tr>\n",
              "  </thead>\n",
              "  <tbody>\n",
              "    <tr>\n",
              "      <th>count</th>\n",
              "      <td>20587.000000</td>\n",
              "      <td>20587.000000</td>\n",
              "      <td>20587.000000</td>\n",
              "      <td>20587.000000</td>\n",
              "      <td>20587.000000</td>\n",
              "      <td>20587.00</td>\n",
              "      <td>20587.000000</td>\n",
              "      <td>20587.000000</td>\n",
              "      <td>20587.000000</td>\n",
              "      <td>20587.000000</td>\n",
              "      <td>20587.000000</td>\n",
              "      <td>20587.000000</td>\n",
              "      <td>20587.0</td>\n",
              "      <td>20587.000000</td>\n",
              "      <td>20587.000000</td>\n",
              "      <td>20526.000000</td>\n",
              "      <td>20587.000000</td>\n",
              "      <td>20587.000000</td>\n",
              "      <td>20587.000000</td>\n",
              "      <td>20587.000000</td>\n",
              "      <td>20587.000000</td>\n",
              "      <td>20526.000000</td>\n",
              "      <td>20526.000000</td>\n",
              "      <td>20587.000000</td>\n",
              "      <td>20587.000000</td>\n",
              "      <td>20587.000000</td>\n",
              "      <td>20587.000000</td>\n",
              "    </tr>\n",
              "    <tr>\n",
              "      <th>mean</th>\n",
              "      <td>32.252442</td>\n",
              "      <td>34.950929</td>\n",
              "      <td>31.329049</td>\n",
              "      <td>27.927270</td>\n",
              "      <td>27.410640</td>\n",
              "      <td>8.75</td>\n",
              "      <td>676.743216</td>\n",
              "      <td>98.415896</td>\n",
              "      <td>0.604529</td>\n",
              "      <td>1.979741</td>\n",
              "      <td>1.983869</td>\n",
              "      <td>103.408938</td>\n",
              "      <td>7.0</td>\n",
              "      <td>98.657851</td>\n",
              "      <td>9.354361</td>\n",
              "      <td>0.020861</td>\n",
              "      <td>98.662439</td>\n",
              "      <td>32.480518</td>\n",
              "      <td>30.536038</td>\n",
              "      <td>0.354168</td>\n",
              "      <td>0.350520</td>\n",
              "      <td>2.633982</td>\n",
              "      <td>2.378150</td>\n",
              "      <td>75.528476</td>\n",
              "      <td>95.113983</td>\n",
              "      <td>-204.752749</td>\n",
              "      <td>1127.159692</td>\n",
              "    </tr>\n",
              "    <tr>\n",
              "      <th>std</th>\n",
              "      <td>128.857713</td>\n",
              "      <td>140.897812</td>\n",
              "      <td>103.180496</td>\n",
              "      <td>65.327454</td>\n",
              "      <td>62.005216</td>\n",
              "      <td>0.00</td>\n",
              "      <td>58.856309</td>\n",
              "      <td>2.063567</td>\n",
              "      <td>0.763592</td>\n",
              "      <td>33.070237</td>\n",
              "      <td>33.070029</td>\n",
              "      <td>29.508451</td>\n",
              "      <td>0.0</td>\n",
              "      <td>27.748973</td>\n",
              "      <td>0.762442</td>\n",
              "      <td>0.115197</td>\n",
              "      <td>28.603177</td>\n",
              "      <td>122.967020</td>\n",
              "      <td>110.639868</td>\n",
              "      <td>0.122171</td>\n",
              "      <td>0.109249</td>\n",
              "      <td>1.030962</td>\n",
              "      <td>0.243767</td>\n",
              "      <td>335.963370</td>\n",
              "      <td>427.417809</td>\n",
              "      <td>25.678274</td>\n",
              "      <td>169.538997</td>\n",
              "    </tr>\n",
              "    <tr>\n",
              "      <th>min</th>\n",
              "      <td>1.390700</td>\n",
              "      <td>1.575200</td>\n",
              "      <td>1.617800</td>\n",
              "      <td>1.696000</td>\n",
              "      <td>1.692500</td>\n",
              "      <td>8.75</td>\n",
              "      <td>-47.630800</td>\n",
              "      <td>94.400100</td>\n",
              "      <td>-5.538100</td>\n",
              "      <td>-1.199270</td>\n",
              "      <td>-0.801500</td>\n",
              "      <td>14.501400</td>\n",
              "      <td>7.0</td>\n",
              "      <td>14.818800</td>\n",
              "      <td>3.211900</td>\n",
              "      <td>-0.024500</td>\n",
              "      <td>13.126700</td>\n",
              "      <td>0.088000</td>\n",
              "      <td>0.098000</td>\n",
              "      <td>0.079420</td>\n",
              "      <td>0.101640</td>\n",
              "      <td>0.900000</td>\n",
              "      <td>1.207080</td>\n",
              "      <td>0.079030</td>\n",
              "      <td>0.044180</td>\n",
              "      <td>-258.340900</td>\n",
              "      <td>265.016600</td>\n",
              "    </tr>\n",
              "    <tr>\n",
              "      <th>10%</th>\n",
              "      <td>3.184980</td>\n",
              "      <td>3.509000</td>\n",
              "      <td>3.688180</td>\n",
              "      <td>3.991140</td>\n",
              "      <td>3.986700</td>\n",
              "      <td>8.75</td>\n",
              "      <td>637.930820</td>\n",
              "      <td>96.376600</td>\n",
              "      <td>0.160920</td>\n",
              "      <td>0.076676</td>\n",
              "      <td>0.086660</td>\n",
              "      <td>62.570360</td>\n",
              "      <td>7.0</td>\n",
              "      <td>60.979180</td>\n",
              "      <td>8.903840</td>\n",
              "      <td>-0.011800</td>\n",
              "      <td>59.607200</td>\n",
              "      <td>7.311280</td>\n",
              "      <td>6.476320</td>\n",
              "      <td>0.241558</td>\n",
              "      <td>0.247488</td>\n",
              "      <td>1.901610</td>\n",
              "      <td>2.248325</td>\n",
              "      <td>9.123478</td>\n",
              "      <td>9.566218</td>\n",
              "      <td>-239.552500</td>\n",
              "      <td>905.932832</td>\n",
              "    </tr>\n",
              "    <tr>\n",
              "      <th>50%</th>\n",
              "      <td>17.888500</td>\n",
              "      <td>18.315800</td>\n",
              "      <td>18.586600</td>\n",
              "      <td>18.668400</td>\n",
              "      <td>18.827100</td>\n",
              "      <td>8.75</td>\n",
              "      <td>677.837400</td>\n",
              "      <td>98.353000</td>\n",
              "      <td>0.570400</td>\n",
              "      <td>0.156360</td>\n",
              "      <td>0.160700</td>\n",
              "      <td>108.148800</td>\n",
              "      <td>7.0</td>\n",
              "      <td>102.271700</td>\n",
              "      <td>9.318800</td>\n",
              "      <td>-0.004600</td>\n",
              "      <td>102.443300</td>\n",
              "      <td>18.257100</td>\n",
              "      <td>18.035600</td>\n",
              "      <td>0.330620</td>\n",
              "      <td>0.328380</td>\n",
              "      <td>2.580130</td>\n",
              "      <td>2.392280</td>\n",
              "      <td>29.029920</td>\n",
              "      <td>29.143410</td>\n",
              "      <td>-201.691900</td>\n",
              "      <td>1135.970200</td>\n",
              "    </tr>\n",
              "    <tr>\n",
              "      <th>90%</th>\n",
              "      <td>43.416000</td>\n",
              "      <td>45.704660</td>\n",
              "      <td>45.920180</td>\n",
              "      <td>47.533120</td>\n",
              "      <td>46.893140</td>\n",
              "      <td>8.75</td>\n",
              "      <td>723.437400</td>\n",
              "      <td>100.329500</td>\n",
              "      <td>1.174340</td>\n",
              "      <td>0.245968</td>\n",
              "      <td>0.251200</td>\n",
              "      <td>136.347920</td>\n",
              "      <td>7.0</td>\n",
              "      <td>128.798960</td>\n",
              "      <td>9.927100</td>\n",
              "      <td>0.050050</td>\n",
              "      <td>130.638420</td>\n",
              "      <td>37.413980</td>\n",
              "      <td>36.193220</td>\n",
              "      <td>0.458994</td>\n",
              "      <td>0.446972</td>\n",
              "      <td>3.113760</td>\n",
              "      <td>2.523935</td>\n",
              "      <td>82.309720</td>\n",
              "      <td>91.293292</td>\n",
              "      <td>-182.544800</td>\n",
              "      <td>1340.929328</td>\n",
              "    </tr>\n",
              "    <tr>\n",
              "      <th>max</th>\n",
              "      <td>1950.000000</td>\n",
              "      <td>1950.000000</td>\n",
              "      <td>1699.496400</td>\n",
              "      <td>1294.100300</td>\n",
              "      <td>1097.065100</td>\n",
              "      <td>8.75</td>\n",
              "      <td>794.634900</td>\n",
              "      <td>100.329500</td>\n",
              "      <td>5.340600</td>\n",
              "      <td>607.212100</td>\n",
              "      <td>607.212100</td>\n",
              "      <td>217.478100</td>\n",
              "      <td>7.0</td>\n",
              "      <td>194.760500</td>\n",
              "      <td>14.090600</td>\n",
              "      <td>2.109400</td>\n",
              "      <td>211.141600</td>\n",
              "      <td>2065.122000</td>\n",
              "      <td>1849.720400</td>\n",
              "      <td>1.174630</td>\n",
              "      <td>1.200880</td>\n",
              "      <td>10.000000</td>\n",
              "      <td>4.628800</td>\n",
              "      <td>4896.128690</td>\n",
              "      <td>4960.920260</td>\n",
              "      <td>-74.894900</td>\n",
              "      <td>1634.082460</td>\n",
              "    </tr>\n",
              "  </tbody>\n",
              "</table>\n",
              "</div>"
            ],
            "text/plain": [
              "              AHO10         AHO20  ...            SP          TENS\n",
              "count  20587.000000  20587.000000  ...  20587.000000  20587.000000\n",
              "mean      32.252442     34.950929  ...   -204.752749   1127.159692\n",
              "std      128.857713    140.897812  ...     25.678274    169.538997\n",
              "min        1.390700      1.575200  ...   -258.340900    265.016600\n",
              "10%        3.184980      3.509000  ...   -239.552500    905.932832\n",
              "50%       17.888500     18.315800  ...   -201.691900   1135.970200\n",
              "90%       43.416000     45.704660  ...   -182.544800   1340.929328\n",
              "max     1950.000000   1950.000000  ...    -74.894900   1634.082460\n",
              "\n",
              "[8 rows x 27 columns]"
            ]
          },
          "metadata": {
            "tags": []
          },
          "execution_count": 11
        }
      ]
    },
    {
      "cell_type": "markdown",
      "metadata": {
        "id": "F8fYijj0OxGd"
      },
      "source": [
        "If you want to save out this table as a csv, you can do that in one line:"
      ]
    },
    {
      "cell_type": "code",
      "metadata": {
        "id": "ypBfvWdZOm67"
      },
      "source": [
        "data.describe().to_csv(\"petro-stats.csv\")"
      ],
      "execution_count": 12,
      "outputs": []
    },
    {
      "cell_type": "code",
      "metadata": {
        "id": "hWf-Cn4qK5s8",
        "colab": {
          "base_uri": "https://localhost:8080/"
        },
        "outputId": "9545e493-a284-4407-ed9a-d5bcfa28c67b"
      },
      "source": [
        "data.AHO10.min() # If you just want one of the stats"
      ],
      "execution_count": 13,
      "outputs": [
        {
          "output_type": "execute_result",
          "data": {
            "text/plain": [
              "1.3907"
            ]
          },
          "metadata": {
            "tags": []
          },
          "execution_count": 13
        }
      ]
    },
    {
      "cell_type": "markdown",
      "metadata": {
        "id": "3xf9-P3pNA3H"
      },
      "source": [
        "Let's use the quantile function to make some quick cutoffs (will be used in the future)."
      ]
    },
    {
      "cell_type": "code",
      "metadata": {
        "id": "RtkrAj0ULbrU",
        "colab": {
          "base_uri": "https://localhost:8080/"
        },
        "outputId": "fd0ec077-e24a-43cf-d00a-b714b9868f09"
      },
      "source": [
        "lowGR = data.GR.quantile(.20)\n",
        "lowGR"
      ],
      "execution_count": 14,
      "outputs": [
        {
          "output_type": "execute_result",
          "data": {
            "text/plain": [
              "72.89142"
            ]
          },
          "metadata": {
            "tags": []
          },
          "execution_count": 14
        }
      ]
    },
    {
      "cell_type": "code",
      "metadata": {
        "id": "FmND25DeME16",
        "colab": {
          "base_uri": "https://localhost:8080/"
        },
        "outputId": "64281540-5cbf-4c93-e0a9-8bb1ecfae8f4"
      },
      "source": [
        "highRES = data.AHO90.quantile(.95)\n",
        "highRES"
      ],
      "execution_count": 15,
      "outputs": [
        {
          "output_type": "execute_result",
          "data": {
            "text/plain": [
              "67.7296"
            ]
          },
          "metadata": {
            "tags": []
          },
          "execution_count": 15
        }
      ]
    },
    {
      "cell_type": "markdown",
      "metadata": {
        "id": "epZJ6d08Pzfs"
      },
      "source": [
        "Feel free to make your own cutoffs here!"
      ]
    },
    {
      "cell_type": "code",
      "metadata": {
        "id": "0Y7RJBGINS4q"
      },
      "source": [
        ""
      ],
      "execution_count": null,
      "outputs": []
    },
    {
      "cell_type": "markdown",
      "metadata": {
        "id": "_MJtiQniNmo5"
      },
      "source": [
        "### Plotting up well log data"
      ]
    },
    {
      "cell_type": "code",
      "metadata": {
        "id": "Y8Bi0m4YNoNJ",
        "colab": {
          "base_uri": "https://localhost:8080/",
          "height": 405
        },
        "outputId": "ba7f0c16-138c-438d-d10f-556bd75cf9d4"
      },
      "source": [
        "# Cross plot comparing GR to Deep Resistivity\n",
        "plt.figure(figsize=(5,4), dpi=100) # figure size and dpi you can set here\n",
        "plt.scatter(data.GR.values, data.AHO90.values, color='blue', marker='.', alpha=0.3)\n",
        "plt.yscale('log') #log scale for Y axis\n",
        "\n",
        "plt.grid(True)\n",
        "plt.xlabel('GR', size=16)\n",
        "plt.ylabel('Deep Resistivity', size=16)"
      ],
      "execution_count": 16,
      "outputs": [
        {
          "output_type": "execute_result",
          "data": {
            "text/plain": [
              "Text(0, 0.5, 'Deep Resistivity')"
            ]
          },
          "metadata": {
            "tags": []
          },
          "execution_count": 16
        },
        {
          "output_type": "display_data",
          "data": {
            "image/png": "[encoded data removed]",
            "text/plain": [
              "<Figure size 500x400 with 1 Axes>"
            ]
          },
          "metadata": {
            "tags": [],
            "needs_background": "light"
          }
        }
      ]
    },
    {
      "cell_type": "code",
      "metadata": {
        "id": "qKQoCqthdhqM",
        "colab": {
          "base_uri": "https://localhost:8080/",
          "height": 305
        },
        "outputId": "1c1b4a46-792b-4d48-8357-d13c4b77423e"
      },
      "source": [
        "# lets make a histogram of the GR Curve, with 20 bins, in green\n",
        "plt.hist(data.GR.values, bins = 20, color='g', alpha = 0.5)\n",
        "plt.xlabel('GR', size=16)\n",
        "plt.ylabel('Count', size=16)"
      ],
      "execution_count": 17,
      "outputs": [
        {
          "output_type": "execute_result",
          "data": {
            "text/plain": [
              "Text(0, 0.5, 'Count')"
            ]
          },
          "metadata": {
            "tags": []
          },
          "execution_count": 17
        },
        {
          "output_type": "display_data",
          "data": {
            "image/png": "[encoded data removed]",
            "text/plain": [
              "<Figure size 432x288 with 1 Axes>"
            ]
          },
          "metadata": {
            "tags": [],
            "needs_background": "light"
          }
        }
      ]
    },
    {
      "cell_type": "code",
      "metadata": {
        "id": "zL3qgjHoeZDm",
        "colab": {
          "base_uri": "https://localhost:8080/",
          "height": 670
        },
        "outputId": "d3e4d64b-0322-47fb-fef4-d652c113e757"
      },
      "source": [
        "# line plot of the Gamma curve\n",
        "plt.figure(figsize=(4,8), dpi=100)\n",
        "plt.plot(data.GR.values, data.index, color='g')\n",
        "plt.ylabel('Depth in Feet', size=16)\n",
        "plt.ylim(2000,0)\n",
        "plt.grid(True)\n"
      ],
      "execution_count": 18,
      "outputs": [
        {
          "output_type": "display_data",
          "data": {
            "image/png": "[encoded data removed]",
            "text/plain": [
              "<Figure size 400x800 with 1 Axes>"
            ]
          },
          "metadata": {
            "tags": [],
            "needs_background": "light"
          }
        }
      ]
    },
    {
      "cell_type": "markdown",
      "metadata": {
        "id": "VtSEUgGzzSXS"
      },
      "source": [
        "Let's add a depth track for deep resistivity, a title and a few other additional widigits. Also we will use the well name for the title:"
      ]
    },
    {
      "cell_type": "code",
      "metadata": {
        "id": "HJvsTdb1_tOu",
        "colab": {
          "base_uri": "https://localhost:8080/",
          "height": 35
        },
        "outputId": "a5c7c5c1-52d7-44ac-b549-711b0da549fe"
      },
      "source": [
        "las.header['Well'].WELL.value # we can pull the well name directly from the header"
      ],
      "execution_count": 19,
      "outputs": [
        {
          "output_type": "execute_result",
          "data": {
            "application/vnd.google.colaboratory.intrinsic+json": {
              "type": "string"
            },
            "text/plain": [
              "'AR FEE 1791 15-23'"
            ]
          },
          "metadata": {
            "tags": []
          },
          "execution_count": 19
        }
      ]
    },
    {
      "cell_type": "code",
      "metadata": {
        "id": "gef-2TAez7E0",
        "colab": {
          "base_uri": "https://localhost:8080/",
          "height": 689
        },
        "outputId": "78de86c5-d213-4dcd-a61a-ea4830e805ed"
      },
      "source": [
        "# line plot of the Gamma curve\n",
        "plt.figure(figsize=(6,7), dpi=100)\n",
        "\n",
        "plt.suptitle(las.header['Well'].WELL.value, size =16) # overall title\n",
        "\n",
        "plt.subplot(121) # if we are going to make two plots, matplotlib calls it a subplot\n",
        "plt.plot(data.GR.values, data.index, color='g') # the actual plot!\n",
        "plt.ylabel('Depth in Feet', size=16)\n",
        "plt.xlabel('API', size=16)\n",
        "plt.ylim(2000,0) # the limit is reversed to go deep down\n",
        "plt.grid(True) # Turning the grid on\n",
        "\n",
        "plt.subplot(122)\n",
        "plt.plot(data.AHO10.values, data.index, color='grey')\n",
        "plt.plot(data.AHO90.values, data.index, color='black')\n",
        "plt.xscale('log')\n",
        "plt.grid(True)\n",
        "plt.xlim(0.4,4000)\n",
        "plt.ylim(2000,0)\n",
        "plt.xlabel('OhmM', size=16)\n",
        "plt.tick_params(labelleft=False)  \n",
        "\n",
        "plt.savefig('awesome-plot.pdf', dpi=200)"
      ],
      "execution_count": 20,
      "outputs": [
        {
          "output_type": "display_data",
          "data": {
            "image/png": "[encoded data removed]",
            "text/plain": [
              "<Figure size 600x700 with 2 Axes>"
            ]
          },
          "metadata": {
            "tags": [],
            "needs_background": "light"
          }
        }
      ]
    },
    {
      "cell_type": "markdown",
      "metadata": {
        "id": "EKrLZTmDgAmi"
      },
      "source": [
        "Let's add a pay flag, remember the cutoffs we calcualted above? Let's use those. Using pythonic nomenclature, we will set a true flag, only when both conditions are met."
      ]
    },
    {
      "cell_type": "code",
      "metadata": {
        "id": "yNjH3HDSVsxj",
        "colab": {
          "base_uri": "https://localhost:8080/"
        },
        "outputId": "b2ffce61-bdc0-41a7-8065-2db769c43fed"
      },
      "source": [
        "payMapper = (data.GR.values <= lowGR) & (data.AHO90.values >= highRES)\n",
        "np.unique(payMapper)"
      ],
      "execution_count": 21,
      "outputs": [
        {
          "output_type": "execute_result",
          "data": {
            "text/plain": [
              "array([False,  True])"
            ]
          },
          "metadata": {
            "tags": []
          },
          "execution_count": 21
        }
      ]
    },
    {
      "cell_type": "markdown",
      "metadata": {
        "id": "DHOnuLS5LpFS"
      },
      "source": [
        "If we want to see how many true and false statements there are:"
      ]
    },
    {
      "cell_type": "code",
      "metadata": {
        "id": "wYVkxbLtLk3f",
        "colab": {
          "base_uri": "https://localhost:8080/"
        },
        "outputId": "23aa1845-9129-46e0-c1e5-b71e530e20c6"
      },
      "source": [
        "np.bincount(payMapper) # your specific numbers might be a bit different"
      ],
      "execution_count": 22,
      "outputs": [
        {
          "output_type": "execute_result",
          "data": {
            "text/plain": [
              "array([19597,   990])"
            ]
          },
          "metadata": {
            "tags": []
          },
          "execution_count": 22
        }
      ]
    },
    {
      "cell_type": "markdown",
      "metadata": {
        "id": "KP5-eLVgkHGH"
      },
      "source": [
        "So the GR values have to be below the cutoff, and resistivity have to be above the cutoff."
      ]
    },
    {
      "cell_type": "code",
      "metadata": {
        "id": "ycGj3S7ZhN-j",
        "colab": {
          "base_uri": "https://localhost:8080/",
          "height": 700
        },
        "outputId": "7fd899c3-e25e-414f-e696-bf3acf004824"
      },
      "source": [
        "# line plot of the Gamma curve\n",
        "plt.figure(figsize=(5,8), dpi=100)\n",
        "\n",
        "plt.subplot(131) # the subplot changed to allow for 3 columns\n",
        "plt.plot(data.GR.values, data.index, color='g')\n",
        "plt.ylabel('Depth in Feet', size=16)\n",
        "plt.xlabel('API', size=16)\n",
        "plt.ylim(2000,0)\n",
        "plt.grid(True)\n",
        "\n",
        "plt.subplot(132) # this is the new pay flag plot\n",
        "plt.fill_between(payMapper, data.index, color='red') # used fill between, not plot\n",
        "plt.ylim(2000,0)\n",
        "plt.tick_params(labelleft=False)  \n",
        "plt.xlabel('Pay Flag', size=16)\n",
        "plt.grid(True)\n",
        "\n",
        "plt.subplot(133)\n",
        "plt.plot(data.AHO90.values, data.index, color='black')\n",
        "plt.xscale('log')\n",
        "plt.grid(True)\n",
        "plt.xlim(0.4,4000)\n",
        "plt.ylim(2000,0)\n",
        "plt.xlabel('OhmM', size=16)\n",
        "plt.tick_params(labelleft=False)  \n",
        "\n"
      ],
      "execution_count": 23,
      "outputs": [
        {
          "output_type": "display_data",
          "data": {
            "image/png": "[encoded data removed]",
            "text/plain": [
              "<Figure size 500x800 with 3 Axes>"
            ]
          },
          "metadata": {
            "tags": [],
            "needs_background": "light"
          }
        }
      ]
    },
    {
      "cell_type": "markdown",
      "metadata": {
        "id": "js-ScaoWjGfb"
      },
      "source": [
        "Little heavy on the pay flag! But a good template for future work. Can be used for any sort of cutoff, or statistical analysis. Mess around with a plot below!"
      ]
    },
    {
      "cell_type": "code",
      "metadata": {
        "id": "t4lvntH-U_Cy"
      },
      "source": [
        ""
      ],
      "execution_count": null,
      "outputs": []
    },
    {
      "cell_type": "markdown",
      "metadata": {
        "id": "Wf5zQpsWxSfy"
      },
      "source": [
        "# Striplog"
      ]
    },
    {
      "cell_type": "markdown",
      "metadata": {
        "id": "Udd77REeyB_I"
      },
      "source": [
        "Striplog is an awesome package for  basic graphic logs, stratigraphic information, formations, and other geo stuff. The github is [here](https://github.com/agile-geoscience/striplog). This heavily borrows from [tutorials](https://github.com/agile-geoscience/striplog/tree/master/tutorial)."
      ]
    },
    {
      "cell_type": "code",
      "metadata": {
        "id": "cEKJUNO8xUcj",
        "colab": {
          "base_uri": "https://localhost:8080/"
        },
        "outputId": "928b2775-46e0-441d-a409-475f1f3a5de9"
      },
      "source": [
        "!pip install striplog"
      ],
      "execution_count": 24,
      "outputs": [
        {
          "output_type": "stream",
          "text": [
            "Collecting striplog\n",
            "\u001b[?25l  Downloading https://files.pythonhosted.org/packages/55/b6/f51ec01860eabe8ec0cb540b2e571771d5e98bfaaa424714ac96d82828c3/striplog-0.8.8.tar.gz (77kB)\n",
            "\r\u001b[K     |████▏                           | 10kB 12.1MB/s eta 0:00:01\r\u001b[K     |████████▍                       | 20kB 14.3MB/s eta 0:00:01\r\u001b[K     |████████████▋                   | 30kB 9.0MB/s eta 0:00:01\r\u001b[K     |████████████████▉               | 40kB 7.6MB/s eta 0:00:01\r\u001b[K     |█████████████████████           | 51kB 3.9MB/s eta 0:00:01\r\u001b[K     |█████████████████████████▏      | 61kB 4.6MB/s eta 0:00:01\r\u001b[K     |█████████████████████████████▍  | 71kB 4.8MB/s eta 0:00:01\r\u001b[K     |████████████████████████████████| 81kB 3.3MB/s \n",
            "\u001b[?25hRequirement already satisfied: numpy in /usr/local/lib/python3.7/dist-packages (from striplog) (1.19.5)\n",
            "Requirement already satisfied: matplotlib in /usr/local/lib/python3.7/dist-packages (from striplog) (3.2.2)\n",
            "Requirement already satisfied: scipy in /usr/local/lib/python3.7/dist-packages (from striplog) (1.4.1)\n",
            "Requirement already satisfied: cycler>=0.10 in /usr/local/lib/python3.7/dist-packages (from matplotlib->striplog) (0.10.0)\n",
            "Requirement already satisfied: pyparsing!=2.0.4,!=2.1.2,!=2.1.6,>=2.0.1 in /usr/local/lib/python3.7/dist-packages (from matplotlib->striplog) (2.4.7)\n",
            "Requirement already satisfied: python-dateutil>=2.1 in /usr/local/lib/python3.7/dist-packages (from matplotlib->striplog) (2.8.1)\n",
            "Requirement already satisfied: kiwisolver>=1.0.1 in /usr/local/lib/python3.7/dist-packages (from matplotlib->striplog) (1.3.1)\n",
            "Requirement already satisfied: six in /usr/local/lib/python3.7/dist-packages (from cycler>=0.10->matplotlib->striplog) (1.15.0)\n",
            "Building wheels for collected packages: striplog\n",
            "  Building wheel for striplog (setup.py) ... \u001b[?25l\u001b[?25hdone\n",
            "  Created wheel for striplog: filename=striplog-0.8.8-cp37-none-any.whl size=83655 sha256=5e0f7fd0b8231bb2992dd4b63e9c2f65b02c795bbe706aa227c9a01846202e1c\n",
            "  Stored in directory: /root/.cache/pip/wheels/f2/24/74/bd0c5947a61b8891bf41a3c7e7e3de470382315c1fae297402\n",
            "Successfully built striplog\n",
            "Installing collected packages: striplog\n",
            "Successfully installed striplog-0.8.8\n"
          ],
          "name": "stdout"
        }
      ]
    },
    {
      "cell_type": "code",
      "metadata": {
        "id": "fv2DpRBSyzyE",
        "colab": {
          "base_uri": "https://localhost:8080/",
          "height": 35
        },
        "outputId": "85a87fda-954a-4ff6-ae10-d5a3915c2a4b"
      },
      "source": [
        "import striplog\n",
        "striplog.__version__ #if this fails, just re run the above cells"
      ],
      "execution_count": 25,
      "outputs": [
        {
          "output_type": "execute_result",
          "data": {
            "application/vnd.google.colaboratory.intrinsic+json": {
              "type": "string"
            },
            "text/plain": [
              "'0.8.8'"
            ]
          },
          "metadata": {
            "tags": []
          },
          "execution_count": 25
        }
      ]
    },
    {
      "cell_type": "markdown",
      "metadata": {
        "id": "4aWoVp2-zUau"
      },
      "source": [
        "### Lexicon"
      ]
    },
    {
      "cell_type": "markdown",
      "metadata": {
        "id": "3ePFvbCHTM_r"
      },
      "source": [
        "Striplog has a lot of geowords already preloaded. Think sand, shale, mudstone, salt, etc:"
      ]
    },
    {
      "cell_type": "code",
      "metadata": {
        "id": "wfxPTtexy7B-",
        "colab": {
          "base_uri": "https://localhost:8080/"
        },
        "outputId": "06f3ad27-f919-44b1-e8d0-d26b4aa0aa69"
      },
      "source": [
        "from striplog import Lexicon\n",
        "print(Lexicon.__doc__)"
      ],
      "execution_count": 26,
      "outputs": [
        {
          "output_type": "stream",
          "text": [
            "\n",
            "    A Lexicon is a dictionary of 'types' and regex patterns.\n",
            "\n",
            "    Most commonly you will just load the default one.\n",
            "\n",
            "    Args:\n",
            "        params (dict): The dictionary to use. For an example, refer to the\n",
            "            default lexicon in ``defaults.py``.\n",
            "    \n"
          ],
          "name": "stdout"
        }
      ]
    },
    {
      "cell_type": "code",
      "metadata": {
        "id": "qIl_q_WOzSw3",
        "colab": {
          "base_uri": "https://localhost:8080/"
        },
        "outputId": "a6a5c4ac-4a31-45d3-b968-474eb1077aa0"
      },
      "source": [
        "lexicon = Lexicon.default()\n",
        "lexicon #scroll around!"
      ],
      "execution_count": 27,
      "outputs": [
        {
          "output_type": "execute_result",
          "data": {
            "text/plain": [
              "{'lithology': ['overburden', 'sandstone', 'siltstone', 'shale', 'conglomerate', 'mudstone', 'limestone', 'dolomite', 'salt', 'halite', 'anhydrite', 'gypsum', 'sylvite', 'clay', 'mud', 'silt', 'sand', 'gravel', 'boulders'], 'modifier': ['silty', 'sandy', 'shale?y', 'muddy', 'pebbly', 'gravell?y'], 'amount': ['streaks?', 'veins?', 'stringers?', 'interbed(?:s|ded)?', 'blotch(?:es)?', 'bands?', 'fragments?', 'impurit(?:y|ies)', 'abundant', 'minor', 'some', 'rare', 'flakes?', 'trace', '[-.\\\\d]+%', '[-.\\\\d]+pc', '[-.\\\\d]+per ?cent'], 'grainsize': ['vf(?:-)?', 'f(?:-)?', 'm(?:-)?', 'c(?:-)?', 'vc', 'very fine(?: to)?', 'fine(?: to)?', 'medium(?: to)?', 'coarse(?: to)?', 'very coarse', 'v fine(?: to)?', 'med(?: to)?', 'med.(?: to)?', 'v coarse', 'grains?', 'granules?', 'pebbles?', 'cobbles?', 'boulders?'], 'colour': ['red(?:dish)?', 'gray(?:ish)?', 'grey(?:ish)?', 'black(?:ish)?', 'whit(?:e|ish)', 'blu(?:e|ish)', 'purpl(?:e|ish)', 'yellow(?:ish)?', 'green(?:ish)?', 'brown(?:ish)?', 'light', 'dark', 'sandy'], 'synonyms': {'Overburden': ['Drift'], 'Anhydrite': ['Gypsum'], 'Salt': ['Halite', 'Sylvite']}, 'splitters': [' with ', ' contain(?:s|ing) ', '\\\\. '], 'parts_of_speech': {'noun': ['lithology'], 'adjective': ['colour', 'grainsize', 'modifier'], 'subordinate': ['amount']}, 'abbreviations': {'gt': 'gritty', 'dist': 'distillate', 'gr': 'grained', 'LSD': 'legal subdivision', 'ptg': 'parting', 'alg': 'algal', 'mnr': 'minor', 'Assem': 'Assem', 'Vad': 'vadose', 'MCW': 'mud cut water', 'Pch': 'patch', 'gd': 'good', '/': 'with', 'ga': 'gauged', 'bulb': 'bulbous', 'Var': 'variation', 'gn': 'green', 'alt': 'altering', 'Gil': 'gilsonite', 'Oyst': 'oyster', 'sch': 'schist', 'Clst': 'claystone', 'ves': 'vesicular', 'Nod': 'nodules', 'tt': 'tightly', 'V.P.S.': 'very poor sample V.P.S.', 'asph': 'asphaltic', 'SIP': 'shut in pressure', 'tn': 'tan', 'G&OCM': 'gas and oil cut mud', 'DI': 'dual induction log', 'Mol': 'mollusca', 'Inoc': 'inoceramus*', 'spec': 'speckled', '@': 'at', 'Amph': 'amphipora*', 'vert': 'vertical', 'lrg': 'larger', 'md': 'muddy', 'wthrd': 'weathered', 'Brec': 'breccia', 'D & A': 'dry and abandoned', 'fau': 'fauna', 'depau': 'depauperate', 'shad': 'shadow', 'DF': 'derrick floor', 'gy': 'gray', 'Elev': 'elevation', 'indst': 'indistinct', 'Syring': 'syringopora*', 'fac': 'faceted', 'GL': 'guard log', 'brhg': 'branching', 'Gt': 'grit', 'Gr': 'grains', 'FIt': 'fault', 'Tas': 'tasmanites*', 'Spr': 'spore', 'fenst': 'fenestral', 'plag': 'plagioclase', 'p': 'poorly', 'Spk': 'speck', 'Spl': 'sampole', 'SNP': 'sidewall neutron porosity log', 'n.s.': 'no sample', 'Clcar': 'calcarenite', 'pbl': 'pebble (4-64 mm)', 'cmt': 'cemented', 'Spg': 'sponge', 'Grv': 'gravel', 'Cyp': 'cypridopsis*', 'Grt': 'granite', 'SP': 'spontaneous potential', 'Res': 'residue', 'Bioh': 'bioherm', 'Biost': 'biostrom', 'tex': 'texture', 'Brach': 'brachiopod', 'hydc': 'hydrocarbon', 'Ren': 'renalcis*', 'Biot': 'biotite', 'Peld': 'pelletoid', 'Bld': 'boulder', 'ter': 'terriginous', 'splty': 'splintery', 'acic': 'acicular', 'sug': 'sugary', 'bdd': 'bedded', 'bdg': 'bedding', 'gl': 'glassy', 'abd': 'abundant', 'Intst': 'intersticies', 'Micr': 'micrite', 'O str': 'Ostracod', 'Clcsp': 'calcisphere', 'bl': 'bluish', 'abs': 'absent', 'abt': 'about', 'conspic': 'conspicuous', 'Spfool': 'superficial olite', 'sli': 'slightly', 'med': 'medium', 'O&SW': 'oil and salt water', 'biocl': 'bioclastic', 'Agg': 'aggregate', 'DST': 'drill stem test', 'Mn': 'manganese', 'psdo': 'pseudo', 'len': 'lentilcular', 'rug': 'rugosa', 'Wd': 'wood', 'hkl': 'hackly', 'DLL': 'dual laterolog', 't.s.': 'thin section', 'Mtrx': 'matrix', 'crpxln': 'crystocrystalline', 'Zn': 'zone', 'Anthr': 'anthracite', 'altg': 'alternating', 'blksh': 'blackish', 'bor': 'boreding', 'dru': 'drusy', 'ctd': 'coated', 'Conc': 'concretion', 'wtr cush': 'water cushion', 'ctc': 'contact', 'micropor': 'microporosity', 'Zr': 'zircon', 'Cono': 'conodont', 'sft': 'soft', 'Piso': 'pisoid', 'LL': 'laterolog', 'lmn': 'limonitic', 'volc': 'volcanics', 'Ctgs': 'cuttings', 'apr': 'apparent', 'tr': 'trace', 'app': 'appear', 'brt': 'bright', 'ls': 'limestone', 'Slt': 'silt', 'Circ': 'circulate', 'aph': 'aphanitic', 'oomol': 'oomoldic', 'brk': 'brackish', 'vit': 'vitreous', 'org': 'organic', 'n.v.p.': 'no visible porosity', 'w/': 'with', 'brd': 'bored', 'intxln': 'intercrystalline', 'Para': 'paraparchites*', 'Fp': 'flowing pressure', 'Ft': 'foot', 'perf': 'perforated', '&': 'and', 'fen': 'fenestraal', 'pred': 'predominantly', 'Phlog': 'phloaopite', 'perm': 'permeability', 'fibr': 'fibrous', 'msm': 'metasomatic', 'cht': 'chert', 'Fe': 'iron-ferruginous', 'dns': 'denser', 'vi': 'violet', 'fros': 'frosted', 'calc': 'calcitareous', 'Fm': 'formation', 'pres': 'preservation', 'cntrt': 'contorted', 'wvy': 'wavy', 'vps': 'very poor samples', 'ooc': 'oocastic', 'musc': 'muscovite', 'glas': 'glassy', 'Sh': 'shale', 'lchd': 'leached', 'rhb': 'rhombic', 'glau': 'glauconitic', 'Brac': 'brachiopod', 'choc': 'chocolate', 'chit': 'chitinous', 'Str': 'structure', 'Sl': 'slate', 'clus': 'cluster', 'Sa': 'salt', 'Cmt': 'cement', 'lmpy': 'lumpy', 'Sd': 'sand', 'intrapar': 'intraparticle', 'phos': 'phosphatic', 'prly': 'pearly', 'Lstr': 'lustre', 'tns': 'tension', 'f': 'finely', 'fls': 'flesh', 'des': 'descript', 'SW': 'salt water', 'flt': 'faulted', 'Cbl': 'cobble', 'plty': 'platy', 'lithgr': 'lithographic', 'flk': 'flake', 'W.R.': 'washed residue', 'SO': 'show of oil', 'v': 'very', 'deb': 'debris', 'slty': 'silty', 'fld': 'feldsparthic', 'flg': 'flaggy', 'ptch': 'patches', 'Lig': 'lignite', 'mica': 'micaeous', 'bent': 'bentonitic', 'Min': 'mineral', 'sy-Ca': 'sparry calcite', 'Lim': 'limonite', 'Invtb': 'invertebrate', 'sps': 'sparsly', 'Mid': 'middle', 'yelsh': 'ish', 'sph': 'spherules', 'spl': 'sample', 'Ls': 'limestone', 'tab': 'tabular', 'Plcy': 'palecypod', 'scat': 'scattered', 'psool': 'pseudo oolitic', 'GR': 'gamma ray', 'spsly': 'sparsly', 'Bdeye': 'birdseye', 'purp': 'purple', 'Pyr': 'pyrite', 'hom': 'homogeneous', 'Kao': 'kaolin', 'Spic': 'spicule', 'hor': 'horizontal', 'Belm': 'belemnites*', 'sid': 'sideritic', 'aft': 'after', 'Rhb': 'rhomb', 'Typ': 'type', 'sim': 'similar', 'sil': 'siliceous', 'frag': 'fragmental', 'lam': 'laminated', 'fr': 'fair', 'mar': 'maroon', 'frac': 'fractured', 'srt': 'sorting', 'Dol': 'dolomite', 'I.P.': 'in part', 'cpct': 'compact', 'max': 'maximum', 'insl': 'insoluble', 'lac': 'lacustrine', 'Mrl': 'marl', 'mag': 'magnetic', 'Ctc': 'contact', 'ireg': 'irregular', 'lav': 'lavender', 'IAB': 'initial air blow', 'fl': 'filled', 'Tril': 'trilobite', 'Foram': 'foraminifera', 'MMCFG': 'million cubic feet of gas', 'Clvg': 'cleavage', 'Alg': 'algal', 'sp': 'spotty', 'Deer': 'decrease', 'Microspr': 'microspar', 'su': 'sulphurous', 'or': 'orangish', 'strk': 'streaked', 'stri': 'striated', 'sh': 'shale', 'Moll': 'mollusc', 'spkld': 'speckled', 'sm': 'smooth', 'sl': 'slightly', 'sc': 'scales', 'sb': 'sub', 'sa': 'salt', 'strg': 'stringer', 'Trip': 'tripoli', 'Equiv': 'equivalent', 'lse': 'loose', 'mnut': 'minute', 'BHCS': 'bore hole compensated sonic', 'Cal': 'caliper', 'Chk': 'chalk', 'Biomi': 'biomicrite', 'brit': 'brittle', 'coln': 'colonial', 'Smwt': 'somewhat', 'Rf': 'reef', 'Cht': 'chert', '(D)': 'development', 'decr': 'decreasing', 'Rk': 'rock', 'RT': 'rotary table', 'fis': 'fissile', 'cln': 'clean', 'xl': 'crystalline', 'cbl': 'cobble (64-256 mm)', 'Aglm': 'agglomerate', 'Evap': 'evapourite', 'sa-c': 'salt castic', 'fib': 'fibrous', 'imp': 'impression', 'lt': 'lighter', 'eux': 'euxinic', 'cren': 'crenulated', 'gty': 'gravity', 'dess': 'dessiccation', 'clr': 'clear', 'TSTM': 'too small to measure', 'Bas': 'basalt', 'Shw': 'show', 'nod': 'nodule', 'uncons': 'unconsolidated', 'rexl': 'recrystallization', 'Cav': 'cavernous', 'FAB': 'fair air blow', 'aprox': 'approximately', '₵': 'core', 'Schm': 'schist', 'Shl': 'shell', 'xln': 'crystalline', 'Rad': 'radial', 'Oomol': 'oomold', 'Dist': 'distillate', 'extr': 'extremely', 'l': 'lower', 'Anhy': 'anhydrite', 'intv': 'interval', 'Stach': 'stachyodes*', 'crpxl': 'cryptocrystalline', 'Poln': 'pollen', 'Chtz': 'chitinozoa', 'MCFG': 'thousand cubic feet of gas', 'frmwk': 'framework', 'Lith': 'lithology', 'Macrofos': 'macrofossil', 'prphy': 'porphyry', 'Lut': 'lutite', 'OFM': 'oil flecked mud', 'Asph': 'assemblage', 'intpar': 'interparticle', 'Perm': 'permeability', 'Bdst': 'boundstone', 'chty': 'cherty', 'meta': 'metamorphic', 'ex': 'excellent', 'hrtl': 'horizontal', 'p-p': 'pin point', 'zeo': 'zeolite', 'n/s': 'no show', 'nac': 'nacerous', 'Wtr': 'water', 'apprx': 'approximate', 'rr': 'rare', 'Musc': 'muscovite', 'intclas': 'intraclastic', 'rep': 'replacedment', 'porcel': 'porcelaneous', 'BOPH': 'barrels of oil per hour', 'rd': 'rounded', 'rf': 'reefoid', 'sml': 'small', 'blk': 'black', 'IP': 'initial production', 'bld': 'bladed', 'Tub': 'tube', 'Pisol': 'pisolite', 'mtx': 'matrix', 'lmy': 'limy', 'Phos': 'phosphate', 'crd': 'cored', 'G': 'gas', 'Spo': 'spore', 'GCM': 'gas cut mud', 'SGCM': 'slight gas cut mud', 'OWWO': 'old well worked over', 'Novac': 'novaculite', 'rhmb': 'rhombic', 'argl': 'argillate', 'W': 'west', 'carb': 'carbonaceous', 'Frac': 'fracture', 'freq': 'frequent', 'ES': 'electric', 'Pyrxn': 'pyroxene', 'g': 'good', 'Contam': 'contamination', 'srtg': 'Sorteding', 'Chal': 'chalcedony', 'fspr': 'feldsparathic', 'Char': 'charophyte', 'SSO': 'slight show of oil', 'Hyde': 'hydrocarbon', 'w': 'well', 'intgn': 'inter grown', 'vrtb': 'vertebrate', 'Sphal': 'sphalerite', 'intpt': 'interpretation', 'cche': 'caliche', 'Frg': 'fringe', 'sacc': 'saccharoidal', 'onc': 'oncolites', 'Slick slick': 'slickenside', 'Diagn': 'diagenesis', 'zn': 'zone', 'Imp': 'impression', 'sblit': 'sublithic', 'Prod': 'production', 'Incl': 'inclusion', 'Frag': 'fragment', 'sphal': 'sphalerite', 'Iran': 'granule', 'dtrl': 'detritalus', 'wthd': 'weathered', 'WCM': 'water cut mud', 'GCW': 'gas cut water', 'Pet': 'petroleum', 'Microstyl': 'microstylolite', 'Volc': 'volcanic', 'BWPH': 'barrels of water per hour', 'thru': 'throughout', 'intcl': 'intraclasts', 'Biosp': 'biosparite', 'Girv': 'girvanella*', 'OWDD': 'oil well drilled deeper', 'consol': 'consolidated', 'Fus': 'fusulinid', 'sz': 'size', 'grysh': 'greyish', 'mrlst': 'marlstone', 'Strk': 'streak', 'SGCW': 'slight gas cut water', 'crnk': 'crinkled', 'Rbl': 'rubble', 'Fuc': 'fucoid', 'bdeye': 'birdseye', 'gyp': 'gypsumiferous', 'orng': 'orange', 'Endo': 'endothyra*', 'BHFP': 'bottom hole flow pressure', 'Xl': 'crystal', 'stn': 'staining', 'Qtz': 'quartz', 'csg': 'casing', 'Chlor': 'chlorite', 'r': 'rare', 'mky': 'milky', 'str': 'streak', 'Onc': 'oncolite', 'Btm': 'bottom', 'Slst': 'siltstone', 'dissem': 'disseminated', 'spr': 'sparry', 'Pap': 'paper', 'grnt': 'granite', 'Par': 'particle', 'ang': 'angular', 'Descr': 'description', 'intgwn': 'intergrown', 'Stylio': 'styliolina*', 'Intclas': 'intraclast', 'Rem': 'remains', 'chlor': 'chlorite', 'euhd': 'euhedral', 'Pend': 'pendularous', 'Rec': 'recovery', 'grnl': 'granule (2-4 mm)', 'Calc': 'calcite', 'p.d': 'pressure deformation', 'recem': 'recemented', 'strgr': 'stringer', 'lig': 'lignitic', 'Glauc': 'glauconite', 'intbd': 'interbedded', 'lim': 'itic', 'mic': 'micro', 'Db': 'diabase', 'Port por': 'porosity', 'Ech': 'echinoid', 'lit': 'lithic', 'Fluor': 'fluoresceince', 'vrvd': 'varved', 'Arag': 'aragonite', 'vgt': 'varigated', 'Clus': 'cluster', 'mot': 'mottled', 'surf': 'surface', 'pos': 'possibility', 'plas': 'plastic', 'pyr': 'pyritized', 'In': 'inch', 'kao': 'kaolin', 'Orbit': 'Orbitolina', 'MLL': 'microlaterolog', 'sdy': 'sandy', 'Mic': 'micaceous', 'Plt': 'plant', 'assoc': 'associated', 'rthy': 'earthy', 'Ivan': 'ivanovia*', 'suc': 'sucrosic', 'intercal': 'intercalated', 'glos': 'glossy', 'typ': 'typical', 'abv': 'above', 'MCO': 'mud cut oil', 'Unconf': 'unconformity', 'Bent': 'bentonite', 'dol': 'dolomitic', 'dom': 'dominant', 'flor': 'fluorescence', 'sltst': 'siltstone', 'brec': 'brecciated', 'Stri': 'striae', 'dism': 'disseminated', 'BHT': 'bottom hole temperature', 'exv': 'extrusive', 'Pol': 'polish', 'GTS': 'gas to surface', 'Mbr': 'member', 'exp': 'exposed', 'Pybit': 'pyrobitumen', 'a.a.': 'same as above sample', 'intlam': 'interlaminated', 'sd': 'sand (1/16-2 mm)', 'Rpl': 'ripple', 'dend': 'dendritic', 'pkr': 'packer', 'drlg': 'drilling', 'Spher': 'spherule', 'Hal': 'halitiferous', 'lstr': 'lustre', 'Exclas': 'extraclast', 'ML': 'microlog, minilog', 'anhy': 'anhydritic', 'drlr': 'driller', 'Rud': 'rudist', 'grapst': 'grapestone', 'Bubl': 'bubble', 'pris': 'prismatic', 'Bnd': 'band', 'och': 'ochre', 'spher': 'spherulitic', 'Jt': 'joint', 'occ': 'occasional', 'Wl': 'well', 'varic': 'varicolored', 'intrlam': 'interlaminated', 'O&G': 'oil and gas', 'mnrl': 'mineralized', 'Shlt por': 'shelter porosity', 'AOF': 'absolute open flow', 'Gyp': 'gypsumiferous', 'Bit': 'bitumen', 'Gast': 'gastropod', 'Pst': 'pumice-stone', 'PB': 'plugged back', 'Stromlt': 'stromatolite', 'BO': 'barrels of oil', 'dk': 'darker', 'CN': 'compensated neutron', 'KB': 'kelly bushing', 'dd': 'dead', 'Intvl': 'interval', 'stromlt': 'stromatolite', 'Fspr': 'feldspar', 'Milid': 'miliolid', 'cotg': 'coateding', 'cotd': 'coateding', 'repl': 'replacement', 'slily': 'slightly', 'struc': 'structure', 'SO&G': 'show of oil and gas', 'gen': 'generally', 'hetr': 'heterogeneous', 'crs': 'coarse', 'bar': 'baritic', 'bas': 'basaltic', '(W)': 'wildcat', 'shy': 'shaly', 'FDL': 'formation density log', 'w/o': 'without w/o', 'BW': 'barrels of water', 'rsns': 'resinous', 'PL': 'proximity log', 'gran': 'granular', 'BWPD': 'barrels of water per day', 'x': 'cross', 'grad': 'grading', 'Qtzt': 'quartzite', 'crm': 'cream', 'res': 'residuual', 'Pt': 'part', 'OTD': 'old total depth', 'contam': 'contaminated', 'S.W.C.': 'sidewall core', 'qtz': 'quartz', 'magnt': 'magnetite', 'Pel': 'pellet', 'num': 'numerous', 'sec': 'secondary', 'fnly': 'finly', 'arg': 'argillaceous', 'ark': 'arkosic', 'rmn': 'remainant', 'prim': 'primary', 'volat': 'volatile', 'SOCW': 'slight oil cut water', 'piso': 'pisolitic', 'pkish': 'pinkish', 'metaph': 'metamorphosed', 'trnsp': 'transparent', 'irr': 'irregular', 'hornbd': 'hornblend', \"'' or do\": 'ditto', 'biost': 'biostromal', 'gept': 'geopetal', 'trnsl': 'translucent', 'PD': 'per day', 'PH': 'per hour', 'SO&W': 'show of oil and water', 'Vnlet': 'veinlet', 'Tham': 'thamnopora*', 'wg': 'vuggy', 'C': 'coal', 'men': 'meniscus', 'exclas': 'extraclastic', 'lg': 'long', 'jt': 'jointing', 'comp': 'completion', 'gnsh': 'greenish', 'wk': 'weak', 'wi': 'with', 'wh': 'white', 'Exv': 'extrusive rock', 'S': 'sonic, acoustilog', 'magn': 'magnetic', 'gywk': 'graywacke', 'G.W.': 'granite wash', 'Satm sat': 'saturation', 'tub': 'tubular', 'tuf': 'tuffaceous', 'coq': 'coquina', 'vug': 'vugular', 'c': 'coarsely', 'fnt': 'faintly', 'dkr': 'darker', 'cov': 'covered', 'conch': 'conchoidal', 'intgran': 'intergranular', 'SI': 'shut in', 'Chit': 'chitinous', 's': 'small', 'Meta': 'metamorphic rock', 'Sst': 'sandstone', 'brak': 'brackish', 'uni': 'uniform', 'com': 'common', 'cotd gn': 'coated grains', 'Het': 'Heterostegina', 'foram': 'foraminiferal', 'chky': 'chalky', 'cl': 'clastic', 'cb': 'carbonized', 'Glas': 'glass', 'rad': 'radiating', 'poly': 'polygonal', 'hvy': 'heavy', 'pol': 'polished', 'Pent': 'pentamerus*', 'Hem': 'hematite', 'tgh': 'tough', 'cp': 'compare', 'Surf': 'surface', 'ps': 'pseudo-', 'frg': 'fringing', 'pt': 'partly', 'Bur': 'burrow', 'fri': 'friable', 'blsh': 'bluish', 'pch': 'patchy', 'stmg': 'streaming', 'frs': 'fresh', 'skel': 'skeletal', 'pyrbit': 'pyrobitumen', 'pk': 'pink', 'devit': 'devitrified', 'authg': 'authigenic', 'pl': 'plant', 'cly': 'clayey', 't.b.': 'thin-bedded', 'Tr': 'trace', 'IES': 'induction electric', 'WAB': 'weak air blow', 'lge': 'large', 'spic': 'spicular', 'psi': 'pounds per square inch', 'crbnt': 'carbonate', 'Tp': 'top', 'Pkst': 'packstone', 'Sedm': 'sediment', 'Cont': 'content', 'xbdg': 'cross-bedding', 'gns': 'gneiss', 'micgr': 'micrograined', 'Cl': 'clay', 'slt': 'silt', 'vcol': 'varicolored', 'undly': 'underlying', 'grnt.w': 'granite wash', 'n': 'no, none, non', 'contm': 'contaminated', 'sln': 'solution', 'rbl': 'rubblbly', 'fuc': 'fucoidal', 'Intr': 'intrusive', 'cvg': 'cavings', 'k': 'permeabilityable', 'slb': 'slabby', 'FTAB': 'faint air blow', 'DIL': 'dual induction laterolog', 'pyrcl': 'pyroclastic', 'cons': 'considerable', 'rndd': 'rounded', 'bot': 'botryoidal', 'Sel': 'selenite', 'vn': 'vein', 'Tf': 'tuffaceous', 'styl': 'stylotitic', 'conc': 'concretionary', 'mott': 'mottled', 'xlam': 'cross-laminated', 'x-strat': 'cross-stratified', 'Strom': 'stromatoporoid', 'ig': 'igneous', 'pap': 'papery', 'incr': 'increasing', 'litt': 'littoral', 'intstl': 'interstitial', 'bioturb': 'bioturbated', 'PPM': 'parts per million', 'GAP': 'good air blow', 'Repl': 'replaced', 'lith': 'lithographic', 'elong': 'elongate', 'Chara': 'charophytes', 'sat': 'saturated', 'incl': 'inclusion', 'Coq': 'coquina', 'Vug': 'vug', 'Cor': 'coral', 'intst': 'intersticitial', 'cncn': 'concentric', 'rng': 'range', 'orth': 'orthoclase', 'rdsh': 'redish', 'syn': 'syntaxial', 'Microfos': 'microfossilferous', 'phr': 'phreatic', 'Wkst': 'wackestone', 'pisol': 'pisolitic', 'Col': 'color', 'Jasp': 'jasper', 'Mat': 'material', 'Mbl': 'marble', 'intxl': 'intercrystalline', 'detr': 'detrital', 'sed': 'sedimentary', 'x-bd': 'cross-bedded', 'gsy': 'grasy', 'OWPB': 'oil well plugged back', 'min': 'mineralized', 'Sol': 'Soution', 'Vn': 'vein', 'col': 'colored', 'x-lam': 'cross-laminated', 'thn': 'thin', 'thk': 'thick', 'fltg': 'floating', 'Ig': 'igneous rock', 'imbd': 'imbedded', 'ck': 'choke', 'BHP': 'bottom hole pressure', 'yel': 'yellow', 'Orth': 'orthoclase', 'sptd': 'spottedy', 'spty': 'spottedy', 'Sphaer': 'sphaerocodium*', 'Pbl': 'pebble', 'intfrag': 'interfragmental', 'Scaph': 'scaphopod', 'resd': 'residual', 'Bd': 'bed', 'Fe-mag': 'ferro-magnesian', 'sks': 'slickensided', 'rexlzd': 'recrystallized', 'Bm': 'basement', 'Glob': 'globigerina*', 'elg': 'elongate', 'unident': 'unidentifiable', 'Fau': 'fauna', 'Gal': 'galeolaria*', 'cub': 'cubic', 'Fac': 'facet', 'Glos': 'gloss', 'Gab': 'gabbro', 'bnd': 'banded', 'Oo': 'ooid', 'Gns': 'gneiss', 'amb': 'amber', 'strat': 'strataified', 'amm': 'ammonite', 'vis': 'visible', 'mos': 'mosaic', 'por': 'poroussity', 'uncons.': 'unconsolidated', 'embd': 'embedded', 'Dia': 'diameter', 'rnd': 'rounded', 'sbang': 'subangular', 'cntr': 'centered', 'mol': 'moldic', 'Cvg': 'caving', 'bit': 'bitumeninous', 'Micropor': 'micropore', 'S.W.': 'salt water', 'amt': 'amount', 'mod': 'moderate', 'Crin': 'crinoidal', 'Lyr': 'layer', 'brn': 'brown', 'boudg': 'boudinage', 'OC': 'oil cut', 'Microol': 'micro-oolite', 'Ltl': 'little', 'V.op': 'valve open', 'amor': 'amorphous', 'Ark': 'arkose', 'clas': 'clastic', 'Psool': 'pseudo oolite', 'Strat': 'strata', 'Bdg': 'bedding', 'bri': 'bright', 'drsy': 'drusy', 'tstg': 'testing', 'Scol': 'scolecodonts', 'crpld': 'crumpled', 'SOCM': 'slight oil cut mud', 'rec': 'recovered', 'Fvst': 'favosites*', 'sbrndd': 'sub rounded', 'p.p.': 'pin-poin', 'HO': 'heavy oil', 'olv': 'olive', 'Mdst': 'mudstone', 's & p': 'salt and pepper', 'venn': 'vermillon', 'u': 'upper', 'gvl': 'gravel', 'fos': 'fossiliferous', 'pet': 'petroleumiferous', 'Clclt': 'calcilutite', 'OSR': 'oil source rock', 'Len': 'lens', 'pel': 'pellet', 'circ': 'circulation', 'prom': 'prominently', 'fol': 'foliated', 'peld': 'pelletoidal', 'Tent': 'tentaculites*', 'prob': 'probably', 'bd': 'bed', 'flky': 'flaky', 'bf': 'buff', 'LL8': 'laterolog-8', 'cgl': 'conglomerate', 'Gwke': 'graywacke', 'slky': 'silky', 'Grap': 'graptolite', 'Bor': 'bored', 'bo': 'bophaceous', 'Bot': 'botryoid', 'phen': 'phenocrysts', 'posa': 'possible', 'bu': 'buff', 'sel': 'selenite', 'Gran': 'granule', 'r.f.p': 'rounded frosted pitted', 'Clslt': 'calcisiltite', 'ss': 'sandstone', 'Uc': 'underclay', 'oo': 'ooidal', 'GOR': 'gas-to-oil ratio', 'Clcrd': 'calcirudite', 'euhed': 'euhedral', 'Solen': 'solenopora*', 'Euryamph': 'euryamphipora*', 'Ptg': 'parting', 'od': 'odor', 'eqnt': 'equant', 'Ost': 'ostracod', 'o': 'oil', 'Ceph': 'cephalopod', 'irid': 'iridescent', 'ox': 'oxidized', 'Casph': 'calcisphaera*', 'ti': 'tight', 'Foss': 'fossiliferous', 'sept': 'septate', 'marn': 'marine', 'Scs': 'scarce', 'op': 'open', 'chk': 'chalky', 'ahd': 'anhedral', 'Fen': 'fenestra', 'qtzc': 'quartzitic', 'sol': 'solitary', 'corln': 'coralline', 'mas': 'massive', 'ferr': 'ferruginous', 'Cub': 'cube', 'intr': 'intrusionive', 'Chaet': 'chaetetes*', 'OCM': 'oil cut mud', 'qtzs': 'quartzose', 'qtzt': 'quartzite', 'GIP': 'good initial puff', 'loc': 'location', 'blky': 'blocky', 'phyl': 'phyllitic', 'vrtl': 'vertical', 'Ooc': 'oolicast', 'anhed': 'anhedral', 'aren': 'arenaceous', 'Ool': 'oolite', 'bioh': 'biohermal', 'diagn': 'diagenesisetic', 'Pelec': 'pelecypod', 'biot': 'biotite', 'abnt': 'abundant', 'var': 'variable', 'hem': 'hematitic', 'gil': 'gilsonite', 'calctc': 'calcitic', 'clyst': 'claystone', 'fl/': 'flowing', 'bur': 'burrowed', 'ea': 'earthy', 'micr': 'micritic', 'grdg': 'grading', 'Flk': 'flake', 'hi': 'high', 's&p': 'salt & pepper', 'Flo': 'flora', 'Deb': 'debris', 'Splin': 'splintery', 'hd': 'hard', 'coqid': 'coquinaoid', 'Grst': 'grainstone', 'Phyl': 'phyllite', 'med.': 'medium', 'microxln': 'microcrystalline', 'Plag': 'plagioclase', 'mat': 'material, matter', 'bldr': 'boulder', 'up': 'upper', 'Tex': 'texture', 'mdy': 'muddy', 'WIP': 'weak initial puff', 'olvn': 'olivine', 'ab': 'above', 'mrl': 'marly', 'orsh': 'orangish', 'Allo': 'allochem', 'm': 'medium', 'deer': 'decreasing', 'chal': 'chalcedony', 'ovgth': 'overgrowth', 'ap': 'appears', 'Sid': 'siderite', 'ind': 'indurated', 'pit': 'pitted', 'trip': 'tripolic', 'DL': 'density log', 'Sil': 'silica', 'Lam': 'laminations', 'F.Q.G.': 'frosted quartz  grains', 'Cgl': 'conglomerate', 'hex': 'hexagonal', 'wxy': 'waxy', 'gry': 'greyish', 'Fe-st': 'ironstone', 'oom': 'oomoldic', 'grd': 'graded', 'BHSIP': 'bottom hole shut in pressure', 'Mag': 'magnetite', 'ool': 'oolitic', 'Lat': 'laterite', 'mass': 'massive', 'T.D.': 'total depth', 'Stn': 'stain', 'sqz': 'squeezed', 'E': 'east', 'BOPD': 'barrels of oil per day', 'aglm': 'agglomerate', 'evap': 'evapourititic', 'fluor': 'fluoresceincent', 'est': 'estimated', 'Su': 'sulphur', 'lent': 'lenticular', 'stal': 'stalactitic', 'N': 'Neutron', 'wtr': 'water', 'dolst': 'dolostone', 'bcm': 'becoming', 'OTS': 'oil to surface', 'SAB': 'strong air blow', 'Bry': 'bryozoa', 'O-Qtz': 'orthoquartzite', 'Styl': 'stylolite', 'crinal': 'crinoidal', 'Brk': 'break', 'mrly': 'marly', 'Av': 'average', 'xbd': 'cross-bedded', 'Radax': 'radiaxial', 'swbd': 'swabbed'}}"
            ]
          },
          "metadata": {
            "tags": []
          },
          "execution_count": 27
        }
      ]
    },
    {
      "cell_type": "code",
      "metadata": {
        "id": "wplg43oQzZsS",
        "colab": {
          "base_uri": "https://localhost:8080/"
        },
        "outputId": "d38f8547-d586-4863-abf2-35d131c4d217"
      },
      "source": [
        "lexicon.synonyms"
      ],
      "execution_count": 28,
      "outputs": [
        {
          "output_type": "execute_result",
          "data": {
            "text/plain": [
              "{'Anhydrite': ['Gypsum'],\n",
              " 'Overburden': ['Drift'],\n",
              " 'Salt': ['Halite', 'Sylvite']}"
            ]
          },
          "metadata": {
            "tags": []
          },
          "execution_count": 28
        }
      ]
    },
    {
      "cell_type": "markdown",
      "metadata": {
        "id": "OlhXQJhOT_Sm"
      },
      "source": [
        "These abbrevations are common for mudlogs, there is a great turtorial on the github if you are interested in that"
      ]
    },
    {
      "cell_type": "code",
      "metadata": {
        "id": "YrVURU9VzsVr",
        "colab": {
          "base_uri": "https://localhost:8080/",
          "height": 35
        },
        "outputId": "5e1372a8-612e-4d9c-86d6-5c77dd7b425a"
      },
      "source": [
        "s = \"grysh gn ss w/ sp gy sh\"\n",
        "lexicon.expand_abbreviations(s)"
      ],
      "execution_count": 29,
      "outputs": [
        {
          "output_type": "execute_result",
          "data": {
            "application/vnd.google.colaboratory.intrinsic+json": {
              "type": "string"
            },
            "text/plain": [
              "'greyish green sandstone with spotty gray shale'"
            ]
          },
          "metadata": {
            "tags": []
          },
          "execution_count": 29
        }
      ]
    },
    {
      "cell_type": "markdown",
      "metadata": {
        "id": "chYLbMkC0IuB"
      },
      "source": [
        "### Componet"
      ]
    },
    {
      "cell_type": "code",
      "metadata": {
        "id": "dVv1JwfczxvL"
      },
      "source": [
        "from striplog import Component"
      ],
      "execution_count": 30,
      "outputs": []
    },
    {
      "cell_type": "code",
      "metadata": {
        "id": "UXZ8U4J_0NdL",
        "colab": {
          "base_uri": "https://localhost:8080/"
        },
        "outputId": "d8cc7fee-9e52-4676-c720-cfe2a4bfbe16"
      },
      "source": [
        "print(Component.__doc__)"
      ],
      "execution_count": 31,
      "outputs": [
        {
          "output_type": "stream",
          "text": [
            "\n",
            "    Initialize with a dictionary of properties. You can use any\n",
            "    properties you want e.g.:\n",
            "\n",
            "        - lithology: a simple one-word rock type\n",
            "        - colour, e.g. 'grey'\n",
            "        - grainsize or range, e.g. 'vf-f'\n",
            "        - modifier, e.g. 'rippled'\n",
            "        - quantity, e.g. '35%', or 'stringers'\n",
            "        - description, e.g. from cuttings\n",
            "    \n"
          ],
          "name": "stdout"
        }
      ]
    },
    {
      "cell_type": "markdown",
      "metadata": {
        "id": "rDdBXxnK0z0g"
      },
      "source": [
        "We define a new rock with a Python dict object:"
      ]
    },
    {
      "cell_type": "code",
      "metadata": {
        "id": "afhsP2F_0WFj",
        "colab": {
          "base_uri": "https://localhost:8080/",
          "height": 82
        },
        "outputId": "178b9a8a-015c-49ab-bfc3-597e08d2f962"
      },
      "source": [
        "r = {'colour': 'grey',\n",
        "     'grainsize': 'vf-f',\n",
        "     'lithology': 'sand'}\n",
        "rock = Component(r)\n",
        "rock"
      ],
      "execution_count": 32,
      "outputs": [
        {
          "output_type": "execute_result",
          "data": {
            "text/html": [
              "<table><tr><td><strong>colour</strong></td><td>grey</td></tr><tr><td><strong>grainsize</strong></td><td>vf-f</td></tr><tr><td><strong>lithology</strong></td><td>sand</td></tr></table>"
            ],
            "text/plain": [
              "Component({'colour': 'grey', 'grainsize': 'vf-f', 'lithology': 'sand'})"
            ]
          },
          "metadata": {
            "tags": []
          },
          "execution_count": 32
        }
      ]
    },
    {
      "cell_type": "markdown",
      "metadata": {
        "id": "6DCRYRW409Sx"
      },
      "source": [
        "You can now call these componets!"
      ]
    },
    {
      "cell_type": "code",
      "metadata": {
        "id": "ngMolD_Q0yao",
        "colab": {
          "base_uri": "https://localhost:8080/",
          "height": 35
        },
        "outputId": "3df187d3-8c65-464b-e2e5-5ac7f7885fe6"
      },
      "source": [
        "rock['colour'] # who spelled this?! < Matt Hall/>"
      ],
      "execution_count": 33,
      "outputs": [
        {
          "output_type": "execute_result",
          "data": {
            "application/vnd.google.colaboratory.intrinsic+json": {
              "type": "string"
            },
            "text/plain": [
              "'grey'"
            ]
          },
          "metadata": {
            "tags": []
          },
          "execution_count": 33
        }
      ]
    },
    {
      "cell_type": "code",
      "metadata": {
        "id": "HBFGy1lw07YQ",
        "colab": {
          "base_uri": "https://localhost:8080/",
          "height": 35
        },
        "outputId": "0729c730-6516-4ded-a117-c2abacd719b2"
      },
      "source": [
        "rock.summary()"
      ],
      "execution_count": 34,
      "outputs": [
        {
          "output_type": "execute_result",
          "data": {
            "application/vnd.google.colaboratory.intrinsic+json": {
              "type": "string"
            },
            "text/plain": [
              "'Grey, vf-f, sand'"
            ]
          },
          "metadata": {
            "tags": []
          },
          "execution_count": 34
        }
      ]
    },
    {
      "cell_type": "code",
      "metadata": {
        "id": "I1EFdIy__Sue",
        "colab": {
          "base_uri": "https://localhost:8080/",
          "height": 35
        },
        "outputId": "d655c44b-1492-4511-e586-a66076995b22"
      },
      "source": [
        "rock.summary(fmt=\"My rock: {lithology} ({colour}, {grainsize!u})\")"
      ],
      "execution_count": 35,
      "outputs": [
        {
          "output_type": "execute_result",
          "data": {
            "application/vnd.google.colaboratory.intrinsic+json": {
              "type": "string"
            },
            "text/plain": [
              "'My rock: sand (grey, VF-F)'"
            ]
          },
          "metadata": {
            "tags": []
          },
          "execution_count": 35
        }
      ]
    },
    {
      "cell_type": "markdown",
      "metadata": {
        "id": "mqUDg4me_Zu-"
      },
      "source": [
        "\n",
        "\n",
        "The formatting supports the usual s, r, and a:\n",
        "\n",
        "    s: str\n",
        "    r: repr\n",
        "    a: ascii\n",
        "\n",
        "Also some string functions:\n",
        "\n",
        "    u: str.upper\n",
        "    l: str.lower\n",
        "    c: str.capitalize\n",
        "    t: str.title\n",
        "\n",
        "And some numerical ones, for arrays of numbers:\n",
        "\n",
        "    + or ∑: np.sum\n",
        "    m or µ: np.mean\n",
        "    v: np.var\n",
        "    d: np.std\n",
        "    x: np.product\n",
        "\n"
      ]
    },
    {
      "cell_type": "markdown",
      "metadata": {
        "id": "_ZnIvwCOA3I8"
      },
      "source": [
        "### Position"
      ]
    },
    {
      "cell_type": "markdown",
      "metadata": {
        "id": "i1HBWOlCBtwU"
      },
      "source": [
        "Positions define points in the earth, like a top, but with uncertainty. You can define:\n",
        "\n",
        "    upper — the highest possible location\n",
        "    middle — the most likely location\n",
        "    lower — the lowest possible location\n",
        "    units — the units of measurement\n",
        "    x and y — the x and y location (these don't have uncertainty, sorry)\n",
        "    meta — a Python dictionary containing anything you want\n",
        "\n",
        "Positions don't have a 'way up'."
      ]
    },
    {
      "cell_type": "code",
      "metadata": {
        "id": "BVYJBakwAuno",
        "colab": {
          "base_uri": "https://localhost:8080/"
        },
        "outputId": "c6cb6f35-f09a-4a1b-d1c0-aa9b2d52ab26"
      },
      "source": [
        "from striplog import Position\n",
        "print(Position.__doc__)"
      ],
      "execution_count": 36,
      "outputs": [
        {
          "output_type": "stream",
          "text": [
            "\n",
            "    Used to represent a position: a top or base.\n",
            "\n",
            "    Not sure whether to go with upper-middle-lower or z_max, z_mid, z_min.\n",
            "    Sticking to upper and lower, because ordering in Intervals is already\n",
            "    based on 'above' and 'below'.\n",
            "    \n"
          ],
          "name": "stdout"
        }
      ]
    },
    {
      "cell_type": "code",
      "metadata": {
        "id": "KiRIlnIGBy_H",
        "colab": {
          "base_uri": "https://localhost:8080/",
          "height": 82
        },
        "outputId": "d840a2e7-302e-48a7-fce0-267438a9df9f"
      },
      "source": [
        "params = {'upper': 95,\n",
        "          'middle': 100,\n",
        "          'lower': 110,\n",
        "          'meta': {'kind': 'erosive', 'source': 'DOE'}\n",
        "          }\n",
        "\n",
        "p = Position(**params)\n",
        "p"
      ],
      "execution_count": 37,
      "outputs": [
        {
          "output_type": "execute_result",
          "data": {
            "text/html": [
              "<table><tr><td><strong>upper</strong></td><td>95.0</td></tr><tr><td><strong>middle</strong></td><td>100.0</td></tr><tr><td><strong>lower</strong></td><td>110.0</td></tr></table>"
            ],
            "text/plain": [
              "Position({'middle': 100.0, 'upper': 95.0, 'lower': 110.0, 'units': 'm', 'meta': <striplog.position.Meta object at 0x7f1425dfd410>})"
            ]
          },
          "metadata": {
            "tags": []
          },
          "execution_count": 37
        }
      ]
    },
    {
      "cell_type": "markdown",
      "metadata": {
        "id": "YJe61woyB-dA"
      },
      "source": [
        "Even if you don't give a middle, you can always get z: the central, most likely position:"
      ]
    },
    {
      "cell_type": "code",
      "metadata": {
        "id": "JdqZiqVJB2Ia",
        "colab": {
          "base_uri": "https://localhost:8080/",
          "height": 82
        },
        "outputId": "85d05013-efe4-4ee4-8fd5-03766d89c382"
      },
      "source": [
        "params = {'upper': 75, 'lower': 85}\n",
        "p = Position(**params)\n",
        "p"
      ],
      "execution_count": 38,
      "outputs": [
        {
          "output_type": "execute_result",
          "data": {
            "text/html": [
              "<table><tr><td><strong>upper</strong></td><td>75.0</td></tr><tr><td><strong>middle</strong></td><td></td></tr><tr><td><strong>lower</strong></td><td>85.0</td></tr></table>"
            ],
            "text/plain": [
              "Position({'upper': 75.0, 'lower': 85.0, 'units': 'm'})"
            ]
          },
          "metadata": {
            "tags": []
          },
          "execution_count": 38
        }
      ]
    },
    {
      "cell_type": "code",
      "metadata": {
        "id": "aNY8bCnJB5pR",
        "colab": {
          "base_uri": "https://localhost:8080/"
        },
        "outputId": "912fd439-54ea-472b-a4c6-19eaefcd91da"
      },
      "source": [
        "p.z"
      ],
      "execution_count": 39,
      "outputs": [
        {
          "output_type": "execute_result",
          "data": {
            "text/plain": [
              "80.0"
            ]
          },
          "metadata": {
            "tags": []
          },
          "execution_count": 39
        }
      ]
    },
    {
      "cell_type": "markdown",
      "metadata": {
        "id": "BhRxFHfyD-IK"
      },
      "source": [
        "## Let's make a striplog!"
      ]
    },
    {
      "cell_type": "markdown",
      "metadata": {
        "id": "J8J72ScVUgKr"
      },
      "source": [
        "I just introduced a bunch of boring things about dictionaries, etc. What makes this nice once you get it setup, is you can make some templates for common formations and lithotypes. We are going to do a simple one from this [github](https://github.com/ThomasMGeo/CSV2Striplog)"
      ]
    },
    {
      "cell_type": "code",
      "metadata": {
        "id": "0XP_HqNOEA68"
      },
      "source": [
        "from striplog import Lexicon, Decor, Component, Legend, Interval, Striplog"
      ],
      "execution_count": 40,
      "outputs": []
    },
    {
      "cell_type": "markdown",
      "metadata": {
        "id": "eZb0Cp87Xq0-"
      },
      "source": [
        "\n",
        "### Make a legend\n",
        "\n",
        "Most of the stuff in the dicts you made were about display — so they are going to make Decor objects. A collection of Decors makes a Legend. A Legend determines how a striplog is displayed.\n",
        "\n",
        "First I'll make the components, since those are easy. I'll move 'train' into there too, since it is to do with the rocks, not the display. If it seems weird having 'train' in the Component (which is really supposed to be about direct descriptions of the rock, but the idea is that it's always the same for all specimens of that rock so it does fit here) then you could put it in data instead.\n"
      ]
    },
    {
      "cell_type": "code",
      "metadata": {
        "id": "pcknjhAREDMS"
      },
      "source": [
        "facies = {\n",
        "    's': Component({'lithology': 'sandstone', 'train':'y'}),\n",
        "    'i': Component({'lithology': 'interbedded', 'train':'y'}),\n",
        "    'sh': Component({'lithology': 'shale', 'train':'y'}),\n",
        "}"
      ],
      "execution_count": 41,
      "outputs": []
    },
    {
      "cell_type": "markdown",
      "metadata": {
        "id": "E90MLt41QVum"
      },
      "source": [
        "The next block of text could be less lines of code. The indenting is just a way to make it easier to read. Everyone has there own style of programming. We are just setting the decor of our future striplog plot. "
      ]
    },
    {
      "cell_type": "code",
      "metadata": {
        "id": "FAmbodZEGDub"
      },
      "source": [
        "sandstone = Decor({\n",
        "    'component': facies['s'],\n",
        "    'colour': 'yellow',\n",
        "    'hatch': '.',\n",
        "    'width': '3',\n",
        "})\n",
        "\n",
        "interbedded = Decor({\n",
        "    'component': facies['i'],\n",
        "    'colour': 'darkseagreen',\n",
        "    'hatch': '--',\n",
        "    'width': '2',\n",
        "})\n",
        "\n",
        "shale = Decor({\n",
        "    'component': facies['sh'],\n",
        "    'colour': 'darkgray',\n",
        "    'hatch': '-',\n",
        "    'width': '1',\n",
        "})\n"
      ],
      "execution_count": 42,
      "outputs": []
    },
    {
      "cell_type": "code",
      "metadata": {
        "id": "vUkb8iyjEHsC",
        "colab": {
          "base_uri": "https://localhost:8080/",
          "height": 184
        },
        "outputId": "40547dd9-84bc-46c7-e933-d11d8a52c2f5"
      },
      "source": [
        "legend = Legend([sandstone, interbedded, shale])\n",
        "legend"
      ],
      "execution_count": 43,
      "outputs": [
        {
          "output_type": "execute_result",
          "data": {
            "text/html": [
              "<table><tr><th>component</th><th>colour</th><th>hatch</th><th>width</th></tr><tr><td style=\"color:black; background-color:white\"><table><tr><td><strong>lithology</strong></td><td>sandstone</td></tr><tr><td><strong>train</strong></td><td>y</td></tr></table></td><td style=\"color:#000000; background-color:#ffff00\">#ffff00</td><td style=\"color:black; background-color:white\">.</td><td style=\"color:black; background-color:white\">3.0</td></tr><tr><td style=\"color:black; background-color:white\"><table><tr><td><strong>lithology</strong></td><td>interbedded</td></tr><tr><td><strong>train</strong></td><td>y</td></tr></table></td><td style=\"color:#000000; background-color:#8fbc8f\">#8fbc8f</td><td style=\"color:black; background-color:white\">--</td><td style=\"color:black; background-color:white\">2.0</td></tr><tr><td style=\"color:black; background-color:white\"><table><tr><td><strong>lithology</strong></td><td>shale</td></tr><tr><td><strong>train</strong></td><td>y</td></tr></table></td><td style=\"color:#000000; background-color:#a9a9a9\">#a9a9a9</td><td style=\"color:black; background-color:white\">-</td><td style=\"color:black; background-color:white\">1.0</td></tr></table>"
            ],
            "text/plain": [
              "Legend(Decor({'component': Component({'lithology': 'sandstone', 'train': 'y'}), '_colour': '#ffff00', 'hatch': '.', 'width': 3.0})\n",
              "Decor({'component': Component({'lithology': 'interbedded', 'train': 'y'}), '_colour': '#8fbc8f', 'hatch': '--', 'width': 2.0})\n",
              "Decor({'component': Component({'lithology': 'shale', 'train': 'y'}), '_colour': '#a9a9a9', 'hatch': '-', 'width': 1.0}))"
            ]
          },
          "metadata": {
            "tags": []
          },
          "execution_count": 43
        }
      ]
    },
    {
      "cell_type": "code",
      "metadata": {
        "id": "PwgUCa6eiNO8"
      },
      "source": [
        "#Read in file to Colab instance\r\n",
        "loc = 'https://raw.githubusercontent.com/ThomasMGeo/Transform2020/master/t20-intro/t20-lith.csv'\r\n",
        "lith = pd.read_csv(loc)\r\n",
        "lith.to_csv('t20-lith.csv',\r\n",
        "            index=False)"
      ],
      "execution_count": 70,
      "outputs": []
    },
    {
      "cell_type": "code",
      "metadata": {
        "id": "kdZINUZ9FJ8C",
        "colab": {
          "base_uri": "https://localhost:8080/",
          "height": 151
        },
        "outputId": "7151e634-5614-47d7-95dc-bfbae3f0a2fd"
      },
      "source": [
        "strip = Striplog.from_csv('t20-lith.csv')\n",
        "strip[0]"
      ],
      "execution_count": 71,
      "outputs": [
        {
          "output_type": "execute_result",
          "data": {
            "text/html": [
              "<table><tr><td style=\"width:2em; background-color:#DDDDDD\" rowspan=\"6\"></td><td><strong>top</strong></td><td>2200.0</td></tr><tr><td><strong>primary</strong></td><td>None</td></tr><tr><td><strong>summary</strong></td><td>None</td></tr><tr><td><strong>description</strong></td><td></td></tr><tr><td><strong>data</strong></td><td><table><tr><td><strong>lithology</strong></td><td>s</td></tr></table></td></tr><tr><td><strong>base</strong></td><td>2300.3289999999997</td></tr></table>"
            ],
            "text/plain": [
              "Interval({'top': Position({'middle': 2200.0, 'units': 'm'}), 'base': Position({'middle': 2300.3289999999997, 'units': 'm'}), 'description': '', 'data': {'lithology': 's'}, 'components': []})"
            ]
          },
          "metadata": {
            "tags": []
          },
          "execution_count": 71
        }
      ]
    },
    {
      "cell_type": "markdown",
      "metadata": {
        "id": "lIafor_hZmOo"
      },
      "source": [
        "\n",
        "##Deal with lithology¶\n",
        "\n",
        "The lithology has been turned into a component, but it's using the abbreviation... I can't figure out an elegant way to deal with this so, for now, we'll just loop over the striplog and fix it. We read the data item's lithology ('s' in the top layer), then look up the correct lithology name in our abbreviation dictionary, then add the new component in the proper place. Finally, we delete the data we had.\n"
      ]
    },
    {
      "cell_type": "code",
      "metadata": {
        "id": "cQAFZ8TvbCj6",
        "colab": {
          "base_uri": "https://localhost:8080/"
        },
        "outputId": "a3aacffb-1e8b-40ef-d93c-01feb09232b5"
      },
      "source": [
        "strip[0].data"
      ],
      "execution_count": 72,
      "outputs": [
        {
          "output_type": "execute_result",
          "data": {
            "text/plain": [
              "{'lithology': 's'}"
            ]
          },
          "metadata": {
            "tags": []
          },
          "execution_count": 72
        }
      ]
    },
    {
      "cell_type": "code",
      "metadata": {
        "id": "2RfW9CKNN2jq"
      },
      "source": [
        "for s in strip:\n",
        "    lith = s.data['lithology']\n",
        "    s.components = [facies[lith]]\n",
        "    s.data = {}\n",
        "# Run once, not twice"
      ],
      "execution_count": 73,
      "outputs": []
    },
    {
      "cell_type": "code",
      "metadata": {
        "id": "Ic1z-rx1sOr8",
        "colab": {
          "base_uri": "https://localhost:8080/",
          "height": 172
        },
        "outputId": "92b2ffd1-8880-417e-cc28-925a03217432"
      },
      "source": [
        "strip[0]"
      ],
      "execution_count": 74,
      "outputs": [
        {
          "output_type": "execute_result",
          "data": {
            "text/html": [
              "<table><tr><td style=\"width:2em; background-color:#DDDDDD\" rowspan=\"6\"></td><td><strong>top</strong></td><td>2200.0</td></tr><tr><td><strong>primary</strong></td><td><table><tr><td><strong>lithology</strong></td><td>sandstone</td></tr><tr><td><strong>train</strong></td><td>y</td></tr></table></td></tr><tr><td><strong>summary</strong></td><td>100.33 m of sandstone, y</td></tr><tr><td><strong>description</strong></td><td></td></tr><tr><td><strong>data</strong></td><td><table></table></td></tr><tr><td><strong>base</strong></td><td>2300.3289999999997</td></tr></table>"
            ],
            "text/plain": [
              "Interval({'top': Position({'middle': 2200.0, 'units': 'm'}), 'base': Position({'middle': 2300.3289999999997, 'units': 'm'}), 'description': '', 'data': {}, 'components': [Component({'lithology': 'sandstone', 'train': 'y'})]})"
            ]
          },
          "metadata": {
            "tags": []
          },
          "execution_count": 74
        }
      ]
    },
    {
      "cell_type": "code",
      "metadata": {
        "id": "OIDZuhx9QD9X",
        "colab": {
          "base_uri": "https://localhost:8080/",
          "height": 1000
        },
        "outputId": "f2a234b7-97e5-4c6e-833a-e74ceccff97f"
      },
      "source": [
        "strip.plot(legend)"
      ],
      "execution_count": 75,
      "outputs": [
        {
          "output_type": "display_data",
          "data": {
            "image/png": "[encoded data removed]",
            "text/plain": [
              "<Figure size 108x1080 with 1 Axes>"
            ]
          },
          "metadata": {
            "tags": [],
            "needs_background": "light"
          }
        }
      ]
    },
    {
      "cell_type": "markdown",
      "metadata": {
        "id": "omZz8U_esVcU"
      },
      "source": [
        "Just plotted a simple strip log from a CSV! You can make striplogs 100 different ways, and I highly reccomend the turtorials on the github for more exploration. Striplog is a fun package to dig into (pun intended) as it forces you to think about how this data is stored, managed, and used."
      ]
    },
    {
      "cell_type": "code",
      "metadata": {
        "id": "RSaKowW-aAOF"
      },
      "source": [
        ""
      ],
      "execution_count": 69,
      "outputs": []
    }
  ]
}