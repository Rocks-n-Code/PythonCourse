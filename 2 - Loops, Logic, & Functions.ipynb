{
  "nbformat": 4,
  "nbformat_minor": 0,
  "metadata": {
    "kernelspec": {
      "display_name": "Python 3",
      "language": "python",
      "name": "python3"
    },
    "language_info": {
      "codemirror_mode": {
        "name": "ipython",
        "version": 3
      },
      "file_extension": ".py",
      "mimetype": "text/x-python",
      "name": "python",
      "nbconvert_exporter": "python",
      "pygments_lexer": "ipython3",
      "version": "3.7.4"
    },
    "colab": {
      "name": "2 - Loops, Logic, & Functions.ipynb",
      "provenance": [],
      "include_colab_link": true
    }
  },
  "cells": [
    {
      "cell_type": "markdown",
      "metadata": {
        "id": "view-in-github",
        "colab_type": "text"
      },
      "source": [
        "<a href=\"https://colab.research.google.com/github/Rocks-n-Code/PythonCourse/blob/master/2%20-%20Loops%2C%20Logic%2C%20%26%20Functions.ipynb\" target=\"_parent\"><img src=\"https://colab.research.google.com/assets/colab-badge.svg\" alt=\"Open In Colab\"/></a>"
      ]
    },
    {
      "cell_type": "markdown",
      "metadata": {
        "collapsed": true,
        "id": "bD-RtNUCRPbC"
      },
      "source": [
        "**You can follow along with the [live recording](https://youtu.be/psi8pfGFADw?t=3573) of this Happy Hour HackerVillage tutorial.**\n",
        "\n",
        "# Loops, Logic, & Functions\n",
        "\n",
        "---\n",
        "\n",
        "# Loops\n",
        "\n",
        "There are two loops that I use regularly `while` and `for`.  `for` loops are simply iterating over list like items. The `while` loop is an if function combined with a loop.  Be careful here as you may get [Lamb Chops closing number](https://www.youtube.com/watch?v=xz6OGVCdov8).\n",
        "\n",
        "\n",
        "If you suspect you are stuck cycling in a \"forever\" loop, in a jupyter notebook select the cell and hit the stop button <img src=\"https://github.com/Rocks-n-Code/PythonCourse/blob/master/jupyter_stop.png?raw=1\" style=\"display: inline-block; margin: 0\" /> above, in a Colab notebook in the \"Runtime\" drop down select \"Interrupt Execution,\" or use `Ctrl` + `C` in your command prompt.\n",
        "\n",
        "---\n",
        "\n",
        "## While Loops\n",
        "`while` loops will continue until they are true. "
      ]
    },
    {
      "cell_type": "code",
      "metadata": {
        "id": "9SDx4RWRRPbD"
      },
      "source": [
        "from time import sleep\n",
        "\n",
        "i = 0 \n",
        "while i < 10:\n",
        "    print(i,end='\\r')\n",
        "    sleep(0.5)\n",
        "    i += 1\n",
        "print(i)"
      ],
      "execution_count": null,
      "outputs": []
    },
    {
      "cell_type": "markdown",
      "metadata": {
        "id": "pXDzpQbURPbG"
      },
      "source": [
        "I commonly used while loops when formating UWI numbers. Let's use the [McKenzie Well](https://cogcc.state.co.us/cogis/FacilityDetail.asp?facid=01340002&type=WELL) for an example."
      ]
    },
    {
      "cell_type": "code",
      "metadata": {
        "id": "QPjXQEnzRPbG"
      },
      "source": [
        "state = 5\n",
        "county = 13\n",
        "well = 40002\n",
        "\n",
        "state = str(state)\n",
        "while len(state) < 2:\n",
        "    state = '0' + state\n",
        "\n",
        "county = str(county)\n",
        "while len(county) < 3:\n",
        "    county = '0' + county\n",
        "\n",
        "well = str(well)\n",
        "while len(well) < 5:\n",
        "    well = '0' + well\n",
        "\n",
        "uwi_fmt = state + '-' + county + '-' + well\n",
        "\n",
        "print(uwi_fmt)"
      ],
      "execution_count": null,
      "outputs": []
    },
    {
      "cell_type": "code",
      "metadata": {
        "id": "42AKNwogA7j9"
      },
      "source": [
        "#Create a while loop\n"
      ],
      "execution_count": null,
      "outputs": []
    },
    {
      "cell_type": "markdown",
      "metadata": {
        "id": "7Q2zjB1lRPbI"
      },
      "source": [
        "---\n",
        "\n",
        "## For Loops\n",
        "`for` loops iterate through items in an iterable datastructure."
      ]
    },
    {
      "cell_type": "code",
      "metadata": {
        "id": "2AZ1oeZdRPbI"
      },
      "source": [
        "whole = ['strings', 'lists', 'tuples', 'sets', 'dictionaries*']\n",
        "\n",
        "for part in whole:\n",
        "    print(part)\n",
        "    sleep(0.5)"
      ],
      "execution_count": null,
      "outputs": []
    },
    {
      "cell_type": "markdown",
      "metadata": {
        "id": "JJVa8QNERPbK"
      },
      "source": [
        "Or we nest `for` loops."
      ]
    },
    {
      "cell_type": "code",
      "metadata": {
        "id": "4MTYimH5RPbL"
      },
      "source": [
        "strings = 'Strings'\n",
        "lists = ['Lists',1, 2, 3]\n",
        "tuples = 'Tuples', 1, 2, 3\n",
        "sets = {'Sets', 1, 2, 3}\n",
        "dictionaries = {'only':'with','a':'method'}\n",
        "\n",
        "whole = [strings, lists, tuples, sets, dictionaries]\n",
        "\n",
        "for part in whole:\n",
        "    print(type(part),end=':')\n",
        "    for subpart in part:\n",
        "        print(subpart, end=' ')\n",
        "        sleep(0.2)\n",
        "    print()\n",
        "    sleep(0.5)"
      ],
      "execution_count": null,
      "outputs": []
    },
    {
      "cell_type": "code",
      "metadata": {
        "id": "cECCbDeCA_gH"
      },
      "source": [
        "#Create a for loop\n"
      ],
      "execution_count": null,
      "outputs": []
    },
    {
      "cell_type": "markdown",
      "metadata": {
        "id": "hNSK43AQRPbM"
      },
      "source": [
        "Note how only the keys in our dicionary show up.  More on that later."
      ]
    },
    {
      "cell_type": "markdown",
      "metadata": {
        "id": "lsk00s9BRPbN"
      },
      "source": [
        "---\n",
        "\n",
        "# Logic Operators\n",
        "Basic logic operators, or \"booleans\",  in python include `==`, `<`, `>`, `<=`, `>=`, `in`, `not in`.  These return a `True` or `False` statement."
      ]
    },
    {
      "cell_type": "code",
      "metadata": {
        "id": "iUTFpt0cRPbN"
      },
      "source": [
        "print('1 == 2:',1 == 2)\n",
        "print('1 < 2:',1 < 2)\n",
        "print('1 > 2:',1 > 2)\n",
        "print('1 <= 2:',1 <= 2)\n",
        "print('1 >= 2:',1 >= 2)\n",
        "\n",
        "print(\"1 in [1,2,3]:\",1 in [1,2,3])"
      ],
      "execution_count": null,
      "outputs": []
    },
    {
      "cell_type": "markdown",
      "metadata": {
        "id": "-1iHk6x-RPbP"
      },
      "source": [
        "You can use these with an `if`, `elif`, and `else` statements."
      ]
    },
    {
      "cell_type": "code",
      "metadata": {
        "id": "o7hxEnfaRPbQ"
      },
      "source": [
        "if 1 == 2:\n",
        "    print('Yup.')\n",
        "else:\n",
        "    print('...nope.')\n",
        "    \n",
        "if 1 < 2:\n",
        "    print('Yup.')\n",
        "else:\n",
        "    print('...nope.')\n",
        "\n",
        "if 1 > 2:\n",
        "    print('Yup.')\n",
        "else:\n",
        "    print('...nope.')\n",
        "\n",
        "if 1 <= 2:\n",
        "    print('Yup.')\n",
        "else:\n",
        "    print('...nope.')\n",
        "\n",
        "if 1 >= 2:\n",
        "    print('Yup.')\n",
        "else:\n",
        "    print('...nope.')"
      ],
      "execution_count": null,
      "outputs": []
    },
    {
      "cell_type": "code",
      "metadata": {
        "id": "D37SGK3YRPbS"
      },
      "source": [
        "if '1' in [1,2,3]:\n",
        "    print('Not the first.')\n",
        "elif '1' not in ['2',2,1]:\n",
        "    print('Not in 2nd.')"
      ],
      "execution_count": null,
      "outputs": []
    },
    {
      "cell_type": "markdown",
      "metadata": {
        "collapsed": true,
        "id": "VovnJ1cgRPbU"
      },
      "source": [
        "We can also test for `type`."
      ]
    },
    {
      "cell_type": "code",
      "metadata": {
        "id": "5wJluTRLRPbU"
      },
      "source": [
        "if isinstance(uwi_fmt,str):\n",
        "    print(uwi_fmt, 'is a string.')\n",
        "\n",
        "elif isinstance(uwi_fmt, int):\n",
        "    print(uwi_fmt, 'is and integer.')"
      ],
      "execution_count": null,
      "outputs": []
    },
    {
      "cell_type": "markdown",
      "metadata": {
        "id": "tHsAGmWXRPbW"
      },
      "source": [
        "There are also a booleans for strings."
      ]
    },
    {
      "cell_type": "code",
      "metadata": {
        "id": "TlB8hUPORPbW"
      },
      "source": [
        "print(uwi_fmt.isalnum()      )    #Are all characters are numbers?\n",
        "print(uwi_fmt.isalpha()      )    #Are all characters are alphabetic?\n",
        "print(uwi_fmt.isdigit()      )    #Is the string a number?\n",
        "print(uwi_fmt.istitle()      )    #Are all words first letter upper case followed by lower case?\n",
        "print(uwi_fmt.isupper()      )    #Does it contain only upper case letters?\n",
        "print(uwi_fmt.islower()      )    #Does it contain only lower case letters?\n",
        "print(uwi_fmt.isspace()      )    #Does it contain only spaces?\n",
        "print(uwi_fmt.endswith('2')  )    #Does it end with the defined character(s)?\n",
        "print(uwi_fmt.startswith('05'))   #Does it end with the defined character(s)?"
      ],
      "execution_count": null,
      "outputs": []
    },
    {
      "cell_type": "markdown",
      "metadata": {
        "id": "kNFhVfLXRPbY"
      },
      "source": [
        "Booleans can be combined with `and`,`&`, & `or` logic operators."
      ]
    },
    {
      "cell_type": "code",
      "metadata": {
        "id": "x3l3_az0RPbY"
      },
      "source": [
        "print('True and False:', True and False, end='\\n\\n')\n",
        "\n",
        "print('True and  True:', True and  True, end='\\n\\n')\n",
        "\n",
        "print('False  &  True:'  , False & True, end='\\n\\n')\n",
        "\n",
        "print('False or  True:', False or  True, end='\\n\\n')\n",
        "\n",
        "print('False or False:', False or False, end='\\n\\n')"
      ],
      "execution_count": null,
      "outputs": []
    },
    {
      "cell_type": "code",
      "metadata": {
        "id": "0rIX5q7pBGe8"
      },
      "source": [
        "#Set a integer variable, test its type, and test numbers larger & smaller against it.\n"
      ],
      "execution_count": null,
      "outputs": []
    },
    {
      "cell_type": "markdown",
      "metadata": {
        "id": "wpNu6hUpRPba"
      },
      "source": [
        "---\n",
        "\n",
        "# Functions\n",
        "\n",
        "Functions allow us to reuse code in an efficent manner.  Let's take the formating of the UWI example and make a function out of it. To make a function use `def`, the `function_name`, and inputs to the function `(var1, var2, var3...)` then write your function."
      ]
    },
    {
      "cell_type": "code",
      "metadata": {
        "id": "r4yJW5IKRPba"
      },
      "source": [
        "def uwi_format(state, county, well):\n",
        "    state = str(state)\n",
        "    while len(state) < 2:\n",
        "        state = '0' + state\n",
        "\n",
        "    county = str(county)\n",
        "    while len(county) < 3:\n",
        "        county = '0' + county\n",
        "\n",
        "    well = str(well)\n",
        "    while len(well) < 5:\n",
        "        well = '0' + well\n",
        "\n",
        "    uwi_fmt = state + '-' + county + '-' + well\n",
        "\n",
        "    return uwi_fmt"
      ],
      "execution_count": null,
      "outputs": []
    },
    {
      "cell_type": "code",
      "metadata": {
        "id": "rQJDPetcRPbc"
      },
      "source": [
        "uwi_format(state, county, well)"
      ],
      "execution_count": null,
      "outputs": []
    },
    {
      "cell_type": "markdown",
      "metadata": {
        "id": "teWMSn8KRPbe"
      },
      "source": [
        "We can also define default variables for functions that can be changed later."
      ]
    },
    {
      "cell_type": "code",
      "metadata": {
        "id": "kY5IAC32RPbe"
      },
      "source": [
        "def uwi_format(state, county, well, delim='-'):\n",
        "    state = str(state)\n",
        "    while len(state) < 2:\n",
        "        state = '0' + state\n",
        "\n",
        "    county = str(county)\n",
        "    while len(county) < 3:\n",
        "        county = '0' + county\n",
        "\n",
        "    well = str(well)\n",
        "    while len(well) < 5:\n",
        "        well = '0' + well\n",
        "\n",
        "    uwi_fmt = state + delim + county + delim + well\n",
        "\n",
        "    return uwi_fmt"
      ],
      "execution_count": null,
      "outputs": []
    },
    {
      "cell_type": "code",
      "metadata": {
        "id": "0VYiFEHDRPbg"
      },
      "source": [
        "print(uwi_format(state, county, well))\n",
        "print(uwi_format(state, county, well, delim=''))"
      ],
      "execution_count": null,
      "outputs": []
    },
    {
      "cell_type": "code",
      "metadata": {
        "id": "6s6ug2-9Bu_Z"
      },
      "source": [
        "#Write a basic function\n"
      ],
      "execution_count": null,
      "outputs": []
    },
    {
      "cell_type": "markdown",
      "metadata": {
        "id": "FgQiaaaWRPbi"
      },
      "source": [
        "---\n",
        "\n",
        "## Classes\n",
        "\n",
        "A Class object lets us organize functions that work together.  A class also allows us to create multiple instances.  Many classes create objects with a special instantiation operation creates an empty object. Many classes like to create objects with instances customized to a specific initial state. Therefore a class may define a special method named __init__()"
      ]
    },
    {
      "cell_type": "code",
      "metadata": {
        "id": "tkR1SYCHRPbi"
      },
      "source": [
        "class uwi:\n",
        "    def __init__(self, state,county,well,delim='-'):\n",
        "        self.state = state\n",
        "        self.county = county\n",
        "        self.well = well\n",
        "        self.delim = delim\n",
        "    \n",
        "    def fmt10(self):\n",
        "        state = str(self.state)\n",
        "        while len(state) < 2:\n",
        "            state = '0' + state\n",
        "        \n",
        "        county = str(self.county)\n",
        "        while len(county) < 3:\n",
        "            county = '0' + county\n",
        "\n",
        "        well = str(self.well)\n",
        "        while len(well) < 5:\n",
        "            well = '0' + well\n",
        "\n",
        "        uwi_fmt = state + self.delim + county + self.delim + well\n",
        "\n",
        "        return uwi_fmt"
      ],
      "execution_count": null,
      "outputs": []
    },
    {
      "cell_type": "code",
      "metadata": {
        "id": "FZTmgiZpRPbl"
      },
      "source": [
        "mckenzie = uwi(5,13,40002)\n",
        "\n",
        "print('State:',mckenzie.state)\n",
        "print('County:',mckenzie.county)\n",
        "print('Well:',mckenzie.well)\n",
        "\n",
        "print('UWI10:',mckenzie.fmt10())\n",
        "\n",
        "#Let's adjust the deliminator.\n",
        "mckenzie.delim = ''\n",
        "\n",
        "print('UWI10:',mckenzie.fmt10())"
      ],
      "execution_count": null,
      "outputs": []
    },
    {
      "cell_type": "code",
      "metadata": {
        "id": "UH-WNH-eB1b1"
      },
      "source": [
        "#Put your basic function in a class\n"
      ],
      "execution_count": null,
      "outputs": []
    },
    {
      "cell_type": "markdown",
      "metadata": {
        "id": "LekEaWbJRPbn"
      },
      "source": [
        "To learn [more](https://docs.python.org/3/tutorial/classes.html) about classes.\n",
        "\n",
        "---\n",
        "\n",
        "# Give it a Try.\n",
        "\n",
        "From the UWIs from wells drilled in Colorado in 1930 and before.\n",
        "\n",
        "`05-041-05005, 05-069-05128, 05-069-05102, 05-041-05001, 05-057-05012, 05-007-05093, 05-013-40027, 05-011-40004, 05-069-60041, 05-001-05002, 05-041-40000, 05-069-40004, 05-057-05095, 05-069-60039, 05-071-05090, 05-069-05015, 05-001-60010, 05-069-40017, 05-077-05008, 05-045-05016, 05-057-05014, 05-083-05222, 05-043-40042, 05-069-05006, 05-069-05182, 05-067-05235, 05-043-05230, 05-059-05011, 05-069-05020, 05-073-05013, 05-069-05190, 05-043-05309, 05-043-40031, 05-081-05193, 05-041-05046, 05-099-05001, 05-055-05034, 05-085-05029, 05-067-05446, 05-069-60020, 05-069-40018, 05-003-05001, 05-069-40001, 05-069-05197, 05-013-40002, 05-083-40036, 05-071-05041, 05-107-05096, 05-071-05079, 05-083-05231, 05-069-05017, 05-043-40036, 05-069-05188, 05-069-05143, 05-005-05056, 05-107-05214, 05-081-05184, 05-121-07057, 05-001-40016, 05-043-40043, 05-081-05169, 05-071-05054, 05-071-05049, 05-107-40027, 05-087-05328, 05-071-05056, 05-083-05242, 05-043-40035, 05-041-05016, 05-007-05319, 05-069-05168, 05-081-05102, 05-071-05083, 05-069-05090, 05-069-05195, 05-031-05027, 05-071-05082, 05-069-05194, 05-013-05051, 05-001-60013, 05-071-05000, 05-043-05053, 05-069-05113, 05-069-05159, 05-013-40029, 05-081-60015, 05-083-05234, 05-081-05100, 05-077-60012, 05-081-05567, 05-069-05144, 05-069-40000, 05-011-05001, 05-085-05028, 05-069-05111, 05-069-05115, 05-083-05210, 05-043-05088, 05-069-05185, 05-071-05037, 05-069-05084, 05-093-05016, 05-087-08136, 05-069-05025, 05-069-60014, 05-003-60001, 05-069-05220, 05-043-40033, 05-033-05066, 05-043-40094, 05-081-05187, 05-069-05104, 05-071-05048, 05-069-05108, 05-071-05035, 05-007-05051, 05-069-05124, 05-081-05251, 05-069-60006, 05-017-05002, 05-071-05081, 05-069-05121, 05-067-05346, 05-043-40071, 05-069-05089, 05-109-05011, 05-081-05229`\n",
        "\n",
        "- Produce a dictionary with a one key per county and the value being a list of the well codes (last 5 digits) in that county.\n",
        "- What counties had early oil and gas development?\n",
        "- How many wells were there per county?\n",
        "\n",
        "There are several ways to accomplish this."
      ]
    },
    {
      "cell_type": "code",
      "metadata": {
        "id": "IwBte8MrRPbn"
      },
      "source": [
        ""
      ],
      "execution_count": null,
      "outputs": []
    },
    {
      "cell_type": "markdown",
      "metadata": {
        "id": "JF2EgpBkRPbp"
      },
      "source": [
        "If you need the Colorado UWI county codes... There is also a dictionary below you can read into memory below.\n",
        "\n",
        "| COUNTY | NAME |\n",
        "| ---- | :------------: |\n",
        "|001|ADAMS|\n",
        "|003|ALAMOSA|\n",
        "|005|ARAPAHOE|\n",
        "|007|ARCHULETA|\n",
        "|009|BACA|\n",
        "|011|BENT|\n",
        "|013|BOULDER|\n",
        "|014|BROOMFIELD|\n",
        "|015|CHAFFEE|\n",
        "|017|CHEYENNE|\n",
        "|019|CLEAR CREEK|\n",
        "|021|CONEJOS|\n",
        "|023|COSTILLA|\n",
        "|025|CROWLEY|\n",
        "|027|CUSTER|\n",
        "|029|DELTA|\n",
        "|031|DENVER|\n",
        "|033|DOLORES|\n",
        "|035|DOUGLAS|\n",
        "|037|EAGLE|\n",
        "|039|ELBERT|\n",
        "|041|EL PASO|\n",
        "|043|FREMONT|\n",
        "|045|GARFIELD|\n",
        "|047|GILPIN|\n",
        "|049|GRAND|\n",
        "|051|GUNNISON|\n",
        "|053|HINSDALE|\n",
        "|055|HUERFANO|\n",
        "|057|JACKSON|\n",
        "|059|JEFFERSON|\n",
        "|061|KIOWA|\n",
        "|063|KIT CARSON|\n",
        "|065|LAKE|\n",
        "|067|LA PLATA|\n",
        "|069|LARIMER|\n",
        "|071|LAS ANIMAS|\n",
        "|073|LINCOLN|\n",
        "|075|LOGAN|\n",
        "|077|MESA|\n",
        "|079|MINERAL|\n",
        "|081|MOFFAT|\n",
        "|083|MONTEZUMA|\n",
        "|085|MONTROSE|\n",
        "|087|MORGAN|\n",
        "|089|OTERO|\n",
        "|091|OURAY|\n",
        "|093|PARK|\n",
        "|095|PHILLIPS|\n",
        "|097|PITKIN|\n",
        "|099|PROWERS|\n",
        "|101|PUEBLO|\n",
        "|103|RIO BLANCO|\n",
        "|105|RIO GRANDE|\n",
        "|107|ROUTT|\n",
        "|109|SAGUACHE|\n",
        "|111|SAN JUAN|\n",
        "|113|SAN MIGUEL|\n",
        "|115|SEDGWICK|\n",
        "|117|SUMMIT|\n",
        "|119|TELLER|\n",
        "|121|WASHINGTON|\n",
        "|123|WELD|\n",
        "|125|YUMA|"
      ]
    },
    {
      "cell_type": "code",
      "metadata": {
        "id": "75iRsYrKCsO-"
      },
      "source": [
        "COcounties = {'001': 'ADAMS',\n",
        "              '003': 'ALAMOSA',\n",
        "              '005': 'ARAPAHOE',\n",
        "              '007': 'ARCHULETA',\n",
        "              '009': 'BACA',\n",
        "              '011': 'BENT',\n",
        "              '013': 'BOULDER',\n",
        "              '014': 'BROOMFIELD',\n",
        "              '015': 'CHAFFEE',\n",
        "              '017': 'CHEYENNE',\n",
        "              '019': 'CLEAR CREEK',\n",
        "              '021': 'CONEJOS',\n",
        "              '023': 'COSTILLA',\n",
        "              '025': 'CROWLEY',\n",
        "              '027': 'CUSTER',\n",
        "              '029': 'DELTA',\n",
        "              '031': 'DENVER',\n",
        "              '033': 'DOLORES',\n",
        "              '035': 'DOUGLAS',\n",
        "              '037': 'EAGLE',\n",
        "              '039': 'ELBERT',\n",
        "              '041': 'EL PASO',\n",
        "              '043': 'FREMONT',\n",
        "              '045': 'GARFIELD',\n",
        "              '047': 'GILPIN',\n",
        "              '049': 'GRAND',\n",
        "              '051': 'GUNNISON',\n",
        "              '053': 'HINSDALE',\n",
        "              '055': 'HUERFANO',\n",
        "              '057': 'JACKSON',\n",
        "              '059': 'JEFFERSON',\n",
        "              '061': 'KIOWA',\n",
        "              '063': 'KIT CARSON',\n",
        "              '065': 'LAKE',\n",
        "              '067': 'LA PLATA',\n",
        "              '069': 'LARIMER',\n",
        "              '071': 'LAS ANIMAS',\n",
        "              '073': 'LINCOLN',\n",
        "              '075': 'LOGAN',\n",
        "              '077': 'MESA',\n",
        "              '079': 'MINERAL',\n",
        "              '081': 'MOFFAT',\n",
        "              '083': 'MONTEZUMA',\n",
        "              '085': 'MONTROSE',\n",
        "              '087': 'MORGAN',\n",
        "              '089': 'OTERO',\n",
        "              '091': 'OURAY',\n",
        "              '093': 'PARK',\n",
        "              '095': 'PHILLIPS',\n",
        "              '097': 'PITKIN',\n",
        "              '099': 'PROWERS',\n",
        "              '101': 'PUEBLO',\n",
        "              '103': 'RIO BLANCO',\n",
        "              '105': 'RIO GRANDE',\n",
        "              '107': 'ROUTT',\n",
        "              '109': 'SAGUACHE',\n",
        "              '111': 'SAN JUAN',\n",
        "              '113': 'SAN MIGUEL',\n",
        "              '115': 'SEDGWICK',\n",
        "              '117': 'SUMMIT',\n",
        "              '119': 'TELLER',\n",
        "              '121': 'WASHINGTON',\n",
        "              '123': 'WELD',\n",
        "              '125': 'YUMA'}"
      ],
      "execution_count": 7,
      "outputs": []
    },
    {
      "cell_type": "code",
      "metadata": {
        "id": "CjHU_RNGDV7x"
      },
      "source": [
        ""
      ],
      "execution_count": null,
      "outputs": []
    }
  ]
}